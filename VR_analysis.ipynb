{
  "nbformat": 4,
  "nbformat_minor": 0,
  "metadata": {
    "colab": {
      "provenance": [],
      "include_colab_link": true
    },
    "kernelspec": {
      "name": "python3",
      "display_name": "Python 3"
    },
    "language_info": {
      "name": "python"
    }
  },
  "cells": [
    {
      "cell_type": "markdown",
      "metadata": {
        "id": "view-in-github",
        "colab_type": "text"
      },
      "source": [
        "<a href=\"https://colab.research.google.com/github/lisa11323/VR_F/blob/main/VR_analysis.ipynb\" target=\"_parent\"><img src=\"https://colab.research.google.com/assets/colab-badge.svg\" alt=\"Open In Colab\"/></a>"
      ]
    },
    {
      "cell_type": "markdown",
      "source": [
        "#Module"
      ],
      "metadata": {
        "id": "p8hJ_94UdXaq"
      }
    },
    {
      "cell_type": "code",
      "source": [
        "!pip install gensim"
      ],
      "metadata": {
        "id": "VDO1RHooXeox"
      },
      "execution_count": null,
      "outputs": []
    },
    {
      "cell_type": "code",
      "source": [
        "!pip install pyLDAvis"
      ],
      "metadata": {
        "id": "9BBS_sfSbbI7"
      },
      "execution_count": null,
      "outputs": []
    },
    {
      "cell_type": "code",
      "source": [
        "!pip install nltk==3.8.1 --upgrade"
      ],
      "metadata": {
        "id": "GBpnQdNNc1Lx"
      },
      "execution_count": null,
      "outputs": []
    },
    {
      "cell_type": "code",
      "source": [
        "!pip install vaderSentiment"
      ],
      "metadata": {
        "id": "3eIac1SN__z4"
      },
      "execution_count": null,
      "outputs": []
    },
    {
      "cell_type": "code",
      "source": [
        "import re\n",
        "import numpy as np\n",
        "import nltk\n",
        "from nltk import PorterStemmer\n",
        "from nltk.corpus import stopwords\n",
        "from nltk.tag import pos_tag\n",
        "from nltk.stem import WordNetLemmatizer\n",
        "from nltk.tokenize import word_tokenize\n",
        "from nltk.tokenize import PunktSentenceTokenizer\n",
        "\n",
        "punkt_tokenizer = PunktSentenceTokenizer()\n",
        "lemmatizer = WordNetLemmatizer()\n",
        "nltk.download('punkt')\n",
        "nltk.download('stopwords')\n",
        "nltk.download('averaged_perceptron_tagger')\n",
        "nltk.download('wordnet')\n",
        "nltk.download('omw-1.4')\n",
        "nltk.download('vader_lexicon')\n",
        "\n",
        "\n",
        "import gensim\n",
        "from gensim import corpora\n",
        "from gensim.models import Phrases, CoherenceModel\n",
        "from gensim.models.phrases import Phraser\n",
        "from gensim.models.ldamodel import LdaModel\n",
        "\n",
        "from sklearn.feature_extraction.text import TfidfVectorizer, CountVectorizer\n",
        "from sklearn.decomposition import LatentDirichletAllocation\n",
        "\n",
        "import pyLDAvis\n",
        "\n",
        "import matplotlib.pyplot as plt\n",
        "import matplotlib.ticker as ticker\n",
        "from sklearn.preprocessing import StandardScaler\n",
        "scaler = StandardScaler()"
      ],
      "metadata": {
        "id": "7Swyo9XKG-eS",
        "colab": {
          "base_uri": "https://localhost:8080/"
        },
        "outputId": "809701aa-0adf-4098-c97c-f1925271b64d"
      },
      "execution_count": null,
      "outputs": [
        {
          "output_type": "stream",
          "name": "stderr",
          "text": [
            "[nltk_data] Downloading package punkt to /root/nltk_data...\n",
            "[nltk_data]   Unzipping tokenizers/punkt.zip.\n",
            "[nltk_data] Downloading package stopwords to /root/nltk_data...\n",
            "[nltk_data]   Unzipping corpora/stopwords.zip.\n",
            "[nltk_data] Downloading package averaged_perceptron_tagger to\n",
            "[nltk_data]     /root/nltk_data...\n",
            "[nltk_data]   Unzipping taggers/averaged_perceptron_tagger.zip.\n",
            "[nltk_data] Downloading package wordnet to /root/nltk_data...\n",
            "[nltk_data] Downloading package omw-1.4 to /root/nltk_data...\n",
            "[nltk_data] Downloading package vader_lexicon to /root/nltk_data...\n"
          ]
        }
      ]
    },
    {
      "cell_type": "markdown",
      "source": [
        "#Text Preprocessing"
      ],
      "metadata": {
        "id": "i3YdL47OdaXf"
      }
    },
    {
      "cell_type": "code",
      "source": [
        "# Upload dataset\n",
        "\n",
        "from google.colab import files\n",
        "\n",
        "uploaded = files.upload()\n",
        "\n",
        "print(\"Uploaded file(s):\", uploaded.keys())"
      ],
      "metadata": {
        "id": "YdkbhMM5OJ9f",
        "colab": {
          "base_uri": "https://localhost:8080/",
          "height": 93
        },
        "outputId": "dedc57d5-b244-4b18-82d5-3502c41ebe6e"
      },
      "execution_count": null,
      "outputs": [
        {
          "output_type": "display_data",
          "data": {
            "text/plain": [
              "<IPython.core.display.HTML object>"
            ],
            "text/html": [
              "\n",
              "     <input type=\"file\" id=\"files-d1c4e463-39cb-4f9c-b54c-de2c49d1b0fb\" name=\"files[]\" multiple disabled\n",
              "        style=\"border:none\" />\n",
              "     <output id=\"result-d1c4e463-39cb-4f9c-b54c-de2c49d1b0fb\">\n",
              "      Upload widget is only available when the cell has been executed in the\n",
              "      current browser session. Please rerun this cell to enable.\n",
              "      </output>\n",
              "      <script>// Copyright 2017 Google LLC\n",
              "//\n",
              "// Licensed under the Apache License, Version 2.0 (the \"License\");\n",
              "// you may not use this file except in compliance with the License.\n",
              "// You may obtain a copy of the License at\n",
              "//\n",
              "//      http://www.apache.org/licenses/LICENSE-2.0\n",
              "//\n",
              "// Unless required by applicable law or agreed to in writing, software\n",
              "// distributed under the License is distributed on an \"AS IS\" BASIS,\n",
              "// WITHOUT WARRANTIES OR CONDITIONS OF ANY KIND, either express or implied.\n",
              "// See the License for the specific language governing permissions and\n",
              "// limitations under the License.\n",
              "\n",
              "/**\n",
              " * @fileoverview Helpers for google.colab Python module.\n",
              " */\n",
              "(function(scope) {\n",
              "function span(text, styleAttributes = {}) {\n",
              "  const element = document.createElement('span');\n",
              "  element.textContent = text;\n",
              "  for (const key of Object.keys(styleAttributes)) {\n",
              "    element.style[key] = styleAttributes[key];\n",
              "  }\n",
              "  return element;\n",
              "}\n",
              "\n",
              "// Max number of bytes which will be uploaded at a time.\n",
              "const MAX_PAYLOAD_SIZE = 100 * 1024;\n",
              "\n",
              "function _uploadFiles(inputId, outputId) {\n",
              "  const steps = uploadFilesStep(inputId, outputId);\n",
              "  const outputElement = document.getElementById(outputId);\n",
              "  // Cache steps on the outputElement to make it available for the next call\n",
              "  // to uploadFilesContinue from Python.\n",
              "  outputElement.steps = steps;\n",
              "\n",
              "  return _uploadFilesContinue(outputId);\n",
              "}\n",
              "\n",
              "// This is roughly an async generator (not supported in the browser yet),\n",
              "// where there are multiple asynchronous steps and the Python side is going\n",
              "// to poll for completion of each step.\n",
              "// This uses a Promise to block the python side on completion of each step,\n",
              "// then passes the result of the previous step as the input to the next step.\n",
              "function _uploadFilesContinue(outputId) {\n",
              "  const outputElement = document.getElementById(outputId);\n",
              "  const steps = outputElement.steps;\n",
              "\n",
              "  const next = steps.next(outputElement.lastPromiseValue);\n",
              "  return Promise.resolve(next.value.promise).then((value) => {\n",
              "    // Cache the last promise value to make it available to the next\n",
              "    // step of the generator.\n",
              "    outputElement.lastPromiseValue = value;\n",
              "    return next.value.response;\n",
              "  });\n",
              "}\n",
              "\n",
              "/**\n",
              " * Generator function which is called between each async step of the upload\n",
              " * process.\n",
              " * @param {string} inputId Element ID of the input file picker element.\n",
              " * @param {string} outputId Element ID of the output display.\n",
              " * @return {!Iterable<!Object>} Iterable of next steps.\n",
              " */\n",
              "function* uploadFilesStep(inputId, outputId) {\n",
              "  const inputElement = document.getElementById(inputId);\n",
              "  inputElement.disabled = false;\n",
              "\n",
              "  const outputElement = document.getElementById(outputId);\n",
              "  outputElement.innerHTML = '';\n",
              "\n",
              "  const pickedPromise = new Promise((resolve) => {\n",
              "    inputElement.addEventListener('change', (e) => {\n",
              "      resolve(e.target.files);\n",
              "    });\n",
              "  });\n",
              "\n",
              "  const cancel = document.createElement('button');\n",
              "  inputElement.parentElement.appendChild(cancel);\n",
              "  cancel.textContent = 'Cancel upload';\n",
              "  const cancelPromise = new Promise((resolve) => {\n",
              "    cancel.onclick = () => {\n",
              "      resolve(null);\n",
              "    };\n",
              "  });\n",
              "\n",
              "  // Wait for the user to pick the files.\n",
              "  const files = yield {\n",
              "    promise: Promise.race([pickedPromise, cancelPromise]),\n",
              "    response: {\n",
              "      action: 'starting',\n",
              "    }\n",
              "  };\n",
              "\n",
              "  cancel.remove();\n",
              "\n",
              "  // Disable the input element since further picks are not allowed.\n",
              "  inputElement.disabled = true;\n",
              "\n",
              "  if (!files) {\n",
              "    return {\n",
              "      response: {\n",
              "        action: 'complete',\n",
              "      }\n",
              "    };\n",
              "  }\n",
              "\n",
              "  for (const file of files) {\n",
              "    const li = document.createElement('li');\n",
              "    li.append(span(file.name, {fontWeight: 'bold'}));\n",
              "    li.append(span(\n",
              "        `(${file.type || 'n/a'}) - ${file.size} bytes, ` +\n",
              "        `last modified: ${\n",
              "            file.lastModifiedDate ? file.lastModifiedDate.toLocaleDateString() :\n",
              "                                    'n/a'} - `));\n",
              "    const percent = span('0% done');\n",
              "    li.appendChild(percent);\n",
              "\n",
              "    outputElement.appendChild(li);\n",
              "\n",
              "    const fileDataPromise = new Promise((resolve) => {\n",
              "      const reader = new FileReader();\n",
              "      reader.onload = (e) => {\n",
              "        resolve(e.target.result);\n",
              "      };\n",
              "      reader.readAsArrayBuffer(file);\n",
              "    });\n",
              "    // Wait for the data to be ready.\n",
              "    let fileData = yield {\n",
              "      promise: fileDataPromise,\n",
              "      response: {\n",
              "        action: 'continue',\n",
              "      }\n",
              "    };\n",
              "\n",
              "    // Use a chunked sending to avoid message size limits. See b/62115660.\n",
              "    let position = 0;\n",
              "    do {\n",
              "      const length = Math.min(fileData.byteLength - position, MAX_PAYLOAD_SIZE);\n",
              "      const chunk = new Uint8Array(fileData, position, length);\n",
              "      position += length;\n",
              "\n",
              "      const base64 = btoa(String.fromCharCode.apply(null, chunk));\n",
              "      yield {\n",
              "        response: {\n",
              "          action: 'append',\n",
              "          file: file.name,\n",
              "          data: base64,\n",
              "        },\n",
              "      };\n",
              "\n",
              "      let percentDone = fileData.byteLength === 0 ?\n",
              "          100 :\n",
              "          Math.round((position / fileData.byteLength) * 100);\n",
              "      percent.textContent = `${percentDone}% done`;\n",
              "\n",
              "    } while (position < fileData.byteLength);\n",
              "  }\n",
              "\n",
              "  // All done.\n",
              "  yield {\n",
              "    response: {\n",
              "      action: 'complete',\n",
              "    }\n",
              "  };\n",
              "}\n",
              "\n",
              "scope.google = scope.google || {};\n",
              "scope.google.colab = scope.google.colab || {};\n",
              "scope.google.colab._files = {\n",
              "  _uploadFiles,\n",
              "  _uploadFilesContinue,\n",
              "};\n",
              "})(self);\n",
              "</script> "
            ]
          },
          "metadata": {}
        },
        {
          "output_type": "stream",
          "name": "stdout",
          "text": [
            "Saving vr_data.xlsx to vr_data.xlsx\n",
            "Uploaded file(s): dict_keys(['vr_data.xlsx'])\n"
          ]
        }
      ]
    },
    {
      "cell_type": "code",
      "source": [
        "import pandas as pd\n",
        "\n",
        "data = pd.read_excel('vr_data.xlsx')\n",
        "print(data.columns)"
      ],
      "metadata": {
        "id": "C6w1MotSFFdn",
        "colab": {
          "base_uri": "https://localhost:8080/"
        },
        "outputId": "e62f1e03-65eb-4d87-b66d-d5e1c5e653ab"
      },
      "execution_count": null,
      "outputs": [
        {
          "output_type": "stream",
          "name": "stdout",
          "text": [
            "Index(['Brand', 'Link', 'contents', 'star', 'helpfulness', 'purchase', 'name',\n",
            "       'date', 'helpful logit'],\n",
            "      dtype='object')\n"
          ]
        }
      ]
    },
    {
      "cell_type": "code",
      "source": [
        "original_len = len(data)\n",
        "print(f\"Rows before preprocessing: {original_len}\")"
      ],
      "metadata": {
        "colab": {
          "base_uri": "https://localhost:8080/"
        },
        "id": "R4J98DioXTV1",
        "outputId": "e239ac03-2f7f-4b2d-8a9f-5cac4cad95b9"
      },
      "execution_count": null,
      "outputs": [
        {
          "output_type": "stream",
          "name": "stdout",
          "text": [
            "Rows before preprocessing: 5656\n"
          ]
        }
      ]
    },
    {
      "cell_type": "code",
      "source": [
        "def preprocess_text(text):\n",
        "    if pd.isna(text):\n",
        "        return None\n",
        "    text = re.sub(' +', ' ', str(text))\n",
        "    text = re.sub(r'\\.+|\\!+|\\?+', '.', text)\n",
        "    sentences = punkt_tokenizer.tokenize(text.lower())\n",
        "\n",
        "    cells = []\n",
        "    for cell in sentences:\n",
        "        cell = re.sub(r'\\d+', '', cell)\n",
        "        cell = re.sub(r\"\\'ve\", \" have\", cell)\n",
        "        cell = re.sub(r\"n\\'t\", \" not\", cell)\n",
        "        cell = re.sub(r\"\\'ll\", \" will\", cell)\n",
        "        cell = re.sub(r\"dont\", \"do not\", cell)\n",
        "        cell = re.sub(r\"wont\", \"would not\", cell)\n",
        "        cell = re.sub(r\"alot\", \"a lot\", cell)\n",
        "        cells.append(cell)\n",
        "\n",
        "    return ' '.join(cells)\n",
        "\n",
        "data['preprocessed'] = data['contents'].astype(str).apply(preprocess_text)"
      ],
      "metadata": {
        "id": "hHqZ2lc9Yhhh"
      },
      "execution_count": null,
      "outputs": []
    },
    {
      "cell_type": "code",
      "source": [
        "data['tokens'] = data['preprocessed'].apply(lambda x: nltk.word_tokenize(x) if pd.notnull(x) else [])\n",
        "data['tokens'] = data['tokens'].apply(lambda x: [w for w in x if len(w) > 2])\n",
        "\n",
        "\n",
        "# POS tagging\n",
        "data['tagged'] = data['tokens'].apply(lambda x: pos_tag(x))\n",
        "\n",
        "# Remove unnecessary POS tags\n",
        "exclude_pos = {'DT', 'IN', 'CC', 'TO', 'MD', 'PRP', 'PRP$', 'UH'}\n",
        "data['filtered'] = data['tagged'].apply(lambda x: [(w, p) for w, p in x if p not in exclude_pos])\n",
        "\n",
        "# Lemmatization\n",
        "nn = ['NN', 'NNS', 'NNP', 'NNPS']\n",
        "vb = ['VB', 'VBD', 'VBG', 'VBN', 'VBP', 'VBZ']\n",
        "lemmatizer = WordNetLemmatizer()\n",
        "\n",
        "data['lemmed'] = data['filtered'].apply(\n",
        "    lambda x: [(lemmatizer.lemmatize(w, pos='n'), p) if p in nn else (w, p) for w, p in x]\n",
        ")\n",
        "data['lemmed'] = data['lemmed'].apply(\n",
        "    lambda x: [(lemmatizer.lemmatize(w, pos='v'), p) if p in vb else (w, p) for w, p in x]\n",
        ")\n",
        "\n",
        "stop_en = stopwords.words('english')\n",
        "stop_es = stopwords.words('spanish')\n",
        "stop_fr = stopwords.words('french')\n",
        "stop_de = stopwords.words('german')\n",
        "stop_multi = set(stopwords.words('english') + stopwords.words('spanish') + stopwords.words('french') + stopwords.words('german'))\n",
        "custom_stops = [\"vr\", \"excellent\", \"love\", \"like\", \"awesome\", \"good\", \"great\", \"best\", \"perfect\", \"way\", \"use\", \"very\", \"nice\",\n",
        "                \"wish\", \"super\", \"need\", \"want\", \"thanks\", \"thank\", \"lot\", \"let\", \"make\", \"people\", \"help\", 'ist',\n",
        "                'really', 'recommend', 'better', 'fun', 'cool', 'pretty', 'enjoy', 'happy', 'highly', 'definitely', 'awesome',\n",
        "                'try', 'thing', 'new', 'say', 'look', 'time', 'day', 'week', 'hour','para', 'muy', 'una', 'los', 'la', 'por',\n",
        "                'pero', 'del', 'como', 'las', 'más', 'poco', 'sin', 'tiene', 'todo', 'solo', 'uso', 'mucho',\n",
        "                'ich', 'die', 'der', 'que', 'son', 'buy', 'est', 'pour', 'vous', 'pa', 'une', 'les', 'sur', 'mais',\n",
        "                 'man', 'nicht', 'da', 'für', 'und', 'auch', 'aber', 'mit', 'das', 'den', 'auf', 'kann', 'ein', 'eine',\n",
        "                'habe', 'von', 'sich', 'wie', 'bei', 'wird', 'hat', 'sie', 'mir', 'war', 'oder', 'nach', 'noch',\n",
        "                'one', 'well', 'even', 'go', 'get', 'use', 'also', 'thing', 'really', 'see']\n",
        "stop_multi.update(custom_stops)\n",
        "remove_pos = ['MD', 'IN', 'CC', 'DT', 'EX']\n",
        "\n",
        "data['processed_text'] = data['lemmed'].apply(lambda x: [w for w, p in x if w not in stop_multi and p not in remove_pos])"
      ],
      "metadata": {
        "id": "8K6hOFHSYwnY"
      },
      "execution_count": null,
      "outputs": []
    },
    {
      "cell_type": "code",
      "source": [
        "print(f\"Total number of rows: {len(data)}\")\n",
        "print(f\"Empty token lists: {data['processed_text'].apply(lambda x: len(x) == 0).sum()}\")\n",
        "print(f\"Valid token lists: {data['processed_text'].apply(lambda x: len(x) > 0).sum()}\")\n",
        "print(f\"Duplicated indices: {data.index.duplicated().sum()}개\")"
      ],
      "metadata": {
        "colab": {
          "base_uri": "https://localhost:8080/"
        },
        "id": "V41UxXdKgwf5",
        "outputId": "86ddc307-c464-43bd-b543-517f6af109b1"
      },
      "execution_count": null,
      "outputs": [
        {
          "output_type": "stream",
          "name": "stdout",
          "text": [
            "Total number of rows: 5656\n",
            "Empty token lists: 251\n",
            "Valid token lists: 5405\n",
            "Duplicated indices: 0개\n"
          ]
        }
      ]
    },
    {
      "cell_type": "code",
      "source": [
        "data = data[data['processed_text'].apply(lambda x: len(x) > 0)]"
      ],
      "metadata": {
        "id": "t9rV-cah77z0"
      },
      "execution_count": null,
      "outputs": []
    },
    {
      "cell_type": "code",
      "source": [
        "len(data)"
      ],
      "metadata": {
        "colab": {
          "base_uri": "https://localhost:8080/"
        },
        "id": "HPRO_zeI9H5c",
        "outputId": "1f2b891c-8f57-4b15-bb17-54ca42805dbe"
      },
      "execution_count": null,
      "outputs": [
        {
          "output_type": "execute_result",
          "data": {
            "text/plain": [
              "5405"
            ]
          },
          "metadata": {},
          "execution_count": 12
        }
      ]
    },
    {
      "cell_type": "markdown",
      "source": [
        "#LDA Topic Modeling"
      ],
      "metadata": {
        "id": "hmi1shv4dJZ5"
      }
    },
    {
      "cell_type": "code",
      "source": [
        "tokenized_doc = data['processed_text'].dropna().tolist()\n",
        "tokenized_doc = [doc for doc in tokenized_doc if len(doc) > 0]"
      ],
      "metadata": {
        "id": "wfduhVqShe9Y"
      },
      "execution_count": null,
      "outputs": []
    },
    {
      "cell_type": "code",
      "source": [
        "dictionary = corpora.Dictionary(tokenized_doc)\n",
        "bow_corpus = [dictionary.doc2bow(text) for text in tokenized_doc]"
      ],
      "metadata": {
        "id": "kI63-KgifKYd"
      },
      "execution_count": null,
      "outputs": []
    },
    {
      "cell_type": "code",
      "source": [
        "k = 10\n",
        "\n",
        "lda_model = LdaModel(corpus=bow_corpus,\n",
        "                     id2word=dictionary,\n",
        "                     num_topics=k,\n",
        "                     random_state=42,\n",
        "                     chunksize=100,\n",
        "                     passes=10,\n",
        "                     alpha='auto',\n",
        "                     per_word_topics=True)\n",
        "\n",
        "# Perplexity\n",
        "perplexity = lda_model.log_perplexity(bow_corpus)\n",
        "\n",
        "# Coherence\n",
        "coherence_model = CoherenceModel(model=lda_model,\n",
        "                                 texts=tokenized_doc,\n",
        "                                 dictionary=dictionary,\n",
        "                                 coherence='c_v')\n",
        "coherence = coherence_model.get_coherence()\n",
        "\n",
        "k_values = np.array([[perplexity, coherence]])\n",
        "k_ran = [k]\n",
        "\n",
        "print(f\"Topic Num: {k}\")\n",
        "print(f\"Perplexity: {perplexity}\")\n",
        "print(f\"Coherence: {coherence}\")"
      ],
      "metadata": {
        "colab": {
          "base_uri": "https://localhost:8080/"
        },
        "id": "PqjNC0Yt74Bv",
        "outputId": "cfa99b4a-6042-4ab7-f7b6-ca02cb72f483"
      },
      "execution_count": null,
      "outputs": [
        {
          "output_type": "stream",
          "name": "stdout",
          "text": [
            "Topic Num: 10\n",
            "Perplexity: -8.713052825603796\n",
            "Coherence: 0.3988469157986868\n"
          ]
        }
      ]
    },
    {
      "cell_type": "code",
      "source": [
        "topicn = 10\n",
        "topn = 30\n",
        "seed = 42\n",
        "\n",
        "detokenized_doc = [' '.join(doc) for doc in tokenized_doc]\n",
        "\n",
        "vectorizer = CountVectorizer(stop_words=list(stop_multi), max_df=0.3, max_features=1500, min_df=3)\n",
        "X = vectorizer.fit_transform(detokenized_doc)\n",
        "\n",
        "# Train LDA model\n",
        "lda_model = LatentDirichletAllocation(n_components=topicn, learning_method='batch', random_state=seed, max_iter=20, doc_topic_prior=0.4, topic_word_prior=0.2)\n",
        "lda_model.fit(X)\n",
        "\n",
        "probs = lda_model.transform(X)\n",
        "terms = vectorizer.get_feature_names_out()\n",
        "beta = lda_model.components_ / lda_model.components_.sum(axis=1)[:, np.newaxis]\n",
        "\n",
        "def get_topics(components, feature_names, n):\n",
        "    for i, topic in enumerate(components):\n",
        "        print(f\"Topic {i+1}:\", [(feature_names[j], round(topic[j], 2)) for j in topic.argsort()[:-n - 1:-1]])\n",
        "\n",
        "print(lda_model.components_.shape)\n",
        "get_topics(lda_model.components_, terms, topn)"
      ],
      "metadata": {
        "colab": {
          "base_uri": "https://localhost:8080/"
        },
        "id": "CyPK0QpI-XNx",
        "outputId": "2e59a1b8-4414-452a-eb72-cd7eef979469"
      },
      "execution_count": null,
      "outputs": [
        {
          "output_type": "stream",
          "name": "stdout",
          "text": [
            "(10, 1500)\n",
            "Topic 1: [('game', 1010.81), ('play', 504.68), ('headset', 397.91), ('experience', 346.92), ('screen', 295.51), ('psvr', 271.02), ('feel', 266.49), ('motion', 255.36), ('resolution', 217.6), ('watch', 200.96), ('take', 182.87), ('effect', 175.28), ('first', 174.84), ('sony', 161.19), ('movie', 158.98), ('move', 151.68), ('sickness', 143.18), ('graphic', 134.4), ('immersive', 127.46), ('still', 113.92), ('much', 112.74), ('head', 112.56), ('set', 112.14), ('high', 106.08), ('many', 105.18), ('world', 101.63), ('demo', 101.3), ('price', 101.16), ('find', 98.03), ('quite', 97.52)]\n",
            "Topic 2: [('work', 1157.37), ('issue', 579.83), ('headset', 350.15), ('problem', 257.66), ('star', 234.8), ('give', 173.63), ('update', 168.64), ('support', 166.2), ('fix', 161.14), ('software', 128.26), ('product', 124.74), ('fine', 122.15), ('never', 119.54), ('everything', 115.1), ('return', 113.73), ('know', 112.86), ('cable', 112.66), ('still', 110.19), ('find', 110.04), ('box', 107.23), ('vive', 104.16), ('back', 103.65), ('nothing', 97.76), ('htc', 94.63), ('damage', 86.18), ('connect', 84.11), ('seem', 83.44), ('device', 80.98), ('set', 80.33), ('error', 77.19)]\n",
            "Topic 3: [('controller', 594.76), ('button', 139.47), ('brille', 120.2), ('headset', 106.49), ('track', 96.74), ('control', 95.5), ('video', 94.62), ('right', 90.19), ('pixel', 83.31), ('power', 81.82), ('hand', 80.17), ('turn', 77.4), ('pad', 75.89), ('problem', 71.83), ('min', 64.27), ('pair', 61.75), ('gut', 56.19), ('top', 54.62), ('everything', 52.87), ('usb', 52.86), ('click', 50.11), ('side', 47.3), ('touch', 45.45), ('press', 44.67), ('apps', 43.82), ('oculus', 42.76), ('fall', 42.19), ('app', 41.12), ('stick', 38.64), ('schon', 33.2)]\n",
            "Topic 4: [('game', 990.68), ('experience', 715.59), ('play', 464.05), ('amaze', 338.75), ('year', 296.87), ('amazing', 275.67), ('think', 246.45), ('come', 223.41), ('real', 218.94), ('virtual', 205.89), ('world', 205.73), ('old', 189.12), ('technology', 185.64), ('feel', 183.19), ('ever', 182.89), ('wait', 176.19), ('reality', 170.77), ('future', 169.81), ('much', 167.44), ('first', 160.17), ('still', 147.41), ('know', 147.37), ('system', 143.04), ('kid', 139.91), ('away', 137.41), ('blow', 136.97), ('put', 134.69), ('absolutely', 130.16), ('review', 123.7), ('take', 121.01)]\n",
            "Topic 5: [('htc', 377.75), ('month', 320.96), ('base', 318.29), ('send', 288.06), ('station', 271.17), ('back', 258.01), ('repair', 256.19), ('customer', 225.14), ('support', 224.08), ('receive', 201.39), ('return', 195.32), ('vive', 193.9), ('amazon', 189.8), ('tell', 187.43), ('product', 179.55), ('service', 165.97), ('unit', 165.5), ('pay', 158.31), ('contact', 147.25), ('warranty', 141.19), ('ship', 137.09), ('break', 126.3), ('replacement', 124.73), ('purchase', 119.39), ('take', 114.26), ('system', 112.01), ('first', 111.68), ('order', 108.46), ('wait', 101.41), ('still', 98.27)]\n",
            "Topic 6: [('product', 610.52), ('price', 144.57), ('christmas', 125.35), ('money', 121.81), ('gift', 121.19), ('worth', 83.21), ('bien', 79.2), ('husband', 66.89), ('producto', 63.2), ('fantastic', 62.87), ('fast', 57.9), ('calidad', 57.2), ('bought', 56.6), ('waste', 56.23), ('juegos', 56.2), ('casque', 55.2), ('present', 48.44), ('oculus', 48.0), ('exactly', 47.78), ('item', 47.63), ('experiencia', 45.2), ('gafas', 45.2), ('purchase', 44.9), ('quest', 44.2), ('virtual', 41.2), ('condition', 40.18), ('arrive', 39.1), ('buena', 38.2), ('grandson', 37.19), ('application', 36.0)]\n",
            "Topic 7: [('phone', 549.26), ('samsung', 303.18), ('note', 256.14), ('gear', 250.1), ('usb', 222.06), ('apps', 184.19), ('device', 180.72), ('adapter', 171.77), ('app', 164.24), ('come', 162.81), ('watch', 156.17), ('battery', 154.57), ('galaxy', 139.19), ('non', 135.52), ('work', 118.75), ('video', 114.34), ('charge', 97.24), ('oculus', 96.33), ('che', 96.2), ('content', 93.2), ('version', 88.94), ('model', 82.18), ('edge', 81.56), ('download', 71.4), ('movie', 69.18), ('include', 68.79), ('compatible', 68.02), ('overheat', 64.19), ('minute', 61.53), ('micro', 61.09)]\n",
            "Topic 8: [('game', 405.96), ('vive', 364.84), ('set', 360.71), ('room', 311.13), ('setup', 284.11), ('system', 239.85), ('play', 234.73), ('steam', 225.1), ('easy', 220.45), ('computer', 203.64), ('run', 200.22), ('cable', 195.66), ('space', 174.8), ('card', 159.0), ('sure', 153.79), ('take', 149.16), ('graphic', 138.8), ('wall', 134.76), ('port', 124.89), ('hdmi', 120.09), ('far', 114.14), ('come', 111.59), ('purchase', 108.79), ('display', 106.22), ('mount', 104.18), ('htc', 102.88), ('experience', 98.72), ('box', 91.14), ('family', 88.73), ('enough', 85.87)]\n",
            "Topic 9: [('vive', 1244.88), ('rift', 446.28), ('headset', 438.69), ('oculus', 418.69), ('pro', 376.31), ('htc', 283.53), ('game', 255.33), ('price', 241.86), ('controller', 241.38), ('track', 200.1), ('original', 198.81), ('experience', 193.87), ('much', 190.97), ('still', 122.76), ('screen', 115.45), ('audio', 111.64), ('upgrade', 110.48), ('wireless', 104.94), ('compare', 102.8), ('room', 101.71), ('come', 101.49), ('resolution', 91.9), ('less', 87.39), ('system', 86.7), ('play', 84.7), ('right', 84.19), ('lack', 83.43), ('scale', 83.34), ('wire', 83.26), ('headphone', 82.07)]\n",
            "Topic 10: [('quality', 393.91), ('lens', 346.15), ('headset', 313.23), ('cardboard', 276.09), ('head', 269.89), ('work', 265.0), ('glass', 243.16), ('fit', 228.94), ('little', 227.13), ('comfortable', 224.18), ('wear', 221.07), ('much', 199.0), ('eye', 190.97), ('phone', 188.35), ('price', 183.32), ('strap', 182.1), ('focus', 177.17), ('adjust', 176.29), ('blurry', 175.18), ('image', 169.99), ('easy', 165.52), ('put', 162.77), ('face', 144.86), ('cheap', 137.86), ('nose', 131.19), ('bit', 130.68), ('google', 129.47), ('picture', 119.93), ('set', 117.43), ('expect', 117.34)]\n"
          ]
        }
      ]
    },
    {
      "cell_type": "code",
      "source": [
        "import pyLDAvis\n",
        "from pyLDAvis import prepare\n",
        "# Document-topic distribution\n",
        "doc_topic_dists = lda_model.transform(X)\n",
        "# Number of words per document\n",
        "doc_lengths = np.array(X.sum(axis=1)).flatten()\n",
        "\n",
        "terms = vectorizer.get_feature_names_out()\n",
        "term_frequency = np.array(X.sum(axis=0)).flatten()\n",
        "\n",
        "topic_term_dists = lda_model.components_ / lda_model.components_.sum(axis=1)[:, np.newaxis]\n",
        "\n",
        "# Create pyLDAvis visualization object\n",
        "vis = pyLDAvis.prepare(\n",
        "    topic_term_dists=topic_term_dists,\n",
        "    doc_topic_dists=doc_topic_dists,\n",
        "    doc_lengths=doc_lengths,\n",
        "    vocab=terms,\n",
        "    term_frequency=term_frequency\n",
        ")\n",
        "\n",
        "pyLDAvis.enable_notebook()\n",
        "pyLDAvis.display(vis)"
      ],
      "metadata": {
        "colab": {
          "base_uri": "https://localhost:8080/",
          "height": 881
        },
        "id": "U32UAvpD8O1U",
        "outputId": "51babe0e-6574-4036-fb22-91a49f523171"
      },
      "execution_count": null,
      "outputs": [
        {
          "output_type": "execute_result",
          "data": {
            "text/plain": [
              "<IPython.core.display.HTML object>"
            ],
            "text/html": [
              "\n",
              "<link rel=\"stylesheet\" type=\"text/css\" href=\"https://cdn.jsdelivr.net/gh/bmabey/pyLDAvis@3.4.0/pyLDAvis/js/ldavis.v1.0.0.css\">\n",
              "\n",
              "\n",
              "<div id=\"ldavis_el6281359870944806883368346288\" style=\"background-color:white;\"></div>\n",
              "<script type=\"text/javascript\">\n",
              "\n",
              "var ldavis_el6281359870944806883368346288_data = {\"mdsDat\": {\"x\": [0.11392343328686176, 0.07047967828442815, 0.14572640531324513, 0.13173504297249228, 0.037714944910752835, 0.04016233652564442, 0.05529931538281556, -0.06230060474685097, -0.16063324323002695, -0.3721073086993629], \"y\": [-0.05650931284715597, -0.01583366425172751, 0.07763134763266515, 0.02164299164676795, -0.12125197980043503, 0.1965194069787016, 0.09218845552772496, -0.12292806125250656, -0.23301672200912515, 0.16155753837509063], \"topics\": [1, 2, 3, 4, 5, 6, 7, 8, 9, 10], \"cluster\": [1, 1, 1, 1, 1, 1, 1, 1, 1, 1], \"Freq\": [14.489324527033226, 13.871639187602419, 13.712362218440749, 11.394489977532963, 11.379529803619933, 10.098774920089996, 10.090947005547443, 7.078851792014111, 4.533269433388766, 3.3508111347303777]}, \"tinfo\": {\"Term\": [\"product\", \"controller\", \"work\", \"game\", \"vive\", \"phone\", \"issue\", \"price\", \"htc\", \"play\", \"experience\", \"rift\", \"samsung\", \"oculus\", \"lens\", \"month\", \"quality\", \"base\", \"note\", \"pro\", \"gear\", \"money\", \"send\", \"set\", \"usb\", \"station\", \"amaze\", \"problem\", \"repair\", \"room\", \"motion\", \"sickness\", \"sick\", \"toy\", \"batman\", \"sony\", \"roller\", \"evil\", \"resident\", \"ride\", \"dawn\", \"eve\", \"impress\", \"psvr\", \"nintendo\", \"lol\", \"dizziness\", \"ease\", \"coaster\", \"hdr\", \"giant\", \"ultimately\", \"nauseous\", \"theater\", \"club\", \"valkyrie\", \"ps\", \"disk\", \"workmanship\", \"driveclub\", \"sense\", \"rush\", \"console\", \"resolution\", \"effect\", \"movie\", \"blood\", \"entertainment\", \"immersive\", \"game\", \"screen\", \"watch\", \"play\", \"feel\", \"mode\", \"especially\", \"move\", \"graphic\", \"quite\", \"demo\", \"experience\", \"headset\", \"high\", \"playstation\", \"take\", \"first\", \"low\", \"yet\", \"door\", \"many\", \"head\", \"world\", \"still\", \"set\", \"much\", \"find\", \"price\", \"rift\", \"gen\", \"original\", \"choice\", \"roomscale\", \"reduce\", \"sde\", \"pro\", \"honest\", \"community\", \"choose\", \"mixed\", \"overprice\", \"wmr\", \"ecosystem\", \"steep\", \"various\", \"beat\", \"exclusive\", \"speaker\", \"anti\", \"currently\", \"upgrade\", \"difference\", \"tag\", \"professional\", \"party\", \"interested\", \"audio\", \"saber\", \"valve\", \"noticeable\", \"hmd\", \"vive\", \"oculus\", \"wireless\", \"lack\", \"compare\", \"tracking\", \"improvement\", \"library\", \"track\", \"wire\", \"price\", \"htc\", \"headset\", \"headphone\", \"controller\", \"scale\", \"sound\", \"much\", \"less\", \"content\", \"game\", \"experience\", \"still\", \"screen\", \"resolution\", \"room\", \"come\", \"door\", \"point\", \"right\", \"system\", \"play\", \"truly\", \"amazing\", \"amaze\", \"old\", \"gamer\", \"brother\", \"dream\", \"jump\", \"brain\", \"blow\", \"freak\", \"crazy\", \"closer\", \"blowing\", \"playroom\", \"young\", \"wow\", \"nephew\", \"kid\", \"forever\", \"glad\", \"law\", \"reality\", \"year\", \"literally\", \"word\", \"future\", \"greatest\", \"social\", \"block\", \"technology\", \"gaming\", \"walk\", \"real\", \"incredible\", \"virtual\", \"ever\", \"world\", \"job\", \"experience\", \"absolutely\", \"game\", \"away\", \"wait\", \"think\", \"play\", \"mind\", \"camera\", \"feel\", \"come\", \"know\", \"put\", \"friend\", \"much\", \"first\", \"review\", \"still\", \"system\", \"take\", \"mount\", \"gtx\", \"gpu\", \"wall\", \"monitor\", \"floor\", \"coolest\", \"ram\", \"displayport\", \"tripod\", \"ceiling\", \"crash\", \"drill\", \"cash\", \"requirement\", \"pirate\", \"trainer\", \"tutorial\", \"card\", \"audioshield\", \"drawback\", \"dedicate\", \"cpu\", \"hdmi\", \"possibility\", \"extension\", \"measure\", \"mini\", \"lab\", \"handle\", \"port\", \"setup\", \"steam\", \"space\", \"room\", \"computer\", \"cord\", \"run\", \"set\", \"cable\", \"easy\", \"display\", \"graphic\", \"area\", \"system\", \"sure\", \"family\", \"ready\", \"scale\", \"vive\", \"game\", \"play\", \"far\", \"take\", \"plug\", \"purchase\", \"come\", \"htc\", \"box\", \"experience\", \"enough\", \"lens\", \"focus\", \"blurry\", \"nose\", \"uncomfortable\", \"iphone\", \"velcro\", \"hurt\", \"adjustable\", \"cardboard\", \"adjust\", \"vision\", \"forehead\", \"comfortably\", \"padding\", \"pressure\", \"material\", \"assemble\", \"soft\", \"fuzzy\", \"fog\", \"adjustment\", \"suction\", \"plastic\", \"headband\", \"assembly\", \"cheap\", \"lightweight\", \"painful\", \"interesting\", \"image\", \"glass\", \"sturdy\", \"fit\", \"picture\", \"scratch\", \"wear\", \"quality\", \"eye\", \"head\", \"comfortable\", \"strap\", \"remote\", \"face\", \"little\", \"clear\", \"hold\", \"google\", \"put\", \"easy\", \"headset\", \"much\", \"price\", \"work\", \"phone\", \"bit\", \"expect\", \"set\", \"repair\", \"customer\", \"service\", \"warranty\", \"send\", \"defective\", \"stylus\", \"chat\", \"broken\", \"refuse\", \"ticket\", \"station\", \"rma\", \"twice\", \"garbage\", \"exchange\", \"rep\", \"paper\", \"blink\", \"month\", \"ridiculous\", \"promotion\", \"credit\", \"trash\", \"contact\", \"defect\", \"mail\", \"league\", \"base\", \"status\", \"ship\", \"replacement\", \"receive\", \"tell\", \"ask\", \"manufacturer\", \"replace\", \"refund\", \"amazon\", \"unit\", \"pay\", \"kit\", \"return\", \"htc\", \"number\", \"support\", \"back\", \"break\", \"company\", \"order\", \"product\", \"wait\", \"vive\", \"purchase\", \"take\", \"system\", \"first\", \"still\", \"damage\", \"error\", \"driver\", \"solve\", \"troubleshoot\", \"respond\", \"brand\", \"five\", \"detect\", \"label\", \"request\", \"frustration\", \"policy\", \"forum\", \"frustrating\", \"liquid\", \"shame\", \"frustrate\", \"issue\", \"tried\", \"doesnt\", \"luck\", \"resolve\", \"technical\", \"thats\", \"star\", \"date\", \"unable\", \"struggle\", \"previous\", \"firmware\", \"work\", \"code\", \"solution\", \"fix\", \"problem\", \"update\", \"dead\", \"fine\", \"water\", \"software\", \"nothing\", \"sweat\", \"connect\", \"support\", \"give\", \"never\", \"headset\", \"return\", \"everything\", \"cable\", \"know\", \"box\", \"find\", \"stop\", \"seem\", \"still\", \"product\", \"back\", \"htc\", \"vive\", \"device\", \"set\", \"samsung\", \"note\", \"galaxy\", \"che\", \"overheat\", \"battery\", \"heat\", \"gear\", \"connector\", \"questo\", \"sono\", \"charger\", \"prodotto\", \"adapter\", \"pi\\u00f9\", \"molto\", \"adaptor\", \"slot\", \"compatible\", \"auto\", \"qualit\\u00e0\", \"micro\", \"drain\", \"model\", \"hot\", \"file\", \"non\", \"app\", \"description\", \"white\", \"phone\", \"apps\", \"usb\", \"charge\", \"edge\", \"download\", \"watch\", \"device\", \"content\", \"version\", \"netflix\", \"come\", \"video\", \"include\", \"movie\", \"oculus\", \"work\", \"minute\", \"brille\", \"gut\", \"click\", \"schon\", \"min\", \"einfach\", \"mus\", \"wirklich\", \"mehr\", \"gibt\", \"preis\", \"xmas\", \"thumb\", \"bild\", \"leider\", \"faster\", \"nat\\u00fcrlich\", \"filme\", \"spielen\", \"immer\", \"ger\\u00e4t\", \"besser\", \"useful\", \"ipd\", \"rubber\", \"gearvr\", \"handy\", \"combine\", \"prime\", \"wonderful\", \"pair\", \"controller\", \"button\", \"pixel\", \"control\", \"press\", \"mal\", \"power\", \"pad\", \"hand\", \"fall\", \"turn\", \"track\", \"menu\", \"top\", \"video\", \"right\", \"stick\", \"touch\", \"problem\", \"headset\", \"side\", \"usb\", \"everything\", \"apps\", \"app\", \"oculus\", \"gift\", \"bien\", \"producto\", \"christmas\", \"calidad\", \"juegos\", \"casque\", \"experiencia\", \"gafas\", \"condition\", \"buena\", \"grandson\", \"birthday\", \"precio\", \"penny\", \"ver\", \"mejor\", \"husband\", \"excelente\", \"tr\\u00e8s\", \"realidad\", \"bastante\", \"delivery\", \"aunque\", \"qualit\\u00e9\", \"satisfied\", \"resoluci\\u00f3n\", \"perfecto\", \"lentes\", \"jeux\", \"waste\", \"bought\", \"product\", \"present\", \"fantastic\", \"daughter\", \"exactly\", \"money\", \"quest\", \"price\", \"fast\", \"worth\", \"item\", \"arrive\", \"application\", \"oculus\", \"purchase\", \"virtual\"], \"Freq\": [976.0, 970.0, 1600.0, 2575.0, 1879.0, 732.0, 670.0, 655.0, 848.0, 1270.0, 1365.0, 450.0, 303.0, 602.0, 326.0, 345.0, 522.0, 351.0, 257.0, 397.0, 262.0, 368.0, 289.0, 664.0, 321.0, 285.0, 332.0, 408.0, 255.0, 466.0, 248.49269024616305, 139.33271999015705, 91.63389298865921, 42.00583673094146, 39.09329077148214, 156.86072290160664, 35.211933469871774, 35.20753256218343, 33.25017472072435, 31.316740424159004, 33.01402882309248, 28.399737250358253, 27.41171210989469, 263.73594143536064, 24.48627227744232, 49.59740717935476, 22.560171078080213, 22.553487205713964, 36.04885756610071, 21.594041796955253, 26.769736285962022, 19.623952789330882, 19.553714599789508, 49.76344021440227, 17.688367564815685, 16.73320591216409, 15.75476482830893, 15.735575833833309, 14.784489485087757, 14.778019628044273, 57.995357713388756, 36.31458884729944, 52.812361872306425, 211.74680460640917, 170.56783779023914, 154.70764826352863, 30.85888453913407, 46.49327727969434, 124.03703841281971, 983.6412059980669, 287.56307375276947, 195.5586147711547, 491.11835505973727, 259.3298320094296, 57.802275844489685, 84.83424030863411, 147.60389914947532, 130.7906242624776, 94.90047108623438, 98.57985192123361, 337.5933723437032, 387.2166844474854, 103.22539568466593, 80.23831555410428, 177.95410769079558, 170.14437579785113, 73.01994085873386, 89.65096672833171, 77.9800006008837, 102.35241638096748, 109.52986694233704, 98.89429518375134, 110.85639923179626, 109.13019297412194, 109.71421853146639, 95.397559395729, 98.44360982601103, 438.8621114664239, 64.04682480031649, 195.5024638247655, 55.24266743386834, 30.665482067897297, 30.48616921629586, 26.733718686301856, 370.048703631084, 24.745303572864707, 18.864708964973012, 32.1869586945215, 17.887805895229544, 17.865599638964685, 16.90145080949214, 16.89503325972458, 16.88202434675382, 16.870428802186044, 52.295740261136054, 15.909104396395618, 26.44511654003157, 14.92281761333872, 64.42773934757784, 108.64197090090222, 58.89784024413503, 41.347443188320554, 13.684514159939571, 48.03161955553138, 19.82100767039734, 109.78023151225811, 28.625414018037052, 41.67546935796956, 47.063567426277075, 57.434727910402444, 1224.1781179048978, 411.7282136289565, 103.19426758347778, 82.04755207545755, 101.08658993421011, 76.4875314055632, 53.24140204535877, 36.00788058632536, 196.77247806314668, 81.87688543522334, 237.84149017478722, 278.81656536950555, 431.3969010500246, 80.70731126811997, 237.36999426914494, 81.94992562270056, 72.25097294724449, 187.79513816304646, 85.93633062919716, 80.44359661024933, 251.07961060950723, 190.64617931372857, 120.71730988470843, 113.53160718415772, 90.3678724153359, 100.01852279314264, 99.7994156083596, 74.64042158472418, 78.84781367690225, 82.78528311840351, 85.25343652352323, 83.295245730631, 107.88938445623586, 261.13107826051936, 320.88537259841644, 179.14406194415517, 67.53282138194257, 32.36869442250544, 31.425508929107533, 58.8159632072973, 21.904130204843458, 129.75099918401656, 19.117323666339882, 40.826161072514616, 18.157831258431017, 15.334930027294389, 15.328571824511119, 15.313348495292512, 84.24664671940396, 14.37465522070924, 132.53365751728077, 13.421633620824638, 55.64934086457649, 17.828971644017326, 161.7674460302799, 281.2105649490696, 49.66694160577803, 49.800706726603565, 160.8496256120172, 16.912951734551086, 23.72328212615225, 22.899208711086104, 175.84576317929665, 101.92783130401924, 77.12073888594526, 207.39519950953795, 72.61163711358451, 195.03261869012144, 173.24738783919057, 194.88084694788827, 64.74050019043194, 677.8505144938404, 123.29620208097577, 938.4346215236263, 130.1637659102925, 166.89906969418533, 233.4489444753136, 439.57814418257357, 93.80950607841305, 109.22817421151424, 173.5285614878354, 211.62717121751788, 139.59648244688853, 127.58967180762009, 100.47129133568491, 158.60527054387765, 151.72144759568846, 117.17656770609145, 139.6347027908179, 135.49442086921266, 114.62850455115532, 102.86762908087891, 79.17076756711461, 44.617292531591424, 133.0681572327623, 69.09806848651131, 30.73478006588655, 28.79970826101818, 30.48188849729796, 25.860469259219077, 23.887992660817893, 32.0428437659318, 24.67217042685419, 21.906063670222807, 30.031963159937014, 24.507695722495278, 19.93375720868888, 18.94715463761607, 18.934160201405522, 157.00286648182913, 16.968263657711514, 16.954540840359954, 15.824317806253152, 26.21395185087279, 118.57730996554744, 14.487173304950069, 15.655203149491028, 20.772879006281826, 32.67905759147402, 34.8826669157505, 53.74691543188329, 123.32133028212394, 280.54441124307374, 222.27424581458337, 172.60665533681743, 307.22251309073, 201.08165120409572, 75.51397479640507, 197.70029044320611, 356.1760562719068, 193.19811493090174, 217.68292319864096, 104.88840466788254, 137.05682227476464, 78.50341140460678, 236.8370615926981, 151.85960065268614, 87.61248891752513, 55.77739817673711, 82.00505797395867, 360.2591176851209, 400.8609682147467, 231.784814908017, 112.70571185694031, 147.28628678888737, 76.0553852968105, 107.42752679139225, 110.19211626209074, 101.58395056507929, 89.99435482896672, 97.4760907777267, 84.78994255868824, 324.367402633218, 166.02207450900943, 164.15265751514582, 122.93280689119744, 102.30923423227291, 78.87314879772305, 51.71692219421463, 51.6294909845619, 39.52488184023491, 258.71103321565386, 165.1910130472458, 71.0615209730645, 24.53959023622005, 23.595741015839334, 20.799421679371704, 20.78678012166123, 35.467179717190135, 17.985353414663212, 17.97568846514123, 17.96937108442554, 28.901612383733895, 72.39868483866519, 16.1147748793274, 62.45696775951065, 24.431298828979557, 15.163825460662464, 129.18153840417565, 14.224754159902115, 14.223839853564112, 15.059281651383872, 159.2917047601401, 227.85923416086277, 24.982734353605547, 214.52785872623554, 112.37914926643059, 41.46883731678615, 207.15216596864752, 369.11438520770076, 178.95426626107746, 252.90697385341866, 210.0706138151196, 170.6405419330004, 64.36521983057817, 135.7465911580786, 212.83615368654384, 99.49948217730622, 93.51375732439638, 121.3203370078805, 152.52591445688796, 155.0984916272003, 293.5181593744437, 186.4717084776603, 171.78315206665633, 248.31927713142642, 176.50007155338608, 122.45217662391495, 109.95428529267369, 110.041388479984, 253.65238344221973, 222.91242868094795, 164.32215173133463, 139.78952396447613, 285.2031472911638, 82.58139410188257, 49.68491337175654, 87.75434692002905, 38.77915262501467, 36.81154226438887, 30.86632941218641, 268.47672204403193, 27.913001689042716, 37.15445042006888, 26.884514223053632, 24.930748656017453, 23.95193140548766, 26.454293588691034, 20.97189558618332, 317.7751728426714, 19.975424277450568, 19.001975497108404, 18.997318309909982, 18.983711560896747, 145.7925704530071, 16.9954655364147, 29.41061299889906, 16.004326397252083, 315.13434913426664, 15.040094845382075, 135.7320125078645, 123.49618706105116, 199.39308015707311, 185.57617333866918, 79.05530165169381, 38.570193930677306, 65.3419462989128, 52.850377918242216, 187.92287180716482, 163.8562498819061, 156.73994840802857, 47.51930814240301, 193.3863828799031, 374.0031648524275, 56.86550616692604, 221.8620410723107, 255.44787026555227, 125.04445676543658, 74.06947490322756, 107.38275200348103, 177.77459399438592, 100.40888682240869, 191.98076920971656, 118.20648955581039, 113.12877950658329, 110.89620362732225, 110.56816191050301, 97.29415345510824, 84.25336476008026, 75.46434262320975, 71.54265072275041, 32.43082575915197, 51.81387912659731, 27.553553958284667, 67.8307540789395, 25.597939368956972, 23.585936690188994, 20.705350399180578, 18.744936811780697, 16.800081445616723, 16.784116229402063, 28.160306181482447, 15.720061874938404, 14.838326576120114, 25.016767521728354, 23.20096685740859, 566.9013788415106, 30.486291117226955, 15.4995556905825, 24.432203322305295, 39.15796704895811, 30.082792032817867, 17.88339049594141, 229.5631093827106, 26.348815061881012, 22.5217904281963, 12.95577064818318, 24.340755056743745, 56.89964574748805, 1131.5624946416253, 57.36522536116079, 44.52984214576596, 157.5483582890357, 251.91448959871087, 164.8840041946429, 46.84726712487046, 119.42818122545481, 37.0804471480634, 125.40028591549651, 95.582804065025, 68.62593558175864, 82.23547526372415, 162.49815588486342, 169.75685055269693, 116.86953088689506, 342.3444718395034, 111.1971417805589, 112.53343110545099, 110.14392524655591, 110.34627249298072, 104.8353688837399, 107.58407475825835, 71.82971521669398, 81.57986241183502, 107.73001204079416, 121.9610443861096, 101.34292572908461, 92.51920756807951, 101.83775489640938, 79.17881412284157, 78.53737585624111, 301.58662992570044, 254.7945000902292, 138.46026605466324, 95.6936848013607, 63.85009159218936, 153.75491627483328, 47.92501978853776, 248.7888218776702, 32.006219263343226, 29.04572540360799, 28.0505603335222, 29.739546909829347, 25.066188843712652, 170.8706589689085, 19.0978907012275, 19.097767861208567, 18.08411310368907, 18.073969336977648, 67.6651096918954, 17.061262453288784, 16.11388944964681, 60.76430415167457, 19.126342533632947, 81.75226913793273, 58.07017785872936, 16.10845658445879, 134.80542637548882, 163.37522637585096, 25.499417298501562, 29.882512338962727, 546.373056608435, 183.2259281178386, 220.89765548390363, 96.730821518949, 81.13580824145828, 71.02565131144529, 155.3506733845191, 179.76714258301863, 92.71191656234518, 88.47279430942113, 57.99808674459668, 161.95854503801323, 113.7393823346884, 68.43110734815032, 68.81230554069532, 95.82040572700528, 118.12800205806299, 61.2098041869706, 130.1273531559865, 60.83563657651259, 54.246690818442964, 35.94161331294873, 69.57583587381697, 29.445861214087316, 27.28092399008881, 27.280453451513434, 26.19817575140712, 25.115878274217796, 21.867900012916362, 21.84473635683918, 20.773571546637346, 19.702543272855984, 19.70243724690954, 19.663234755524392, 18.620239520627592, 18.620143431658562, 18.620061444062607, 17.537587379697904, 16.455087785064542, 16.454714086981777, 21.96478168729303, 16.717658730990273, 14.704300658742898, 22.270031290382146, 14.034456194109987, 13.862965806298094, 32.034256414787464, 32.697217589322065, 66.85061357011304, 643.8782804240775, 150.98866176233622, 90.1933633652672, 103.38973768560837, 48.36388740622868, 33.19324298878152, 88.57577907581877, 82.16223839635934, 86.79651768101296, 45.67160311921267, 83.79701668422828, 104.72781928413791, 31.847066897304934, 59.12821203637373, 102.43178880235243, 97.6396698997276, 41.82855677019095, 49.2059805221988, 77.76450937514247, 115.28680125779096, 51.205829320789825, 57.22178611448258, 57.2383783542227, 47.4426695255862, 44.51817840733364, 46.29416054109348, 120.64141740320942, 78.84199777358306, 62.91435046961327, 124.78418716472437, 56.941530523466994, 55.9459560201484, 54.95005233270826, 44.99571694207288, 44.995636444752535, 39.99386983047808, 38.027358011545545, 37.02648110784949, 35.01745516747228, 34.04536810919239, 33.028435406142044, 32.05439572941409, 31.058546151584284, 66.5921446220613, 29.067372742389, 27.076817055033587, 24.090563981163378, 24.090265498264927, 32.35018062092154, 23.094828836401163, 23.094705602073702, 23.076548862348965, 20.108505388502596, 20.1082513254036, 20.108118196021422, 20.10764579916252, 55.977617113529476, 56.34481448471806, 607.7705816918547, 48.22416070179223, 62.58152545331322, 32.29272040503113, 47.56138109277419, 121.25975957357481, 43.99866378498542, 143.91717523364065, 57.634931355810465, 82.83929940667424, 47.41947989322058, 38.92663902765781, 35.842292469706145, 47.785198716695426, 44.697603619762845, 41.01075263288589], \"Total\": [976.0, 970.0, 1600.0, 2575.0, 1879.0, 732.0, 670.0, 655.0, 848.0, 1270.0, 1365.0, 450.0, 303.0, 602.0, 326.0, 345.0, 522.0, 351.0, 257.0, 397.0, 262.0, 368.0, 289.0, 664.0, 321.0, 285.0, 332.0, 408.0, 255.0, 466.0, 251.07314162452434, 141.13011488305892, 93.44685591927683, 43.81806233980551, 40.90044195370119, 164.32992597715045, 37.00614051649587, 37.006254640476044, 35.05964928128868, 33.113675154291464, 35.052940764394705, 30.194426396350845, 29.22149035210042, 282.28339092442053, 26.302105541808235, 53.492818850012924, 24.355511301907214, 24.355764641961226, 38.977810713497334, 23.382479434923592, 29.227492700882618, 21.43652201679936, 21.434069965283474, 54.58829958855814, 19.49006670188499, 18.51679219237079, 17.5437267220711, 17.545073423946413, 16.570590212146886, 16.57068020627527, 69.21557321442978, 43.666546260443276, 65.92849552354518, 305.54536582852063, 245.0055619696644, 227.22560786164317, 36.890749284653715, 60.487626064482754, 198.24528163250147, 2575.2316440577365, 564.9113111208724, 370.0106491893586, 1270.077909916461, 560.1423003287124, 81.5121662233824, 141.0378456803655, 319.33824969208524, 272.57237925689395, 172.87192968418952, 188.3576321142512, 1365.8381168667613, 1837.445135855648, 215.30930092957036, 150.62463108756282, 682.1982935652458, 674.1823609671302, 130.64805034929876, 221.32978825739823, 163.51558283157985, 334.2834929224873, 403.1550569576915, 308.39494908241835, 640.9859972149882, 664.167613978693, 751.052777924724, 421.8678509058127, 655.0464271359995, 450.5114466161239, 65.89236826900387, 204.61205542533594, 57.98033124236863, 32.45828072902905, 32.46013485755787, 28.52484357320152, 397.0771430822129, 26.55797650554966, 20.657794892252717, 35.37539454174495, 19.67449755765597, 19.674209380684143, 18.69137060848589, 18.69103826721004, 18.69153501785645, 18.69127225532943, 58.03939752795929, 17.707701297239037, 29.522957153628155, 16.724492360397434, 74.62037713867569, 127.0049322109187, 69.4917740108653, 50.55037782202443, 16.73173964473879, 58.95442103733577, 24.517742184171933, 135.87166481837286, 35.43566180467544, 52.079331610496965, 59.0513990404511, 72.81859056216845, 1879.457289494137, 602.8090380859402, 145.35403246077996, 117.4506328688022, 150.35105177375314, 114.89457823025653, 76.53561341758396, 47.11085169197194, 402.59720270815825, 142.5484352354622, 655.0464271359995, 848.1234338657326, 1837.445135855648, 152.5465248472715, 970.6218057769594, 165.55047812893434, 135.82885859310625, 751.052777924724, 200.30189617094135, 189.72326000102473, 2575.2316440577365, 1365.8381168667613, 640.9859972149882, 564.9113111208724, 305.54536582852063, 466.53660614894204, 841.6011635411204, 163.51558283157985, 247.86374393060999, 418.72293535469834, 643.1546079005807, 1270.077909916461, 110.9427447622129, 270.32172394186324, 332.94458133886525, 186.93885208852262, 71.17346478389909, 34.18190651674562, 33.2346910779374, 62.67020034215305, 23.763903111751308, 141.59439838323726, 20.919802680796163, 44.68474874166199, 19.97300437024864, 17.130409548570015, 17.13053052937308, 17.13134412747255, 94.55904804525484, 16.18370836813766, 149.80933056756163, 15.23659763086501, 64.42684532905291, 20.961517026247392, 195.44620758898793, 342.4771665336059, 60.814301435875535, 61.05624633312838, 197.29942592369935, 21.013189223648645, 29.624751293250863, 28.658451929171367, 221.06870624249473, 129.84791560257761, 98.3496578589314, 272.5308047372569, 92.70863185007696, 281.12754282514095, 253.02697927408013, 308.39494908241835, 88.2172627470348, 1365.8381168667613, 195.2659861064755, 2575.2316440577365, 230.48198051856704, 325.38788834656725, 519.2803862675748, 1270.077909916461, 151.71974367433893, 212.33740734562372, 560.1423003287124, 841.6011635411204, 393.01861246931315, 368.35691543983376, 202.66476824088153, 751.052777924724, 674.1823609671302, 320.646165315649, 640.9859972149882, 643.1546079005807, 682.1982935652458, 104.6674406567269, 80.969321295023, 46.40847650339598, 140.11757943292787, 73.08536734073654, 32.58349199979949, 30.60903124498806, 32.58134619017259, 27.647257995178094, 25.67229973139687, 34.5489325397546, 26.65894363175615, 23.697413554719013, 32.57351996286488, 26.656263855661532, 21.72236095110918, 20.73493209519175, 20.73492308062441, 172.6627441090969, 18.759996058863518, 18.759982406676187, 17.77048216810024, 29.634069982543704, 136.10877629185373, 16.779738746471914, 18.74120952537771, 24.887897464840655, 39.533632379468045, 42.22334698881237, 65.07485573385785, 149.32600849552836, 356.71482023556104, 302.6505247693298, 233.3591019117506, 466.53660614894204, 292.89307436095777, 103.21489061339618, 327.1439716177468, 664.167613978693, 366.0814195986627, 433.4469537059092, 173.73920927137277, 272.57237925689395, 130.32058557541114, 643.1546079005807, 349.84769377998805, 165.6554353200174, 85.33299369635374, 165.55047812893434, 1879.457289494137, 2575.2316440577365, 1270.077909916461, 375.6655017521896, 682.1982935652458, 172.80440930402685, 522.5286904425459, 841.6011635411204, 848.1234338657326, 389.66371689031615, 1365.8381168667613, 286.6056713174942, 326.2001488836138, 167.83541602778226, 165.96104350611878, 124.7297646487393, 104.1148020076884, 80.68979431254294, 53.51285074539205, 53.51638091071667, 41.33158615257687, 270.6174314623845, 176.62756396197017, 76.03735613706365, 26.33807044623108, 25.4014648146597, 22.58940376115339, 22.590041352039346, 38.59961286698194, 19.778391919858564, 19.778984697883857, 19.779289728799274, 32.009131835694824, 80.37663119078594, 17.90403334925043, 69.76222707439798, 27.326702226943876, 16.96775158370296, 144.96999747615018, 16.03087939981418, 16.030927555458614, 16.9726189036283, 182.81976272695925, 262.76794308275544, 28.289035100122288, 263.3295743954765, 136.97014455355415, 48.068642384197176, 265.5109882223993, 522.979964282971, 256.82421596209247, 403.1550569576915, 340.9089934645664, 269.02987513059765, 87.47268295974014, 229.21429774468325, 437.66243416368155, 165.2672999167389, 161.57007760712543, 242.99799031968823, 368.35691543983376, 433.4469537059092, 1837.445135855648, 751.052777924724, 655.0464271359995, 1600.3217065817557, 732.1711229363171, 311.98701735876665, 282.1100835110046, 664.167613978693, 255.43561837501048, 224.74234919336251, 166.32516642684536, 141.57586607661085, 289.072113172042, 85.13132849408166, 51.47795031975289, 91.06225650428775, 40.58681594544441, 38.60699274474211, 32.66619543675199, 285.0373031858573, 29.6961857133751, 39.58889559360884, 28.70454670984673, 26.72583657545092, 25.7358173633417, 28.700317664429466, 22.765508124073474, 345.4552997064942, 21.775312311059984, 20.78530920014836, 20.78518107062901, 20.78489394919945, 161.20484379189682, 18.805841266670136, 32.64211443922423, 17.81480637398554, 351.26206511929433, 16.82493806330009, 153.32328980001842, 139.4166218189244, 230.27967133144656, 232.01522510412863, 94.60744953512955, 44.51756347018082, 80.14393012424493, 64.22778330439395, 314.69043176100814, 275.03744562369235, 260.9847782488687, 59.33025530928616, 347.06475856636024, 848.1234338657326, 74.71327788143255, 446.1938563398303, 542.9237832536456, 218.21404793664945, 110.64148263763138, 194.4272680450545, 976.9131393389468, 325.38788834656725, 1879.457289494137, 522.5286904425459, 682.1982935652458, 643.1546079005807, 674.1823609671302, 640.9859972149882, 86.0563243045574, 77.2568056907965, 73.34609870777433, 34.23829157874389, 54.77655605743949, 29.349582732837227, 72.28710260041112, 27.394003101951064, 25.439487475935028, 22.505697546281727, 20.550394748458658, 18.594909021905178, 18.595224576219692, 31.321997193622387, 17.61443044871928, 16.639392570501208, 28.360530947749307, 26.424867453953127, 670.1745932415153, 36.042552478184, 18.617349560646165, 29.38898890037652, 47.99414646629293, 37.180882892086004, 22.529653951939512, 289.2739272271002, 33.22017234950038, 28.442541729619965, 16.56121852909532, 31.387782123737413, 74.48378231419247, 1600.3217065817557, 77.30439700648151, 59.72723128129013, 240.54383254925298, 408.13166907612975, 292.53860822989344, 65.69047251453206, 222.89803487188485, 51.59806769578441, 260.1635023657749, 181.1496583421771, 118.79692452136797, 159.36973065169107, 446.1938563398303, 489.20051574268115, 291.8263681248686, 1837.445135855648, 347.06475856636024, 365.347853484106, 366.0814195986627, 393.01861246931315, 389.66371689031615, 421.8678509058127, 180.9539385854479, 281.2690625813096, 640.9859972149882, 976.9131393389468, 542.9237832536456, 848.1234338657326, 1879.457289494137, 456.61311800494127, 664.167613978693, 303.38224215428204, 257.61594677348404, 140.24359800400262, 97.46958012971787, 65.63752952836799, 158.35627949812684, 49.721589277001854, 262.3365356876141, 33.80561367902095, 30.821475958900013, 29.82675012532092, 31.840409112278493, 26.842510670617923, 185.88943788317678, 20.8740093711801, 20.874040786536643, 19.879072525117287, 19.878784359527277, 74.53145932808766, 18.88407220632649, 17.8897644652525, 68.01041032806054, 21.85227737297113, 96.66265829901542, 69.40441254942525, 19.87019455437746, 168.4703496464376, 209.49097074537212, 32.76988760889848, 38.70197667731122, 732.1711229363171, 248.89973854927143, 321.5131458448267, 148.92477841864124, 125.35596934213284, 113.28974294297133, 370.0106491893586, 456.61311800494127, 189.72326000102473, 179.97572525527647, 108.60827123291436, 841.6011635411204, 455.1993477516975, 190.81192217013322, 227.22560786164317, 602.8090380859402, 1600.3217065817557, 228.190024989709, 131.88496105852266, 62.598427083287866, 56.09466613638589, 37.699315819410394, 73.213464928834, 31.203738559132347, 29.03857199669818, 29.038532714156574, 27.955966847652856, 26.873398412195407, 23.62560032683589, 23.623351044358166, 22.541868843010082, 21.460399915107747, 21.460388671550383, 21.456562766973363, 20.377830020439237, 20.377819752913105, 20.37781379558486, 19.295232006163914, 18.212647648779097, 18.212613970571855, 25.613728464521383, 20.204451642160226, 17.99420522938135, 27.636489720940652, 17.999677261078066, 17.97475279589218, 42.33182068994535, 43.27227466735256, 91.44515025835217, 970.6218057769594, 219.02585055684094, 138.16308407707217, 163.4644532583026, 70.29275446882585, 44.446598156023896, 180.03698977340545, 168.09809101844507, 211.04323479734197, 87.24045934575989, 246.70691024924324, 402.59720270815825, 49.963889768040424, 151.13191546690746, 455.1993477516975, 418.72293535469834, 84.18917127435213, 126.00177443995163, 408.13166907612975, 1837.445135855648, 181.4378031307425, 321.5131458448267, 365.347853484106, 248.89973854927143, 209.49097074537212, 602.8090380859402, 122.4277548285118, 80.61739672163179, 64.68957573384023, 128.36809395346043, 58.716645387882295, 57.72114831141904, 56.72567970679654, 46.77077384475285, 46.7707853129676, 41.79305456479423, 39.80235284444369, 38.80684135534707, 36.8155036694732, 35.8203958523137, 34.8244705903625, 33.82942281875808, 32.83393235335383, 70.57725340252938, 30.84295269534603, 28.851974280146553, 25.865511427247373, 25.86551071195757, 34.81251833891406, 24.8700274116389, 24.870027606458457, 24.869880097613226, 21.883552330525536, 21.883564312838892, 21.883557644485933, 21.883599795622853, 65.54345602372373, 67.50899242320257, 976.9131393389468, 62.506258801968414, 97.13627318075991, 39.67378439988184, 78.59086850150895, 368.72404471741464, 70.11618772592377, 655.0464271359995, 126.3931159951128, 287.30712207460493, 196.6022993322943, 95.70235239635423, 67.42428020459613, 602.8090380859402, 522.5286904425459, 281.12754282514095], \"Category\": [\"Default\", \"Default\", \"Default\", \"Default\", \"Default\", \"Default\", \"Default\", \"Default\", \"Default\", \"Default\", \"Default\", \"Default\", \"Default\", \"Default\", \"Default\", \"Default\", \"Default\", \"Default\", \"Default\", \"Default\", \"Default\", \"Default\", \"Default\", \"Default\", \"Default\", \"Default\", \"Default\", \"Default\", \"Default\", \"Default\", \"Topic1\", \"Topic1\", \"Topic1\", \"Topic1\", \"Topic1\", \"Topic1\", \"Topic1\", \"Topic1\", \"Topic1\", \"Topic1\", \"Topic1\", \"Topic1\", \"Topic1\", \"Topic1\", \"Topic1\", \"Topic1\", \"Topic1\", \"Topic1\", \"Topic1\", \"Topic1\", \"Topic1\", \"Topic1\", \"Topic1\", \"Topic1\", \"Topic1\", \"Topic1\", \"Topic1\", \"Topic1\", \"Topic1\", \"Topic1\", \"Topic1\", \"Topic1\", \"Topic1\", \"Topic1\", \"Topic1\", \"Topic1\", \"Topic1\", \"Topic1\", \"Topic1\", \"Topic1\", \"Topic1\", \"Topic1\", \"Topic1\", \"Topic1\", \"Topic1\", \"Topic1\", \"Topic1\", \"Topic1\", \"Topic1\", \"Topic1\", \"Topic1\", \"Topic1\", \"Topic1\", \"Topic1\", \"Topic1\", \"Topic1\", \"Topic1\", \"Topic1\", \"Topic1\", \"Topic1\", \"Topic1\", \"Topic1\", \"Topic1\", \"Topic1\", \"Topic1\", \"Topic1\", \"Topic1\", \"Topic2\", \"Topic2\", \"Topic2\", \"Topic2\", \"Topic2\", \"Topic2\", \"Topic2\", \"Topic2\", \"Topic2\", \"Topic2\", \"Topic2\", \"Topic2\", \"Topic2\", \"Topic2\", \"Topic2\", \"Topic2\", \"Topic2\", \"Topic2\", \"Topic2\", \"Topic2\", \"Topic2\", \"Topic2\", \"Topic2\", \"Topic2\", \"Topic2\", \"Topic2\", \"Topic2\", \"Topic2\", \"Topic2\", \"Topic2\", \"Topic2\", \"Topic2\", \"Topic2\", \"Topic2\", \"Topic2\", \"Topic2\", \"Topic2\", \"Topic2\", \"Topic2\", \"Topic2\", \"Topic2\", \"Topic2\", \"Topic2\", \"Topic2\", \"Topic2\", \"Topic2\", \"Topic2\", \"Topic2\", \"Topic2\", \"Topic2\", \"Topic2\", \"Topic2\", \"Topic2\", \"Topic2\", \"Topic2\", \"Topic2\", \"Topic2\", \"Topic2\", \"Topic2\", \"Topic2\", \"Topic2\", \"Topic2\", \"Topic2\", \"Topic2\", \"Topic2\", \"Topic3\", \"Topic3\", \"Topic3\", \"Topic3\", \"Topic3\", \"Topic3\", \"Topic3\", \"Topic3\", \"Topic3\", \"Topic3\", \"Topic3\", \"Topic3\", \"Topic3\", \"Topic3\", \"Topic3\", \"Topic3\", \"Topic3\", \"Topic3\", \"Topic3\", \"Topic3\", \"Topic3\", \"Topic3\", \"Topic3\", \"Topic3\", \"Topic3\", \"Topic3\", \"Topic3\", \"Topic3\", \"Topic3\", \"Topic3\", \"Topic3\", \"Topic3\", \"Topic3\", \"Topic3\", \"Topic3\", \"Topic3\", \"Topic3\", \"Topic3\", \"Topic3\", \"Topic3\", \"Topic3\", \"Topic3\", \"Topic3\", \"Topic3\", \"Topic3\", \"Topic3\", \"Topic3\", \"Topic3\", \"Topic3\", \"Topic3\", \"Topic3\", \"Topic3\", \"Topic3\", \"Topic3\", \"Topic3\", \"Topic3\", \"Topic3\", \"Topic3\", \"Topic3\", \"Topic4\", \"Topic4\", \"Topic4\", \"Topic4\", \"Topic4\", \"Topic4\", \"Topic4\", \"Topic4\", \"Topic4\", \"Topic4\", \"Topic4\", \"Topic4\", \"Topic4\", \"Topic4\", \"Topic4\", \"Topic4\", \"Topic4\", \"Topic4\", \"Topic4\", \"Topic4\", \"Topic4\", \"Topic4\", \"Topic4\", \"Topic4\", \"Topic4\", \"Topic4\", \"Topic4\", \"Topic4\", \"Topic4\", \"Topic4\", \"Topic4\", \"Topic4\", \"Topic4\", \"Topic4\", \"Topic4\", \"Topic4\", \"Topic4\", \"Topic4\", \"Topic4\", \"Topic4\", \"Topic4\", \"Topic4\", \"Topic4\", \"Topic4\", \"Topic4\", \"Topic4\", \"Topic4\", \"Topic4\", \"Topic4\", \"Topic4\", \"Topic4\", \"Topic4\", \"Topic4\", \"Topic4\", \"Topic4\", \"Topic4\", \"Topic4\", \"Topic4\", \"Topic4\", \"Topic4\", \"Topic4\", \"Topic5\", \"Topic5\", \"Topic5\", \"Topic5\", \"Topic5\", \"Topic5\", \"Topic5\", \"Topic5\", \"Topic5\", \"Topic5\", \"Topic5\", \"Topic5\", \"Topic5\", \"Topic5\", \"Topic5\", \"Topic5\", \"Topic5\", \"Topic5\", \"Topic5\", \"Topic5\", \"Topic5\", \"Topic5\", \"Topic5\", \"Topic5\", \"Topic5\", \"Topic5\", \"Topic5\", \"Topic5\", \"Topic5\", \"Topic5\", \"Topic5\", \"Topic5\", \"Topic5\", \"Topic5\", \"Topic5\", \"Topic5\", \"Topic5\", \"Topic5\", \"Topic5\", \"Topic5\", \"Topic5\", \"Topic5\", \"Topic5\", \"Topic5\", \"Topic5\", \"Topic5\", \"Topic5\", \"Topic5\", \"Topic5\", \"Topic5\", \"Topic5\", \"Topic5\", \"Topic5\", \"Topic5\", \"Topic5\", \"Topic5\", \"Topic5\", \"Topic5\", \"Topic6\", \"Topic6\", \"Topic6\", \"Topic6\", \"Topic6\", \"Topic6\", \"Topic6\", \"Topic6\", \"Topic6\", \"Topic6\", \"Topic6\", \"Topic6\", \"Topic6\", \"Topic6\", \"Topic6\", \"Topic6\", \"Topic6\", \"Topic6\", \"Topic6\", \"Topic6\", \"Topic6\", \"Topic6\", \"Topic6\", \"Topic6\", \"Topic6\", \"Topic6\", \"Topic6\", \"Topic6\", \"Topic6\", \"Topic6\", \"Topic6\", \"Topic6\", \"Topic6\", \"Topic6\", \"Topic6\", \"Topic6\", \"Topic6\", \"Topic6\", \"Topic6\", \"Topic6\", \"Topic6\", \"Topic6\", \"Topic6\", \"Topic6\", \"Topic6\", \"Topic6\", \"Topic6\", \"Topic6\", \"Topic6\", \"Topic6\", \"Topic6\", \"Topic6\", \"Topic6\", \"Topic6\", \"Topic6\", \"Topic6\", \"Topic6\", \"Topic6\", \"Topic7\", \"Topic7\", \"Topic7\", \"Topic7\", \"Topic7\", \"Topic7\", \"Topic7\", \"Topic7\", \"Topic7\", \"Topic7\", \"Topic7\", \"Topic7\", \"Topic7\", \"Topic7\", \"Topic7\", \"Topic7\", \"Topic7\", \"Topic7\", \"Topic7\", \"Topic7\", \"Topic7\", \"Topic7\", \"Topic7\", \"Topic7\", \"Topic7\", \"Topic7\", \"Topic7\", \"Topic7\", \"Topic7\", \"Topic7\", \"Topic7\", \"Topic7\", \"Topic7\", \"Topic7\", \"Topic7\", \"Topic7\", \"Topic7\", \"Topic7\", \"Topic7\", \"Topic7\", \"Topic7\", \"Topic7\", \"Topic7\", \"Topic7\", \"Topic7\", \"Topic7\", \"Topic7\", \"Topic7\", \"Topic7\", \"Topic7\", \"Topic7\", \"Topic7\", \"Topic7\", \"Topic7\", \"Topic7\", \"Topic7\", \"Topic7\", \"Topic7\", \"Topic7\", \"Topic7\", \"Topic7\", \"Topic7\", \"Topic7\", \"Topic8\", \"Topic8\", \"Topic8\", \"Topic8\", \"Topic8\", \"Topic8\", \"Topic8\", \"Topic8\", \"Topic8\", \"Topic8\", \"Topic8\", \"Topic8\", \"Topic8\", \"Topic8\", \"Topic8\", \"Topic8\", \"Topic8\", \"Topic8\", \"Topic8\", \"Topic8\", \"Topic8\", \"Topic8\", \"Topic8\", \"Topic8\", \"Topic8\", \"Topic8\", \"Topic8\", \"Topic8\", \"Topic8\", \"Topic8\", \"Topic8\", \"Topic8\", \"Topic8\", \"Topic8\", \"Topic8\", \"Topic8\", \"Topic8\", \"Topic8\", \"Topic8\", \"Topic8\", \"Topic8\", \"Topic8\", \"Topic8\", \"Topic8\", \"Topic8\", \"Topic8\", \"Topic8\", \"Topic8\", \"Topic9\", \"Topic9\", \"Topic9\", \"Topic9\", \"Topic9\", \"Topic9\", \"Topic9\", \"Topic9\", \"Topic9\", \"Topic9\", \"Topic9\", \"Topic9\", \"Topic9\", \"Topic9\", \"Topic9\", \"Topic9\", \"Topic9\", \"Topic9\", \"Topic9\", \"Topic9\", \"Topic9\", \"Topic9\", \"Topic9\", \"Topic9\", \"Topic9\", \"Topic9\", \"Topic9\", \"Topic9\", \"Topic9\", \"Topic9\", \"Topic9\", \"Topic9\", \"Topic9\", \"Topic9\", \"Topic9\", \"Topic9\", \"Topic9\", \"Topic9\", \"Topic9\", \"Topic9\", \"Topic9\", \"Topic9\", \"Topic9\", \"Topic9\", \"Topic9\", \"Topic9\", \"Topic9\", \"Topic9\", \"Topic9\", \"Topic9\", \"Topic9\", \"Topic9\", \"Topic9\", \"Topic9\", \"Topic9\", \"Topic9\", \"Topic9\", \"Topic10\", \"Topic10\", \"Topic10\", \"Topic10\", \"Topic10\", \"Topic10\", \"Topic10\", \"Topic10\", \"Topic10\", \"Topic10\", \"Topic10\", \"Topic10\", \"Topic10\", \"Topic10\", \"Topic10\", \"Topic10\", \"Topic10\", \"Topic10\", \"Topic10\", \"Topic10\", \"Topic10\", \"Topic10\", \"Topic10\", \"Topic10\", \"Topic10\", \"Topic10\", \"Topic10\", \"Topic10\", \"Topic10\", \"Topic10\", \"Topic10\", \"Topic10\", \"Topic10\", \"Topic10\", \"Topic10\", \"Topic10\", \"Topic10\", \"Topic10\", \"Topic10\", \"Topic10\", \"Topic10\", \"Topic10\", \"Topic10\", \"Topic10\", \"Topic10\", \"Topic10\", \"Topic10\", \"Topic10\"], \"logprob\": [30.0, 29.0, 28.0, 27.0, 26.0, 25.0, 24.0, 23.0, 22.0, 21.0, 20.0, 19.0, 18.0, 17.0, 16.0, 15.0, 14.0, 13.0, 12.0, 11.0, 10.0, 9.0, 8.0, 7.0, 6.0, 5.0, 4.0, 3.0, 2.0, 1.0, -4.3119, -4.8904, -5.3095, -6.0895, -6.1613, -4.7719, -6.2659, -6.266, -6.3232, -6.3831, -6.3304, -6.4809, -6.5163, -4.2523, -6.6292, -5.9234, -6.7111, -6.7114, -6.2424, -6.7549, -6.54, -6.8505, -6.8541, -5.92, -6.9544, -7.0099, -7.0702, -7.0714, -7.1337, -7.1342, -5.7669, -6.2351, -5.8605, -4.4719, -4.6882, -4.7858, -6.3979, -5.988, -5.0067, -2.936, -4.1659, -4.5514, -3.6306, -4.2692, -5.7703, -5.3866, -4.8328, -4.9537, -5.2745, -5.2364, -4.0055, -3.8683, -5.1904, -5.4423, -4.6458, -4.6906, -5.5366, -5.3314, -5.4708, -5.1989, -5.1311, -5.2332, -5.1191, -5.1348, -5.1294, -5.2692, -5.2378, -3.6995, -5.6241, -4.5082, -5.772, -6.3606, -6.3665, -6.4978, -3.8701, -6.5751, -6.8464, -6.3122, -6.8996, -6.9009, -6.9563, -6.9567, -6.9575, -6.9582, -5.8268, -7.0168, -6.5087, -7.0808, -5.6182, -5.0957, -5.7079, -6.0617, -7.1675, -5.9119, -6.797, -5.0852, -6.4294, -6.0538, -5.9322, -5.7331, -2.6737, -3.7634, -5.1471, -5.3764, -5.1677, -5.4466, -5.8089, -6.2, -4.5017, -5.3785, -4.3121, -4.1532, -3.7167, -5.3929, -4.3141, -5.3776, -5.5036, -4.5484, -5.3301, -5.3962, -4.258, -4.5333, -4.9903, -5.0516, -5.2798, -5.1784, -5.1806, -5.471, -5.4162, -5.3675, -5.3381, -5.3613, -5.0911, -4.2072, -4.0011, -4.584, -5.5596, -6.295, -6.3246, -5.6978, -6.6855, -4.9066, -6.8216, -6.0629, -6.8731, -7.042, -7.0425, -7.0435, -5.3384, -7.1067, -4.8853, -7.1753, -5.7531, -6.8914, -4.686, -4.1331, -5.8668, -5.8641, -4.6917, -6.9441, -6.6057, -6.6411, -4.6026, -5.1479, -5.4268, -4.4376, -5.4871, -4.499, -4.6175, -4.4998, -5.6018, -3.2533, -4.9576, -2.928, -4.9034, -4.6548, -4.3192, -3.6864, -5.2309, -5.0787, -4.6158, -4.4174, -4.8334, -4.9234, -5.1623, -4.7058, -4.7501, -5.0085, -4.8331, -4.8632, -5.0305, -4.9536, -5.2154, -5.7889, -4.6961, -5.3515, -6.1616, -6.2266, -6.1699, -6.3343, -6.4136, -6.1199, -6.3813, -6.5002, -6.1847, -6.388, -6.5946, -6.6454, -6.646, -4.5307, -6.7557, -6.7565, -6.8255, -6.3207, -4.8114, -6.9137, -6.8362, -6.5534, -6.1003, -6.035, -5.6027, -4.7722, -3.9503, -4.1831, -4.436, -3.8594, -4.2833, -5.2627, -4.3003, -3.7116, -4.3233, -4.204, -4.9341, -4.6666, -5.2239, -4.1196, -4.5641, -5.1141, -5.5656, -5.1802, -3.7002, -3.5934, -4.1412, -4.8622, -4.5946, -5.2555, -4.9102, -4.8848, -4.9661, -5.0873, -5.0074, -5.1468, -3.8038, -4.4736, -4.4849, -4.7741, -4.9577, -5.2179, -5.6399, -5.6416, -5.9088, -4.03, -4.4786, -5.3222, -6.3854, -6.4246, -6.5508, -6.5514, -6.0171, -6.6961, -6.6967, -6.697, -6.2218, -5.3035, -6.806, -5.4512, -6.3898, -6.8668, -4.7245, -6.9307, -6.9308, -6.8737, -4.515, -4.157, -6.3675, -4.2173, -4.8638, -5.8608, -4.2522, -3.6746, -4.3986, -4.0527, -4.2383, -4.4461, -5.4211, -4.6749, -4.2252, -4.9855, -5.0476, -4.7873, -4.5584, -4.5416, -3.9038, -4.3574, -4.4395, -4.071, -4.4124, -4.778, -4.8856, -4.8848, -3.9303, -4.0595, -4.3645, -4.5262, -3.8131, -5.0525, -5.5606, -4.9918, -5.8084, -5.8605, -6.0366, -3.8735, -6.1372, -5.8512, -6.1747, -6.2502, -6.2902, -6.1909, -6.4231, -3.705, -6.4718, -6.5218, -6.522, -6.5227, -4.4841, -6.6333, -6.0849, -6.6934, -3.7133, -6.7556, -4.5556, -4.6501, -4.171, -4.2428, -5.0961, -5.8138, -5.2867, -5.4988, -4.2303, -4.3673, -4.4117, -5.6052, -4.2016, -3.542, -5.4256, -4.0642, -3.9233, -4.6376, -5.1613, -4.7899, -4.2858, -4.857, -4.2089, -4.6939, -4.7378, -4.7577, -4.7607, -4.8886, -5.0317, -5.1419, -5.1952, -5.9864, -5.5179, -6.1494, -5.2485, -6.223, -6.3049, -6.4351, -6.5346, -6.6441, -6.6451, -6.1276, -6.7106, -6.7683, -6.246, -6.3213, -3.1253, -6.0482, -6.7247, -6.2696, -5.7979, -6.0616, -6.5816, -4.0293, -6.1941, -6.351, -6.904, -6.2734, -5.4242, -2.4342, -5.4161, -5.6694, -4.4058, -3.9364, -4.3603, -5.6186, -4.6828, -5.8524, -4.634, -4.9055, -5.2368, -5.0559, -4.3749, -4.3312, -4.7045, -3.6297, -4.7542, -4.7423, -4.7637, -4.7619, -4.8131, -4.7872, -5.1912, -5.0639, -4.7859, -4.6618, -4.847, -4.9381, -4.8421, -5.0938, -5.1019, -3.4019, -3.5705, -4.1804, -4.5498, -4.9545, -4.0756, -5.2414, -3.5944, -5.6451, -5.7421, -5.777, -5.7185, -5.8895, -3.9701, -6.1614, -6.1614, -6.216, -6.2165, -4.8964, -6.2742, -6.3313, -5.004, -6.1599, -4.7073, -5.0493, -6.3316, -4.2072, -4.0149, -5.8723, -5.7137, -2.8077, -3.9003, -3.7133, -4.5391, -4.7149, -4.848, -4.0653, -3.9193, -4.5815, -4.6283, -5.0506, -4.0237, -4.3771, -4.8852, -4.8796, -4.5485, -4.3392, -4.9967, -3.7968, -4.5571, -4.6718, -5.0834, -4.4229, -5.2828, -5.3591, -5.3592, -5.3996, -5.4418, -5.5803, -5.5814, -5.6316, -5.6846, -5.6846, -5.6866, -5.7411, -5.7411, -5.7411, -5.801, -5.8647, -5.8647, -5.5759, -5.8489, -5.9772, -5.5621, -6.0238, -6.0361, -5.1985, -5.178, -4.4629, -2.1978, -3.6481, -4.1634, -4.0268, -4.7866, -5.163, -4.1815, -4.2566, -4.2018, -4.8438, -4.2369, -4.014, -5.2044, -4.5856, -4.0361, -4.084, -4.9317, -4.7693, -4.3116, -3.9179, -4.7295, -4.6184, -4.6181, -4.8058, -4.8694, -4.8303, -3.5703, -3.9956, -4.2213, -3.5365, -4.3211, -4.3387, -4.3567, -4.5565, -4.5565, -4.6744, -4.7248, -4.7514, -4.8072, -4.8354, -4.8657, -4.8956, -4.9272, -4.1645, -4.9935, -5.0644, -5.1813, -5.1813, -4.8865, -5.2235, -5.2235, -5.2243, -5.3619, -5.362, -5.362, -5.362, -4.3381, -4.3316, -1.9533, -4.4872, -4.2266, -4.8882, -4.5011, -3.5651, -4.5789, -3.3938, -4.309, -3.9462, -4.5041, -4.7014, -4.784, -4.4964, -4.5632, -4.6492], \"loglift\": [30.0, 29.0, 28.0, 27.0, 26.0, 25.0, 24.0, 23.0, 22.0, 21.0, 20.0, 19.0, 18.0, 17.0, 16.0, 15.0, 14.0, 13.0, 12.0, 11.0, 10.0, 9.0, 8.0, 7.0, 6.0, 5.0, 4.0, 3.0, 2.0, 1.0, 1.9214, 1.9189, 1.9122, 1.8895, 1.8866, 1.8852, 1.8821, 1.8819, 1.8788, 1.876, 1.8718, 1.8705, 1.8678, 1.8638, 1.8602, 1.8561, 1.8552, 1.8549, 1.8536, 1.8522, 1.8439, 1.8434, 1.8399, 1.8392, 1.8348, 1.8305, 1.8242, 1.8229, 1.8177, 1.8173, 1.7549, 1.7474, 1.7099, 1.5651, 1.5696, 1.5474, 1.7532, 1.6686, 1.4628, 0.9693, 1.2565, 1.2941, 0.9816, 1.1617, 1.588, 1.4234, 1.16, 1.1975, 1.332, 1.2843, 0.5341, 0.3746, 1.1966, 1.302, 0.588, 0.5549, 1.35, 1.028, 1.1913, 0.7482, 0.6286, 0.7944, 0.177, 0.1258, 0.0082, 0.4451, 0.0365, 1.9491, 1.9469, 1.9298, 1.927, 1.9185, 1.9126, 1.9105, 1.9048, 1.9046, 1.8845, 1.8809, 1.8801, 1.8789, 1.8747, 1.8743, 1.8735, 1.8728, 1.8711, 1.8682, 1.8652, 1.8613, 1.8285, 1.8192, 1.8099, 1.7744, 1.7743, 1.7704, 1.7627, 1.7621, 1.7619, 1.7525, 1.7484, 1.738, 1.5466, 1.5941, 1.6328, 1.6166, 1.5783, 1.5684, 1.6124, 1.7066, 1.2594, 1.4209, 0.9622, 0.8629, 0.5262, 1.3387, 0.567, 1.2722, 1.3441, 0.5892, 1.1291, 1.1173, -0.3526, 0.0062, 0.3058, 0.3707, 0.7571, 0.4353, -0.1568, 1.1911, 0.83, 0.3544, -0.0454, -0.7491, 1.959, 1.9523, 1.95, 1.9443, 1.9344, 1.9324, 1.9309, 1.9234, 1.9054, 1.8995, 1.8968, 1.8966, 1.8916, 1.8762, 1.8757, 1.8747, 1.8714, 1.8683, 1.8643, 1.86, 1.8404, 1.825, 1.7977, 1.7898, 1.7844, 1.7831, 1.7826, 1.7698, 1.7647, 1.7625, 1.758, 1.7448, 1.7437, 1.7137, 1.7425, 1.6212, 1.6081, 1.5279, 1.6775, 1.2863, 1.5271, 0.9774, 1.4155, 1.3192, 1.1874, 0.9259, 1.5061, 1.3221, 0.815, 0.6064, 0.9518, 0.9266, 1.2852, 0.4318, 0.4954, 0.9802, 0.4629, 0.4294, 0.2032, 2.1547, 2.1496, 2.1327, 2.1204, 2.1159, 2.1136, 2.1111, 2.1054, 2.1052, 2.1, 2.0967, 2.0946, 2.0934, 2.0908, 2.088, 2.0861, 2.0819, 2.0812, 2.077, 2.0717, 2.0708, 2.056, 2.0494, 2.0342, 2.0251, 1.9921, 1.9913, 1.9816, 1.9811, 1.9808, 1.9807, 1.9318, 1.8634, 1.8705, 1.7543, 1.7959, 1.8595, 1.6684, 1.5489, 1.5329, 1.4833, 1.6674, 1.4845, 1.6652, 1.173, 1.3375, 1.5351, 1.7468, 1.4695, 0.5201, 0.312, 0.471, 0.9681, 0.6391, 1.3513, 0.5902, 0.139, 0.0499, 0.7065, -0.4679, 0.9541, 2.1677, 2.1625, 2.1624, 2.1588, 2.1559, 2.1506, 2.1392, 2.1375, 2.1287, 2.1284, 2.1064, 2.1057, 2.1026, 2.0996, 2.0908, 2.0902, 2.0887, 2.0783, 2.0778, 2.0774, 2.0712, 2.0688, 2.0681, 2.0627, 2.0614, 2.061, 2.058, 2.0538, 2.0538, 2.0537, 2.0356, 2.0308, 2.0491, 1.9684, 1.9755, 2.0257, 1.9252, 1.8249, 1.8121, 1.7071, 1.6892, 1.7181, 1.8666, 1.6495, 1.4524, 1.6659, 1.6265, 1.4787, 1.2916, 1.1456, 0.3392, 0.7802, 0.8349, 0.3101, 0.7507, 1.2381, 1.2311, 0.3757, 2.2858, 2.2846, 2.2806, 2.2801, 2.2793, 2.2623, 2.2573, 2.2558, 2.2472, 2.2451, 2.2361, 2.2329, 2.2308, 2.2293, 2.2273, 2.2232, 2.2209, 2.2113, 2.2107, 2.2092, 2.2065, 2.2031, 2.2028, 2.2021, 2.1923, 2.1915, 2.1885, 2.1856, 2.1842, 2.1806, 2.1709, 2.1715, 2.1487, 2.0694, 2.1132, 2.1494, 2.0886, 2.0978, 1.7772, 1.7748, 1.7829, 2.0708, 1.7079, 1.474, 2.0198, 1.5941, 1.5388, 1.7359, 1.8915, 1.6991, 0.5889, 1.117, 0.0114, 0.8065, 0.496, 0.535, 0.4849, 0.4075, 2.2724, 2.2701, 2.2686, 2.2393, 2.2379, 2.2304, 2.2299, 2.2257, 2.2179, 2.2102, 2.2016, 2.192, 2.1911, 2.1871, 2.1798, 2.179, 2.1681, 2.1634, 2.1262, 2.1261, 2.1102, 2.1088, 2.0901, 2.0817, 2.0626, 2.0623, 2.0618, 2.0601, 2.048, 2.0393, 2.0242, 1.9469, 1.9952, 1.9999, 1.8704, 1.811, 1.7202, 1.9555, 1.6695, 1.9631, 1.5637, 1.6542, 1.7448, 1.6319, 1.2834, 1.2351, 1.3784, 0.6132, 1.1553, 1.1159, 1.0925, 1.0233, 0.9806, 0.9271, 1.3696, 1.0558, 0.5102, 0.2128, 0.6151, 0.0779, -0.6218, 0.5414, 0.1586, 2.6421, 2.637, 2.6353, 2.6297, 2.6204, 2.6186, 2.6113, 2.595, 2.5934, 2.5887, 2.5867, 2.5798, 2.5796, 2.5638, 2.5591, 2.5591, 2.5534, 2.5529, 2.5514, 2.5466, 2.5435, 2.5354, 2.5148, 2.4805, 2.4698, 2.4382, 2.4251, 2.3994, 2.3972, 2.3894, 2.3553, 2.3417, 2.2727, 2.2165, 2.213, 2.1812, 1.7802, 1.7159, 1.932, 1.9379, 2.0207, 1.0001, 1.2612, 1.6226, 1.4535, 0.8089, 0.0419, 1.3322, 3.0803, 3.0652, 3.0602, 3.046, 3.0428, 3.0357, 3.0313, 3.0313, 3.0288, 3.0261, 3.0164, 3.0155, 3.012, 3.0083, 3.0083, 3.0064, 3.0035, 3.0035, 3.0035, 2.9982, 2.9922, 2.9922, 2.94, 2.9043, 2.8918, 2.8778, 2.8449, 2.834, 2.815, 2.8135, 2.7804, 2.6833, 2.7217, 2.6672, 2.6356, 2.7198, 2.8018, 2.3844, 2.3779, 2.2052, 2.4465, 2.0139, 1.7472, 2.6434, 2.1553, 1.6022, 1.6378, 2.3942, 2.1534, 1.4358, 0.325, 1.8287, 1.3676, 1.2401, 1.4362, 1.5449, 0.5271, 3.3813, 3.3737, 3.3681, 3.3677, 3.3653, 3.3647, 3.3642, 3.3573, 3.3573, 3.352, 3.3503, 3.349, 3.3459, 3.3451, 3.343, 3.3421, 3.3404, 3.3378, 3.3367, 3.3325, 3.3249, 3.3249, 3.3226, 3.3219, 3.3219, 3.3211, 3.3114, 3.3114, 3.3114, 3.3113, 3.2382, 3.2152, 2.9214, 3.1366, 2.9563, 3.1901, 2.8937, 2.2839, 2.93, 1.8805, 2.6107, 2.1523, 1.9738, 2.4964, 2.7641, 0.8611, 0.9372, 1.471]}, \"token.table\": {\"Topic\": [2, 3, 4, 6, 2, 4, 8, 8, 1, 5, 5, 2, 5, 8, 9, 1, 2, 3, 4, 1, 3, 4, 3, 4, 6, 7, 8, 9, 10, 2, 8, 9, 2, 8, 10, 5, 8, 9, 10, 1, 2, 4, 5, 6, 7, 9, 10, 2, 3, 6, 7, 5, 5, 2, 4, 6, 8, 4, 10, 8, 1, 2, 3, 4, 5, 1, 2, 3, 4, 5, 6, 7, 8, 9, 2, 4, 6, 10, 1, 8, 9, 2, 7, 10, 9, 10, 9, 10, 1, 2, 3, 4, 5, 7, 8, 6, 3, 4, 1, 3, 2, 3, 4, 3, 5, 3, 6, 8, 10, 2, 4, 5, 6, 7, 8, 9, 3, 1, 5, 7, 1, 3, 4, 6, 7, 9, 9, 6, 3, 10, 5, 9, 1, 2, 4, 7, 10, 10, 1, 2, 3, 4, 7, 5, 8, 9, 1, 4, 10, 1, 4, 4, 6, 7, 8, 9, 8, 9, 6, 7, 8, 1, 2, 5, 2, 5, 2, 3, 7, 7, 10, 1, 2, 3, 4, 5, 6, 8, 9, 9, 3, 1, 1, 10, 5, 6, 7, 8, 2, 9, 1, 2, 3, 4, 5, 6, 7, 8, 1, 2, 5, 5, 2, 2, 6, 7, 1, 2, 5, 8, 2, 8, 2, 3, 4, 7, 9, 10, 2, 4, 7, 8, 8, 1, 3, 4, 6, 7, 1, 2, 8, 1, 5, 8, 9, 1, 2, 3, 4, 6, 7, 9, 4, 1, 3, 4, 4, 8, 4, 3, 4, 6, 1, 2, 3, 6, 7, 3, 4, 7, 1, 10, 1, 2, 4, 6, 7, 4, 6, 6, 7, 7, 10, 1, 3, 4, 8, 7, 1, 2, 3, 4, 5, 6, 7, 8, 2, 3, 1, 1, 2, 4, 6, 7, 9, 4, 1, 7, 8, 1, 2, 4, 9, 1, 2, 3, 4, 5, 8, 7, 8, 4, 3, 4, 1, 7, 1, 1, 4, 5, 8, 9, 2, 1, 4, 5, 8, 1, 2, 4, 5, 9, 1, 2, 3, 4, 5, 7, 9, 1, 2, 7, 1, 2, 4, 5, 6, 1, 1, 3, 4, 6, 7, 1, 2, 3, 4, 5, 6, 7, 8, 9, 1, 3, 4, 5, 7, 10, 10, 6, 2, 1, 2, 3, 5, 6, 7, 9, 1, 2, 3, 4, 5, 6, 7, 8, 10, 1, 4, 1, 3, 5, 1, 2, 3, 4, 5, 2, 3, 5, 9, 1, 3, 4, 1, 2, 4, 10, 1, 2, 3, 4, 5, 6, 7, 8, 1, 4, 9, 10, 9, 1, 2, 3, 4, 5, 7, 9, 6, 8, 9, 1, 2, 3, 4, 5, 6, 7, 8, 9, 1, 2, 3, 4, 5, 7, 8, 9, 4, 6, 7, 1, 2, 3, 4, 5, 6, 7, 8, 9, 5, 8, 7, 1, 6, 7, 4, 5, 1, 5, 5, 3, 6, 7, 3, 1, 2, 3, 4, 5, 6, 7, 2, 7, 7, 7, 1, 2, 3, 6, 5, 10, 8, 1, 2, 3, 4, 1, 3, 1, 2, 3, 4, 6, 1, 8, 8, 9, 2, 9, 1, 2, 9, 10, 1, 2, 3, 4, 5, 6, 7, 8, 3, 5, 1, 5, 1, 2, 3, 4, 5, 7, 8, 9, 4, 10, 1, 2, 4, 3, 4, 4, 9, 1, 2, 3, 4, 5, 7, 9, 4, 7, 4, 9, 4, 7, 1, 1, 2, 3, 4, 5, 8, 2, 5, 1, 2, 4, 5, 1, 2, 3, 4, 5, 6, 7, 8, 9, 8, 1, 2, 4, 5, 7, 9, 2, 4, 7, 1, 2, 3, 5, 6, 9, 2, 1, 8, 2, 4, 6, 7, 5, 3, 10, 1, 5, 7, 10, 9, 1, 2, 3, 4, 1, 1, 2, 5, 8, 1, 2, 3, 4, 6, 7, 8, 3, 4, 2, 4, 5, 5, 2, 9, 5, 1, 2, 4, 6, 7, 8, 3, 5, 6, 7, 8, 10, 10, 1, 2, 3, 5, 10, 1, 2, 3, 1, 3, 4, 5, 2, 6, 1, 2, 3, 4, 5, 6, 7, 8, 3, 4, 7, 1, 2, 3, 4, 5, 8, 3, 7, 6, 9, 5, 10, 1, 2, 3, 4, 5, 6, 7, 8, 1, 2, 5, 7, 1, 3, 4, 5, 8, 1, 2, 3, 4, 5, 7, 8, 1, 3, 1, 2, 5, 6, 7, 1, 6, 9, 10, 2, 6, 1, 2, 3, 4, 5, 6, 7, 8, 5, 10, 4, 9, 9, 10, 1, 3, 9, 10, 7, 8, 9, 1, 9, 1, 2, 3, 4, 4, 8, 1, 3, 4, 5, 6, 7, 8, 2, 1, 2, 8, 9, 5, 8, 8, 1, 2, 3, 4, 5, 6, 7, 10, 4, 8, 2, 4, 6, 1, 3, 4, 1, 2, 3, 4, 5, 6, 9, 1, 3, 8, 1, 2, 3, 4, 5, 6, 7, 8, 10, 9, 9, 1, 3, 8, 9, 10, 1, 3, 4, 6, 7, 1, 1, 2, 3, 6, 8, 5, 4, 8, 1, 3, 4, 5, 6, 7, 2, 4, 1, 3, 6, 2, 8, 9, 10, 3, 4, 8, 2, 3, 4, 5, 6, 7, 8, 2, 6, 10, 8, 2, 2, 5, 6, 9, 5, 5, 1, 2, 9, 6, 7, 1, 2, 7, 2, 3, 5, 6, 7, 10, 10, 5, 6, 8, 1, 2, 5, 4, 1, 2, 5, 9, 8, 5, 8, 1, 2, 3, 4, 6, 7, 9, 3, 1, 2, 3, 10, 1, 2, 3, 4, 7, 8, 9, 1, 2, 3, 4, 5, 6, 7, 10, 7, 4, 7, 8, 9, 4, 7, 1, 2, 3, 4, 7, 9, 10, 9, 1, 4, 10, 5, 9, 5, 7, 8, 1, 2, 5, 6, 10, 7, 9, 10, 1, 2, 4, 6, 1, 2, 3, 4, 5, 6, 7, 9, 8, 2, 5, 6, 7, 8, 10, 10, 2, 6, 6, 1, 1, 3, 10, 1, 2, 3, 4, 5, 6, 7, 8, 10, 1, 2, 3, 4, 5, 6, 8, 9, 1, 2, 5, 6, 8, 10, 2, 8, 9, 10, 8, 1, 2, 5, 8, 4, 7, 1, 2, 3, 4, 1, 2, 3, 4, 5, 10, 2, 3, 4, 1, 3, 6, 7, 8, 2, 6, 7, 6, 1, 5, 6, 7, 8, 6, 6, 2, 4, 6, 7, 6, 7, 7, 4, 7, 1, 10, 1, 2, 5, 9, 2, 6, 7, 7, 5, 6, 7, 8, 1, 2, 3, 4, 5, 6, 7, 8, 1, 6, 2, 10, 1, 2, 3, 4, 5, 6, 7, 8, 9, 6, 1, 1, 2, 3, 4, 10, 2, 3, 9, 1, 2, 3, 4, 7, 8, 9, 1, 3, 2, 7, 10, 8, 10, 2, 4, 9, 1, 5, 1, 2, 3, 4, 5, 8, 9, 2, 1, 2, 4, 5, 7, 8, 9, 6, 7, 1, 2, 6, 1, 2, 4, 5, 7, 9, 1, 2, 4, 7, 3, 6, 7, 2, 6, 7, 1, 1, 1, 3, 5, 7, 8, 9, 8, 2, 3, 10, 5, 1, 2, 4, 7, 8, 9, 10, 1, 2, 7, 7, 8, 1, 3, 1, 2, 3, 4, 7, 9, 1, 2, 3, 4, 2, 8, 9, 1, 2, 3, 5, 6, 7, 8, 9, 2, 6, 6, 2, 4, 7, 2, 1, 2, 3, 4, 5, 6, 9, 1, 2, 3, 4, 5, 6, 7, 8, 9, 1, 3, 4, 6, 7, 8, 9, 2, 4, 5, 6, 5, 7, 4, 5, 6, 5, 1, 2, 6, 7, 9, 10, 1, 2, 3, 4, 5, 6, 7, 8, 9, 4, 7, 1, 2, 3, 4, 6, 7, 1, 2, 9, 1, 2, 3, 4, 5, 6, 7, 8, 9, 1, 2, 7, 1, 2, 3, 1, 2, 3, 4, 6, 7, 8, 2, 4, 7, 1, 8, 1, 2, 3, 4, 5, 6, 7, 8, 9, 6, 2, 3, 4, 5, 7, 8, 9, 2, 5, 9, 1, 1, 2, 4, 6, 7, 9, 1, 2, 4, 6, 4, 6, 5, 7, 4, 2, 7, 1, 3, 10, 1, 3, 4, 6, 7, 9, 4, 6, 7, 1, 7, 8, 5, 1, 2, 3, 5, 6, 7, 8, 1, 2, 3, 4, 6, 7, 8, 9, 2, 4, 8, 4, 7, 8, 9, 6, 9, 1, 2, 3, 6, 2, 5, 10, 1, 2, 3, 5, 8, 9, 1, 2, 3, 4, 5, 7, 8, 9, 10, 1, 2, 3, 4, 10, 3, 5, 2, 4, 6, 7, 1, 2, 3, 4, 6, 7, 8, 1, 2, 3, 4, 1, 3, 4, 6, 6, 7, 10, 1, 2, 3, 4, 8, 2, 3, 5, 7, 1, 5, 2, 4, 8, 1, 2, 3, 7, 2, 3, 6, 9, 2, 2, 7, 9, 2, 3, 7, 8, 3, 4, 5, 6, 7, 8, 9, 1, 1, 2, 3, 4, 9, 1, 2, 3, 4, 5, 10, 3, 4, 8, 9, 9, 1, 2, 3, 4, 6, 7, 1, 2, 3, 4, 6, 7, 9, 3], \"Freq\": [0.03584853736985718, 0.6299100137846333, 0.1894851260978165, 0.13315171023089808, 0.021518167172649268, 0.05379541793162317, 0.9199016466307562, 0.9054748392942844, 0.05661630481498974, 0.9341690294473307, 0.9677828441506872, 0.012441427131056918, 0.8957827534360981, 0.024882854262113837, 0.049765708524227674, 0.006007005706347371, 0.009010508559521057, 0.9641244158687531, 0.018021017119042113, 0.007398591466626375, 0.9655161863947419, 0.022195774399879124, 0.08262087872994409, 0.012710904419991398, 0.5974125077395958, 0.07626542651994839, 0.08897633093993979, 0.07944315262494624, 0.05719906988996129, 0.8968882090268446, 0.7780764937984843, 0.2148063939934466, 0.29662904727066935, 0.14831452363533468, 0.5339322850872048, 0.04017682002514611, 0.7352358064601738, 0.18883105411818674, 0.028123774017602278, 0.16114108072241715, 0.13812092633350043, 0.6061973989081407, 0.09208061755566695, 0.39706442995906555, 0.10449063946291198, 0.07314344762403839, 0.40751349390535674, 0.042279968645753674, 0.09512992945294577, 0.835029380753635, 0.010569992161438418, 0.9100840995029044, 0.884029915572731, 0.8095874893933408, 0.08831863520654627, 0.058879090137697515, 0.03679943133606094, 0.9061835592427018, 0.9248079875149736, 0.9002295592951983, 0.05640354170313437, 0.1214845513605971, 0.5640354170313437, 0.034709871817313456, 0.21693669885820913, 0.07367516626419848, 0.005525637469814886, 0.13629905758876718, 0.044205099758519086, 0.044205099758519086, 0.4696791849342653, 0.18602979481710116, 0.03683758313209924, 0.001841879156604962, 0.08255944173804002, 0.01708126380787035, 0.8967663499131934, 0.9278765173929023, 0.9535349286481435, 0.9724906425439329, 0.01894462290669999, 0.8959431388816548, 0.01722967574772413, 0.05168902724317239, 0.8785120041446537, 0.9799373734776305, 0.9319490819889311, 0.9506864367313115, 0.2371893568728354, 0.07692627790470338, 0.08013153948406603, 0.16346834054749468, 0.39104191268224214, 0.04166840053171433, 0.006410523158725282, 0.9224481125371179, 0.8025555622070555, 0.13957488038383573, 0.8403190664629785, 0.10842826664038431, 0.06356183650458216, 0.918115416177298, 0.0070624262782869075, 0.8756358076244678, 0.9881837118838886, 0.044438524296044925, 0.0592513657280599, 0.044438524296044925, 0.8295191201928386, 0.023096838658276594, 0.23096838658276594, 0.12061682410433332, 0.21300417873743968, 0.26946311767989356, 0.1231831395108085, 0.020530523251801415, 0.925773846852664, 0.013833726405217862, 0.027667452810435724, 0.9406933955548146, 0.06415718938527915, 0.1054010968472443, 0.013747969153988387, 0.5728320480828495, 0.08707047130859312, 0.15581031707853507, 0.9857075359965703, 0.9609031674823333, 0.9361677934588959, 0.9547174296080516, 0.30133429379319715, 0.6894163388298904, 0.049169389748688994, 0.05463265527632111, 0.5272051234164986, 0.3004796040197661, 0.06555918633158532, 0.9707639055919811, 0.3767588622280916, 0.10360868711272518, 0.5133339497857747, 0.909287066008864, 0.08108292308359297, 0.9570706461900651, 0.03695253460193302, 0.0036952534601933018, 0.03069978317173091, 0.9209934951519273, 0.9695785098439327, 0.028944454328634458, 0.9262225385163027, 0.03357399657123908, 0.16786998285619537, 0.05371839451398252, 0.6513355334820381, 0.08729239108522159, 0.9421989489585804, 0.031406631631952675, 0.9663718359082881, 0.021962996270642913, 0.9849226791809088, 0.06897979012274699, 0.034489895061373496, 0.8898392925834361, 0.9485975471593929, 0.01724722813017078, 0.9045835506438862, 0.028268235957621443, 0.028268235957621443, 0.015580195501890801, 0.973762218868175, 0.12101607523131275, 0.1452192902775753, 0.006050803761565637, 0.02420321504626255, 0.5990295723949981, 0.06655884137722201, 0.030254018807828187, 0.012101607523131275, 0.9626583723434057, 0.9012164452741229, 0.9235473780220116, 0.9236024122702672, 0.025655622563062978, 0.05174349913970125, 0.09055112349447719, 0.7373448627407428, 0.1034869982794025, 0.16690076542724963, 0.7788702386604982, 0.06535162067573914, 0.1188211285013439, 0.251900792422849, 0.1307032413514783, 0.12238576235638421, 0.09386869151606167, 0.024952436985282215, 0.1924902281721771, 0.21706672871242824, 0.16426671362021597, 0.6160001760758098, 0.9448274016917761, 0.919749668301991, 0.30729884659405243, 0.6688269014105847, 0.009038201370413307, 0.17292862067319992, 0.6717611803074305, 0.11971981431221533, 0.026604403180492297, 0.06708576546166885, 0.9123664102786964, 0.027313721969884817, 0.010242645738706807, 0.6862572644933561, 0.24923771297519898, 0.020485291477413615, 0.9570968290433437, 0.037648303573488744, 0.21961510417868435, 0.5145268155043462, 0.21334038691643623, 0.946588347835807, 0.8039012505764218, 0.16684742936491775, 0.015167948124083432, 0.9056799818526228, 0.08684602565710081, 0.07906252506898197, 0.42166680036790377, 0.49018765542768816, 0.2018787531002486, 0.13458583540016575, 0.024470151890939224, 0.6301064111916851, 0.004121069582604418, 0.24417337276931173, 0.010302673956511044, 0.005151336978255522, 0.069027915508624, 0.002060534791302209, 0.6634922027993112, 0.9474327941936573, 0.22283606428600766, 0.029065573602522737, 0.7363278645972428, 0.8773685158776909, 0.06748988583674546, 0.9377715916027515, 0.9175390072580513, 0.04475800035405128, 0.9141127967775271, 0.0938081562760141, 0.8576745716664147, 0.01340116518228773, 0.992247348131689, 0.9761049019793132, 0.06020438361843957, 0.09030657542765937, 0.7826569870397144, 0.1512333670900795, 0.8065779578137574, 0.9414331374307974, 0.09133744621296001, 0.060891630808640004, 0.12178326161728001, 0.71547666200152, 0.9003694918712769, 0.9039744491584828, 0.9749642284246764, 0.011746556968972007, 0.028725299050892907, 0.919209569628573, 0.525595904390803, 0.4671963594584915, 0.1830949215209006, 0.7628955063370858, 0.9434152328227233, 0.03285056738084707, 0.1401624208249475, 0.0438007565077961, 0.002190037825389805, 0.07884136171403298, 0.1357823451741679, 0.17301298820579458, 0.3942068085701649, 0.8490213530996508, 0.12951173182876027, 0.9119369074946351, 0.13238232231202943, 0.12662656916802814, 0.6043540801201343, 0.03453451886400767, 0.005755753144001279, 0.09209205030402047, 0.9404187570620787, 0.9443447815525405, 0.8057000783670833, 0.10742667711561112, 0.47701875655691833, 0.45867188130472913, 0.0550406257565675, 0.0061156250840630555, 0.02648077329922236, 0.03530769773229648, 0.09709616876381533, 0.15888463979533415, 0.0441346221653706, 0.6267116347482625, 0.04576182074445432, 0.869474594144632, 0.9061842186989549, 0.9327602873546527, 0.9283713578783792, 0.9052132931947804, 0.9816473032446148, 0.9443349588119498, 0.11535436936978603, 0.5029450504522671, 0.3575985450463367, 0.02076378648656149, 0.0023070873873957207, 0.9095267880235068, 0.08775010921081712, 0.039886413277644146, 0.22336391435480724, 0.6461598950978352, 0.6979433390217179, 0.2816262596052546, 0.012244619982837157, 0.004081539994279052, 0.9293758164600638, 0.26517270105171503, 0.052336717312838496, 0.12211900706328983, 0.29657473143941815, 0.19190129681374116, 0.02791291590018053, 0.0418693738502708, 0.7604861191107378, 0.19838768324627942, 0.9707882603918564, 0.6026751159588453, 0.21979915993793178, 0.0425417728912126, 0.10635443222803151, 0.028361181927475068, 0.9273234613717963, 0.011856443169051883, 0.6837215560819919, 0.06323436356827672, 0.09880369307543237, 0.13832517030560532, 0.008211352472419853, 0.043793879852905886, 0.09853622966903823, 0.2326549867185625, 0.11769605210468456, 0.030108292398872794, 0.3092942764611478, 0.002737117490806618, 0.1560156969759772, 0.9457860661672668, 0.03817237367649652, 0.1399653701471539, 0.15268949470598608, 0.0508964982353287, 0.6107579788239443, 0.940247202868352, 0.9354244133545219, 0.903561661190586, 0.19141463973191714, 0.0035447155505910584, 0.2055935019342814, 0.3899187105650164, 0.049626017708274815, 0.14178862202364234, 0.014178862202364233, 0.24746710157377472, 0.13984087692482536, 0.4963985055237256, 0.07101866524454481, 0.013910872573673726, 0.004392907128528545, 0.005857209504704727, 0.021232384454554637, 0.9621393083930871, 0.05335834907805109, 0.8537335852488175, 0.2881348229674825, 0.0077874276477697965, 0.6969747744753968, 0.10470551024148184, 0.113430969428272, 0.004362729593395077, 0.17887191332919813, 0.5933312247017304, 0.06877542879755155, 0.18340114346013747, 0.21778885785891325, 0.5272782874478952, 0.0060366265560087085, 0.45274699170065313, 0.5312231369287663, 0.020589630778588962, 0.2676652001216565, 0.05147407694647241, 0.6485733695255523, 0.21827929266204454, 0.12511130189165967, 0.2315890056292424, 0.30079951305867114, 0.07187245002286832, 0.02129554074751654, 0.007985827780318703, 0.02395748334095611, 0.15032464268651047, 0.1345009960879304, 0.25317834557728075, 0.45888575135882137, 0.9321157455277342, 0.4623825050313271, 0.11425668077994183, 0.31063535087046684, 0.033919952106545234, 0.07319568612465024, 0.0017852606371865911, 0.0017852606371865911, 0.10065326710952584, 0.8052261368762067, 0.9323863018900175, 0.2251890012382336, 0.09481642157399309, 0.047408210786996544, 0.15407668505773878, 0.1042980637313924, 0.03318574755089758, 0.25600433824978136, 0.05926026348374568, 0.0260745159328481, 0.08075441315732489, 0.04037720657866244, 0.004486356286518049, 0.08524076944384294, 0.19291332032027614, 0.5338763980956479, 0.031404494005626345, 0.026918137719108295, 0.1879603796292764, 0.026851482804182345, 0.7652672599191968, 0.2521572942907184, 0.10086291771628736, 0.22545828665993647, 0.12311209074193899, 0.06229768447182455, 0.16464388038982203, 0.04153178964788303, 0.010382947411970758, 0.022249173025651624, 0.8164673508229133, 0.17848356041245084, 0.9491128369678917, 0.00831449295042926, 0.33257971801717034, 0.6568449430839114, 0.9514020167080546, 0.9890641911509401, 0.031241084735852003, 0.9059914573397081, 0.9491963373337187, 0.8532088537709823, 0.06385288867873434, 0.8939404415022809, 0.9082303638285034, 0.113487905172856, 0.05921108095975095, 0.49342567466459125, 0.2368443238390038, 0.004934256746645913, 0.06907959445304278, 0.014802770239937738, 0.07568628313784796, 0.8703922560852516, 0.9083461453142436, 0.91422872679687, 0.07095813854731717, 0.10643720782097577, 0.8160185932941475, 0.005068438467665513, 0.9100427895442286, 0.9621390724761546, 0.98400213602664, 0.3821015489113564, 0.09746696013897405, 0.364239078128915, 0.15571414747302229, 0.028100360240610925, 0.9554122481807715, 0.05390922116474115, 0.05390922116474115, 0.7855343655433711, 0.10011712502023357, 0.9406175360622571, 0.045742770706896106, 0.9491624921680942, 0.1447361817795959, 0.7960489997877775, 0.9712809188876271, 0.8785103796302004, 0.9237877595701067, 0.034214361465559506, 0.9302879976897436, 0.9883379807911066, 0.09811927513430492, 0.08176606261192078, 0.1798853377462257, 0.02657397034887425, 0.13286985174437124, 0.09607512356900691, 0.3475057661006633, 0.04088303130596039, 0.869202887615966, 0.10865036095199575, 0.12558609552157993, 0.8676857508763703, 0.004115260371842581, 0.04526786409026839, 0.05349838483395355, 0.09876624892422194, 0.4979465049929523, 0.008230520743685162, 0.1481493733863329, 0.13991885264264775, 0.9696504472993653, 0.95344013343415, 0.4806062901792964, 0.011006250920136558, 0.5026187920195695, 0.8090157005233587, 0.09517831770863043, 0.9756781795434903, 0.974465379438989, 0.13741260186732718, 0.1990113544285428, 0.11372077395916731, 0.0995056772142714, 0.0331685590714238, 0.004738365581631971, 0.41223780560198153, 0.8298135952978272, 0.15366918431441243, 0.11111310336239955, 0.7777917235367968, 0.874300711842652, 0.117553036886407, 0.9408754132011018, 0.27284787354544776, 0.012402176070247626, 0.017363046498346676, 0.06697175077933717, 0.6275501091545298, 0.002480435214049525, 0.03659424367035438, 0.8782618480885053, 0.13110754256790744, 0.5309855474000251, 0.10488603405432595, 0.229438199493838, 0.21061853355408333, 0.2345648267747026, 0.05061375612539987, 0.03918484345192248, 0.16000477742868346, 0.025034761094283806, 0.18612800639663177, 0.03102133439943863, 0.06258690273570952, 0.9653754173582269, 0.4783815634313552, 0.13468995475251747, 0.13933443595088016, 0.16255684194269351, 0.04644481198362672, 0.03715584958690137, 0.7827671417415938, 0.1647930824719145, 0.02746551374531908, 0.012378529673441201, 0.07427117804064721, 0.08046044287736781, 0.5817908946517365, 0.16711015059145623, 0.08664970771408842, 0.941336776722274, 0.14408305801707721, 0.8356817364990479, 0.3289615507124035, 0.1202655131636744, 0.4409735482668061, 0.10965385023746783, 0.9716651073015101, 0.028337742028486518, 0.9493143579542984, 0.08751789063360699, 0.8697090381714695, 0.005469868164600437, 0.03281920898760262, 0.932872949869162, 0.6254877744322098, 0.04539830620878942, 0.2774340934981576, 0.04539830620878942, 0.923977513626688, 0.16985556683358688, 0.6924880801677002, 0.026131625666705672, 0.09146068983346985, 0.036685338737684356, 0.2725196591942266, 0.09957449085942896, 0.12053754156667716, 0.0314445760608723, 0.07337067747536871, 0.3563718620232194, 0.7874131949013268, 0.19415667819484772, 0.8157357985806507, 0.040786789929032535, 0.08157357985806507, 0.8837763980426965, 0.09898808616149918, 0.841398732372743, 0.9790581407854665, 0.03581156349708256, 0.09698965113793193, 0.0014921484790451067, 0.016413633269496172, 0.8460481876185755, 0.0029842969580902135, 0.005086410501790799, 0.09155538903223438, 0.22888847258058598, 0.2950118091038664, 0.1322466730465608, 0.23906129358416756, 0.9139264191808328, 0.011335649836104357, 0.056678249180521785, 0.7368172393467832, 0.18137039737766972, 0.9701816689069828, 0.015956547043737196, 0.03191309408747439, 0.9414362755804945, 0.02002545494752777, 0.8877951693403977, 0.02002545494752777, 0.06675151649175923, 0.1685480695788416, 0.8090307339784397, 0.025444087589568797, 0.08650989780453391, 0.3562172262539632, 0.0381661313843532, 0.040710540143310076, 0.13485366422471462, 0.27988496348525677, 0.0381661313843532, 0.14210147768697207, 0.8289252865073371, 0.9330970505053068, 0.17028431019474308, 0.6981656717984466, 0.034056862038948615, 0.02554264652921146, 0.04257107754868577, 0.017028431019474308, 0.8587164744546366, 0.09541294160607074, 0.898129323671143, 0.93194957025702, 0.9932552180275098, 0.9139281795453155, 0.08487188751069978, 0.42935190152471653, 0.06490203162582923, 0.014977391913652901, 0.02496231985608817, 0.28457044635940515, 0.004992463971217634, 0.0898643514819174, 0.1910387878114645, 0.764155151245858, 0.873314535705526, 0.9014752153027767, 0.016443500564656335, 0.8221750282328169, 0.016443500564656335, 0.08221750282328168, 0.049330501693969006, 0.11195843228727845, 0.011424329825232494, 0.11881303018241794, 0.14851628772802242, 0.48667645055490427, 0.07768544281158096, 0.04341245333588348, 0.9347049019830803, 0.03738819607932321, 0.5587530759535121, 0.0688873655285152, 0.3597451310933571, 0.10207904770625045, 0.8166323816500036, 0.03063527033035443, 0.8884228395802785, 0.7424640212994, 0.22498909736345454, 0.08985217716776701, 0.8760587273857284, 0.30513023275023476, 0.19444573655652214, 0.1615395349854184, 0.06581240314220749, 0.0029914728701003405, 0.020940310090702383, 0.15854806211531805, 0.08974418610301022, 0.9067448453592899, 0.025906995581693997, 0.8437836112780068, 0.12054051589685812, 0.9300340117617117, 0.9441452113131827, 0.2802023634467937, 0.020014454531913837, 0.6404625450212428, 0.040028909063827674, 0.01470363132903211, 0.8969215110709587, 0.07351815664516055, 0.027317379418445344, 0.9561082796455871, 0.09227539976636466, 0.19114189951604107, 0.6195633984313056, 0.09227539976636466, 0.8347323029476716, 0.12647459135570782, 0.15338093767060346, 0.12270475013648276, 0.14899862516572907, 0.11832243763160838, 0.0832639375926133, 0.09641087510723645, 0.2673210627973374, 0.9148899455882485, 0.711550222344137, 0.08587675097256826, 0.1472172873815456, 0.04907242912718186, 0.13448833529682078, 0.8483110380261002, 0.9102214657094393, 0.005424110601555085, 0.20069209225753815, 0.23323675586686865, 0.0189843871054428, 0.05424110601555085, 0.02169644240622034, 0.13560276503887714, 0.32815869139408266, 0.9441014324838808, 0.027365258912576254, 0.005789461043727627, 0.06947353252473153, 0.9205243059526926, 0.9877599746247643, 0.003982903123486953, 0.984069156117082, 0.46345841797124426, 0.06889246753626603, 0.2129403542030041, 0.10647017710150206, 0.05636656434785403, 0.03757770956523602, 0.05323508855075103, 0.6821414252498289, 0.008801824841933276, 0.30366295704669805, 0.14646107867938013, 0.25031529810657693, 0.21170283190928582, 0.11184300553698118, 0.24765236940331548, 0.011983179164676555, 0.011983179164676555, 0.006657321758153642, 0.0013314643516307283, 0.92979778768288, 0.9323858321000197, 0.9330939029495462, 0.8650674914263208, 0.5340293086482972, 0.24859985057765557, 0.20256284121142307, 0.12336102536353424, 0.30497586825984857, 0.06168051268176712, 0.10622754961859894, 0.4009233324314863, 0.9124744770661442, 0.09497220153919428, 0.06529338855819607, 0.017807287788598927, 0.017807287788598927, 0.8013279504869518, 0.9861319016065602, 0.0038817472773891508, 0.9898455557342334, 0.01656089239943937, 0.2870554682569491, 0.04968267719831812, 0.038642082265358535, 0.07728416453071707, 0.5299485567820599, 0.7959167905201414, 0.1693439979830088, 0.09369151238564, 0.12046051592439427, 0.7629166008544971, 0.6834668592697224, 0.15925441381042074, 0.07630940661749328, 0.07962720690521037, 0.9575323588444671, 0.02674671393420299, 0.010698685573681196, 0.07200636073719757, 0.020573245924913594, 0.09257960666211117, 0.0051433114812283985, 0.5503343284914386, 0.14401272147439514, 0.11315285258702476, 0.9579103225006284, 0.02443648781889358, 0.014661892691336149, 0.9750519323299597, 0.914903346391756, 0.005948907533341779, 0.44616806500063344, 0.05354016780007601, 0.4878104177340259, 0.9296394106741913, 0.8733119123374072, 0.22964585809822055, 0.021871034104592433, 0.7326796425038465, 0.9059133178941716, 0.0348428199190066, 0.0169622563058791, 0.8141883026821967, 0.15266030675291187, 0.019158205446112735, 0.13410743812278914, 0.1724238490150146, 0.6015676510079399, 0.07280118069522838, 0.9476095240090336, 0.9139279010534028, 0.24174676445877138, 0.010926407433164809, 0.7457273073134981, 0.05840688878642505, 0.10951291647454697, 0.8176964430099507, 0.9207102324196839, 0.0868538805438505, 0.13751864419442997, 0.10856735067981313, 0.6514041040788788, 0.9102228355915434, 0.88873309525913, 0.08600642857346419, 0.3865904572990293, 0.0653503217022799, 0.34643544034943563, 0.18266595945697514, 0.004724119641128667, 0.006298826188171557, 0.007873532735214446, 0.8756296236289974, 0.5311216327792597, 0.019917061229222238, 0.365146122535741, 0.0730292245071482, 0.05786889374105207, 0.02314755749642083, 0.005786889374105208, 0.43980359243199574, 0.19675423871957706, 0.26041002183473433, 0.011573778748210415, 0.33082692409808867, 0.3187235000457196, 0.08068949368246066, 0.020172373420615165, 0.12103424052369098, 0.06455159494596853, 0.032275797472984265, 0.032275797472984265, 0.9142132126621515, 0.8237011170340316, 0.006696757049057167, 0.15402541212831486, 0.006696757049057167, 0.8343395693775997, 0.0595956835269714, 0.055544141304439715, 0.1555235956524312, 0.005554414130443971, 0.1555235956524312, 0.12775152500021134, 0.49434285760951346, 0.9491799068938508, 0.9311932689816393, 0.09599038744278598, 0.11198878534991699, 0.7679230995422879, 0.28452434608846927, 0.6828584306123262, 0.9296131721380934, 0.7646287305483013, 0.15929765219756276, 0.14960771624765068, 0.363333025172866, 0.2625768081081216, 0.003053218698931647, 0.21983174632307856, 0.047245782661907564, 0.755932522590521, 0.16536023931667648, 0.05540485113101815, 0.9318088599307598, 0.0025184023241371888, 0.007555206972411566, 0.024501896710531122, 0.002450189671053112, 0.002450189671053112, 0.02205170703947801, 0.12986005256581495, 0.009800758684212449, 0.6174477971053842, 0.19111479434214276, 0.9313584823257701, 0.004094529839885972, 0.055276152838460615, 0.18220657787492575, 0.12488316011652213, 0.010236324599714929, 0.6223685356626677, 0.9738817929369046, 0.8367330772088739, 0.05976664837206242, 0.9141071617960045, 0.9120069101322129, 0.9352303695072312, 0.02479777494905537, 0.035425392784364816, 0.038275410261322446, 0.07463705000957876, 0.1550154115583559, 0.20477344489807509, 0.022965246156793465, 0.22582492054180242, 0.07655082052264489, 0.11482623078396734, 0.0861196730879755, 0.04615089139754925, 0.03529185812753766, 0.3474890646403708, 0.13302315755764196, 0.41535802257794324, 0.002714758317502897, 0.021718066540023177, 0.002714758317502897, 0.1281119824386772, 0.1453210547065592, 0.7055719629831624, 0.01912119140875779, 0.8943661629015288, 0.9248079802704829, 0.09983429257965659, 0.1568824597680318, 0.09983429257965659, 0.6275298390721272, 0.9409023772473153, 0.549539767234336, 0.16196961560590953, 0.2603083107952118, 0.01735388738634745, 0.9207722672014335, 0.030692408906714447, 0.1757819496334036, 0.058593983211134536, 0.09375037313781526, 0.6562526119647067, 0.1797961887179697, 0.029354479790688934, 0.7595471645840761, 0.0036693099738361167, 0.025685169816852815, 0.9278764917332275, 0.15349492000933712, 0.8288725680504204, 0.015349492000933712, 0.0217127285751741, 0.00434254571503482, 0.8641665972919292, 0.09987855144580086, 0.00434254571503482, 0.9242105780412351, 0.825188061509421, 0.1556958606621549, 0.9583756042495446, 0.04572856193105481, 0.731656990896877, 0.011432140482763703, 0.011432140482763703, 0.19434638820698297, 0.9325524680706582, 0.9943797251763737, 0.024955102612255912, 0.13725306436740753, 0.8110408348983171, 0.012477551306127956, 0.8822477434559671, 0.10041844234458162, 0.9245564492830513, 0.9378658665509211, 0.03751463466203685, 0.9412529981471346, 0.9139284014735508, 0.6938413201756085, 0.29455527743304133, 0.006545672831845363, 0.0032728364159226816, 0.06250762271826105, 0.0833434969576814, 0.8125990953373935, 0.9540169703561996, 0.011525226636443939, 0.5560921852084201, 0.3198250391613193, 0.10660834638710644, 0.012474810032617538, 0.17152863794849116, 0.364888193454063, 0.009356107524463154, 0.009356107524463154, 0.2900393332583578, 0.07173015768755085, 0.06861145517939646, 0.9361691160995298, 0.9184713272673348, 0.9744480485399681, 0.022196994271981053, 0.12179891688234877, 0.19822176669088135, 0.15045748556054847, 0.066869993582466, 0.12179891688234877, 0.059705351412916066, 0.035823210847749636, 0.011941070282583214, 0.23404497753863096, 0.9428820344219783, 0.9457889828959166, 0.019291090734103608, 0.2143454526011512, 0.10074236272254106, 0.6580405394855342, 0.006430363578034536, 0.9550721511960787, 0.11114689281938132, 0.83360169614536, 0.07641895363797623, 0.1497811491304334, 0.015283790727595245, 0.6052381128127716, 0.1131000513842048, 0.02445406516415239, 0.015283790727595245, 0.8244297541940416, 0.1374049590323403, 0.8183846024902995, 0.0564403174131241, 0.08466047611968616, 0.9954438923502348, 0.9248134655143481, 0.4953172043159948, 0.4953172043159948, 0.954924491798457, 0.10401791588030739, 0.8529469102185205, 0.509814539610763, 0.20180158859592698, 0.0017701893736484823, 0.007080757494593929, 0.11683249866079984, 0.10090079429796349, 0.06195662807769688, 0.9465433151530381, 0.11732538124579671, 0.19198698749312187, 0.06755097708091326, 0.25953796457403516, 0.2915357958228888, 0.0639956624977073, 0.010665943749617882, 0.9859131580443442, 0.006918688828381363, 0.8379617087084731, 0.14447615667387467, 0.9860203571305727, 0.16411519879302156, 0.013550796230616459, 0.5360092731221622, 0.1656208428186456, 0.11894587802430003, 0.0015056440256240508, 0.042050397541920366, 0.036443677869664313, 0.7877441139519749, 0.13456127213414515, 0.03526027075594507, 0.03526027075594507, 0.8815067688986268, 0.07826599609003797, 0.8870146223537637, 0.03261083170418249, 0.984516804711689, 0.9849067303259552, 0.011023061156438372, 0.09369601982972615, 0.4243878545228773, 0.027557652891095928, 0.1543228561901372, 0.2810880594891785, 0.9054879651819939, 0.06751111529012707, 0.8101333834815249, 0.10126667293519061, 0.9100568241971394, 0.007687473384287836, 0.0845622072271662, 0.19987430799148376, 0.48046708651798975, 0.15374946768575673, 0.06918726045859053, 0.003843736692143918, 0.01674278178558823, 0.217656163212647, 0.7534251803514704, 0.9346260728694336, 0.9387546374430471, 0.9553950631112093, 0.03651191323991883, 0.17669293733738317, 0.5300788120121495, 0.03681102861195482, 0.03681102861195482, 0.007362205722390965, 0.19877955450455606, 0.1071310259389593, 0.12855723112675116, 0.017140964150233487, 0.7413466994975983, 0.8806705867811345, 0.03387194564542825, 0.9323865744674052, 0.08988020541370183, 0.044940102706850914, 0.00345693097745007, 0.03111237879705063, 0.00691386195490014, 0.7950941248135162, 0.020741585864700422, 0.00691386195490014, 0.05262469098726814, 0.9402278123058574, 0.891533742565104, 0.16520704875072773, 0.7335192964532311, 0.09582008827542209, 0.9095026162249121, 0.05939006079185897, 0.05939006079185897, 0.011878012158371793, 0.03563403647511538, 0.28507229180092303, 0.047512048633487174, 0.4988765106516153, 0.17317070962904413, 0.18877167446048954, 0.21841350764023582, 0.014040868348300874, 0.07020434174150438, 0.15132935886502052, 0.1684904201796105, 0.006240385932578167, 0.00936057889886725, 0.005526268219510414, 0.09394655973167704, 0.005526268219510414, 0.3923650435852394, 0.3978913118047498, 0.005526268219510414, 0.09394655973167704, 0.2750623883837343, 0.026019415117380276, 0.6356171407245753, 0.05947294883972634, 0.12076406071729148, 0.7849663946623946, 0.07069877049257697, 0.8837346311572122, 0.9712896432244743, 0.893653384569341, 0.03810003154111664, 0.08740595471197346, 0.4975415883604643, 0.36307088880358207, 0.00896471330379215, 0.004482356651896075, 0.08860998814957247, 0.05145096086104208, 0.16292804272663325, 0.43447478060435535, 0.07145966786255845, 0.008575160143507014, 0.05145096086104208, 0.11147708186559117, 0.017150320287014027, 0.41246859039003475, 0.5808231170798448, 0.017103197061600448, 0.1321610682032762, 0.20990287302873278, 0.3684961548726642, 0.1725868067125136, 0.0979546740800753, 0.05934673743809135, 0.8110720783205818, 0.09891122906348558, 0.2609212038185434, 0.05716812892653479, 0.1685726878602949, 0.21547987056924653, 0.06742907514411796, 0.16564098894098542, 0.046907182708951625, 0.01612434405620212, 0.0014658494596547383, 0.05379108413871749, 0.10758216827743498, 0.8068662620807624, 0.16736878153805249, 0.031664364074766686, 0.7961325824512767, 0.004310061977834425, 0.0172402479113377, 0.14654210724637046, 0.004310061977834425, 0.8016715278772031, 0.021550309889172125, 0.004310061977834425, 0.0443859458353515, 0.088771891670703, 0.798947025036327, 0.915947197052464, 0.05495683182314784, 0.11747025617210181, 0.09821283712749497, 0.44869786373933973, 0.059697999038281255, 0.08473264379627017, 0.03658909618475303, 0.1328761914077873, 0.019257419044606854, 0.9315997775628885, 0.9489932814496851, 0.1852686106273232, 0.039700416562997824, 0.019850208281498912, 0.224969027190321, 0.03308368046916486, 0.0926343053136616, 0.3903874295361453, 0.37301061996074253, 0.2301554889119475, 0.3888834122994975, 0.9585088376179991, 0.13661297105402237, 0.4893228235934983, 0.002483872200982225, 0.09687101583830678, 0.012419361004911124, 0.2608065811031336, 0.2001835104342908, 0.6614759475220044, 0.08703630888447426, 0.03481452355378971, 0.9163280551280868, 0.9141254242835241, 0.11097993135811172, 0.832349485185838, 0.9348597613422349, 0.01825598526039836, 0.9493112335407148, 0.009013658370750893, 0.9734751040410964, 0.935811176657643, 0.19861624447607182, 0.04458732018850592, 0.16618910252079477, 0.06890767665496368, 0.17834928075402368, 0.3404849905304088, 0.9163284535043396, 0.934605511096228, 0.025259608408006163, 0.9329871694823635, 0.8086478423286579, 0.14063440736150573, 0.9796877872607179, 0.13816300509128418, 0.02545107988523656, 0.039994554105371734, 0.13089126798121659, 0.5962824430255422, 0.014543474220135176, 0.05453802832550691, 0.010255056650992302, 0.003418352216997434, 0.003418352216997434, 0.006836704433994868, 0.31448840396376393, 0.5640281158045766, 0.07520374877394355, 0.023928465518982037, 0.8582343858818201, 0.05511596973552973, 0.07873709962218534, 0.09641907461837243, 0.03421322002587408, 0.6873746932471066, 0.17728668558862026, 0.0780831265065639, 0.858914391572203, 0.9180855854182058, 0.8064619629552734, 0.03840295061691778, 0.11520885185075333, 0.9095154020429402, 0.9717292066425312, 0.945922139181645, 0.15002023168237474, 0.18891436582224969, 0.1277950121738748, 0.016668914631374973, 0.4889548291869992, 0.016668914631374973, 0.1340072218936358, 0.008787358812697429, 0.23725868794283056, 0.0812830690174512, 0.02196839703174357, 0.006590519109523071, 0.2504397261618767, 0.2240776497237844, 0.037346274953964066, 0.04624235629621639, 0.05335656495717276, 0.6936353444432459, 0.05335656495717276, 0.14584127754960555, 0.03945429131691863, 0.9337515611670743, 0.6512518304310305, 0.19154465600912662, 0.1021571498715342, 0.054270985869252546, 0.10449067472292317, 0.003073255138909505, 0.5132336081978873, 0.04302557194473307, 0.3073255138909505, 0.02458604111127604, 0.003073255138909505, 0.05083901773376567, 0.07117462482727195, 0.7829208730999915, 0.09151023192077821, 0.007136863226206992, 0.014273726452413983, 0.9492028090855299, 0.014273726452413983, 0.9888691051640249, 0.1220564261534266, 0.8543949830739862, 0.5297144837031271, 0.0027026249168526895, 0.03243149900223227, 0.013513124584263448, 0.4189068621121669, 0.11628342432075617, 0.058141712160378084, 0.09690285360063014, 0.717081116644663, 0.2146803805809168, 0.7796287505306978, 0.15503084119001756, 0.025838473531669594, 0.7751542059500879, 0.2665760584269579, 0.5752430734476461, 0.11224255091661386, 0.0420909565937302, 0.708614671751827, 0.22015213102969383, 0.05503803275742346, 0.9297990454881776, 0.9095106162135587, 0.09243794163235569, 0.11554742704044461, 0.7626130184669345, 0.049135021888370434, 0.8189170314728406, 0.06551336251782724, 0.049135021888370434, 0.006873617944916654, 0.025619848703780253, 0.1549688409399391, 0.02999396921418176, 0.7073577739677865, 0.07373517431819683, 0.0006248743586287867, 0.9052182093673656, 0.32101693070706655, 0.006485190519334677, 0.6323060756351311, 0.029183357337006048, 0.006485190519334677, 0.09397609013322308, 0.18795218026644617, 0.3202148256391305, 0.09397609013322308, 0.006961191861720228, 0.28888946226138945, 0.8883338161335824, 0.010575402573018838, 0.04230161029207535, 0.04230161029207535, 0.9312819319617289, 0.017519416143064955, 0.05547815111970569, 0.820492656033542, 0.017519416143064955, 0.08467717802481395, 0.002919902690510826, 0.40663301902829896, 0.18524393089066954, 0.17620764157892957, 0.013554433967609966, 0.058735880526309854, 0.0813266038056598, 0.0768084591497898, 0.8755880384158161], \"Term\": [\"absolutely\", \"absolutely\", \"absolutely\", \"absolutely\", \"adapter\", \"adapter\", \"adapter\", \"adaptor\", \"adjust\", \"adjust\", \"adjustable\", \"adjustment\", \"adjustment\", \"adjustment\", \"adjustment\", \"amaze\", \"amaze\", \"amaze\", \"amaze\", \"amazing\", \"amazing\", \"amazing\", \"amazon\", \"amazon\", \"amazon\", \"amazon\", \"amazon\", \"amazon\", \"amazon\", \"anti\", \"app\", \"app\", \"application\", \"application\", \"application\", \"apps\", \"apps\", \"apps\", \"apps\", \"area\", \"area\", \"area\", \"area\", \"arrive\", \"arrive\", \"arrive\", \"arrive\", \"ask\", \"ask\", \"ask\", \"ask\", \"assemble\", \"assembly\", \"audio\", \"audio\", \"audio\", \"audio\", \"audioshield\", \"aunque\", \"auto\", \"away\", \"away\", \"away\", \"away\", \"away\", \"back\", \"back\", \"back\", \"back\", \"back\", \"back\", \"back\", \"back\", \"back\", \"base\", \"base\", \"base\", \"bastante\", \"batman\", \"battery\", \"battery\", \"beat\", \"beat\", \"beat\", \"besser\", \"bien\", \"bild\", \"birthday\", \"bit\", \"bit\", \"bit\", \"bit\", \"bit\", \"bit\", \"bit\", \"blink\", \"block\", \"block\", \"blood\", \"blood\", \"blow\", \"blow\", \"blow\", \"blowing\", \"blurry\", \"bought\", \"bought\", \"bought\", \"bought\", \"box\", \"box\", \"box\", \"box\", \"box\", \"box\", \"box\", \"brain\", \"brand\", \"brand\", \"brand\", \"break\", \"break\", \"break\", \"break\", \"break\", \"break\", \"brille\", \"broken\", \"brother\", \"buena\", \"button\", \"button\", \"cable\", \"cable\", \"cable\", \"cable\", \"cable\", \"calidad\", \"camera\", \"camera\", \"camera\", \"card\", \"card\", \"cardboard\", \"cardboard\", \"cardboard\", \"cash\", \"cash\", \"casque\", \"ceiling\", \"ceiling\", \"charge\", \"charge\", \"charge\", \"charge\", \"charge\", \"charger\", \"charger\", \"chat\", \"chat\", \"che\", \"cheap\", \"cheap\", \"cheap\", \"choice\", \"choice\", \"choose\", \"choose\", \"choose\", \"christmas\", \"christmas\", \"clear\", \"clear\", \"clear\", \"clear\", \"clear\", \"clear\", \"clear\", \"clear\", \"click\", \"closer\", \"club\", \"coaster\", \"coaster\", \"code\", \"code\", \"code\", \"code\", \"combine\", \"combine\", \"come\", \"come\", \"come\", \"come\", \"come\", \"come\", \"come\", \"come\", \"comfortable\", \"comfortable\", \"comfortable\", \"comfortably\", \"community\", \"company\", \"company\", \"company\", \"compare\", \"compare\", \"compare\", \"compare\", \"compatible\", \"compatible\", \"computer\", \"computer\", \"computer\", \"computer\", \"computer\", \"condition\", \"connect\", \"connect\", \"connect\", \"connect\", \"connector\", \"console\", \"console\", \"console\", \"contact\", \"contact\", \"content\", \"content\", \"content\", \"control\", \"control\", \"control\", \"control\", \"controller\", \"controller\", \"controller\", \"controller\", \"controller\", \"controller\", \"controller\", \"coolest\", \"cord\", \"cord\", \"cord\", \"cpu\", \"cpu\", \"crash\", \"crazy\", \"crazy\", \"credit\", \"currently\", \"currently\", \"currently\", \"customer\", \"damage\", \"date\", \"date\", \"date\", \"daughter\", \"daughter\", \"dawn\", \"dead\", \"dead\", \"dead\", \"dead\", \"dedicate\", \"defect\", \"defective\", \"defective\", \"delivery\", \"delivery\", \"demo\", \"demo\", \"description\", \"description\", \"detect\", \"device\", \"device\", \"device\", \"device\", \"device\", \"device\", \"device\", \"device\", \"difference\", \"difference\", \"disk\", \"display\", \"display\", \"display\", \"display\", \"display\", \"display\", \"displayport\", \"dizziness\", \"doesnt\", \"doesnt\", \"door\", \"door\", \"door\", \"door\", \"download\", \"download\", \"download\", \"download\", \"download\", \"download\", \"drain\", \"drain\", \"drawback\", \"dream\", \"drill\", \"driveclub\", \"driver\", \"ease\", \"easy\", \"easy\", \"easy\", \"easy\", \"easy\", \"ecosystem\", \"edge\", \"edge\", \"edge\", \"edge\", \"effect\", \"effect\", \"effect\", \"effect\", \"einfach\", \"enough\", \"enough\", \"enough\", \"enough\", \"enough\", \"enough\", \"enough\", \"entertainment\", \"entertainment\", \"error\", \"especially\", \"especially\", \"especially\", \"especially\", \"especially\", \"eve\", \"ever\", \"ever\", \"ever\", \"ever\", \"ever\", \"everything\", \"everything\", \"everything\", \"everything\", \"everything\", \"everything\", \"everything\", \"everything\", \"everything\", \"evil\", \"exactly\", \"exactly\", \"exactly\", \"exactly\", \"exactly\", \"excelente\", \"exchange\", \"exclusive\", \"expect\", \"expect\", \"expect\", \"expect\", \"expect\", \"expect\", \"expect\", \"experience\", \"experience\", \"experience\", \"experience\", \"experience\", \"experience\", \"experience\", \"experience\", \"experiencia\", \"extension\", \"extension\", \"eye\", \"eye\", \"eye\", \"face\", \"face\", \"face\", \"face\", \"face\", \"fall\", \"fall\", \"fall\", \"fall\", \"family\", \"family\", \"family\", \"fantastic\", \"fantastic\", \"fantastic\", \"fantastic\", \"far\", \"far\", \"far\", \"far\", \"far\", \"far\", \"far\", \"far\", \"fast\", \"fast\", \"fast\", \"fast\", \"faster\", \"feel\", \"feel\", \"feel\", \"feel\", \"feel\", \"feel\", \"feel\", \"file\", \"file\", \"filme\", \"find\", \"find\", \"find\", \"find\", \"find\", \"find\", \"find\", \"find\", \"find\", \"fine\", \"fine\", \"fine\", \"fine\", \"fine\", \"fine\", \"fine\", \"fine\", \"firmware\", \"firmware\", \"firmware\", \"first\", \"first\", \"first\", \"first\", \"first\", \"first\", \"first\", \"first\", \"first\", \"fit\", \"fit\", \"five\", \"fix\", \"fix\", \"fix\", \"floor\", \"focus\", \"fog\", \"fog\", \"forehead\", \"forever\", \"forum\", \"forum\", \"freak\", \"friend\", \"friend\", \"friend\", \"friend\", \"friend\", \"friend\", \"friend\", \"frustrate\", \"frustrate\", \"frustrating\", \"frustration\", \"future\", \"future\", \"future\", \"future\", \"fuzzy\", \"gafas\", \"galaxy\", \"game\", \"game\", \"game\", \"game\", \"gamer\", \"gamer\", \"gaming\", \"gaming\", \"gaming\", \"gaming\", \"garbage\", \"gear\", \"gear\", \"gearvr\", \"gearvr\", \"gen\", \"ger\\u00e4t\", \"giant\", \"giant\", \"gibt\", \"gift\", \"give\", \"give\", \"give\", \"give\", \"give\", \"give\", \"give\", \"give\", \"glad\", \"glad\", \"glass\", \"glass\", \"google\", \"google\", \"google\", \"google\", \"google\", \"google\", \"google\", \"google\", \"gpu\", \"grandson\", \"graphic\", \"graphic\", \"graphic\", \"greatest\", \"greatest\", \"gtx\", \"gut\", \"hand\", \"hand\", \"hand\", \"hand\", \"hand\", \"hand\", \"hand\", \"handle\", \"handle\", \"handy\", \"handy\", \"hdmi\", \"hdmi\", \"hdr\", \"head\", \"head\", \"head\", \"head\", \"head\", \"head\", \"headband\", \"headband\", \"headphone\", \"headphone\", \"headphone\", \"headphone\", \"headset\", \"headset\", \"headset\", \"headset\", \"headset\", \"headset\", \"headset\", \"headset\", \"headset\", \"heat\", \"high\", \"high\", \"high\", \"high\", \"high\", \"high\", \"hmd\", \"hmd\", \"hmd\", \"hold\", \"hold\", \"hold\", \"hold\", \"hold\", \"hold\", \"honest\", \"hot\", \"hot\", \"htc\", \"htc\", \"htc\", \"htc\", \"hurt\", \"husband\", \"husband\", \"image\", \"image\", \"image\", \"image\", \"immer\", \"immersive\", \"immersive\", \"immersive\", \"immersive\", \"impress\", \"improvement\", \"improvement\", \"improvement\", \"improvement\", \"include\", \"include\", \"include\", \"include\", \"include\", \"include\", \"include\", \"incredible\", \"incredible\", \"interested\", \"interested\", \"interested\", \"interesting\", \"ipd\", \"ipd\", \"iphone\", \"issue\", \"issue\", \"issue\", \"issue\", \"issue\", \"issue\", \"item\", \"item\", \"item\", \"item\", \"item\", \"item\", \"jeux\", \"job\", \"job\", \"job\", \"job\", \"juegos\", \"jump\", \"jump\", \"jump\", \"kid\", \"kid\", \"kid\", \"kid\", \"kit\", \"kit\", \"know\", \"know\", \"know\", \"know\", \"know\", \"know\", \"know\", \"know\", \"lab\", \"lab\", \"label\", \"lack\", \"lack\", \"lack\", \"lack\", \"lack\", \"lack\", \"law\", \"law\", \"league\", \"leider\", \"lens\", \"lentes\", \"less\", \"less\", \"less\", \"less\", \"less\", \"less\", \"less\", \"less\", \"library\", \"library\", \"lightweight\", \"liquid\", \"literally\", \"literally\", \"literally\", \"literally\", \"literally\", \"little\", \"little\", \"little\", \"little\", \"little\", \"little\", \"little\", \"lol\", \"lol\", \"low\", \"low\", \"low\", \"luck\", \"luck\", \"mail\", \"mail\", \"mal\", \"mal\", \"manufacturer\", \"manufacturer\", \"many\", \"many\", \"many\", \"many\", \"many\", \"many\", \"many\", \"many\", \"material\", \"material\", \"measure\", \"measure\", \"mehr\", \"mejor\", \"menu\", \"menu\", \"menu\", \"menu\", \"micro\", \"micro\", \"micro\", \"min\", \"min\", \"mind\", \"mind\", \"mind\", \"mind\", \"mini\", \"mini\", \"minute\", \"minute\", \"minute\", \"minute\", \"minute\", \"minute\", \"minute\", \"mixed\", \"mode\", \"mode\", \"mode\", \"mode\", \"model\", \"model\", \"molto\", \"money\", \"money\", \"money\", \"money\", \"money\", \"money\", \"money\", \"money\", \"monitor\", \"monitor\", \"month\", \"month\", \"month\", \"motion\", \"motion\", \"mount\", \"move\", \"move\", \"move\", \"move\", \"move\", \"move\", \"move\", \"movie\", \"movie\", \"movie\", \"much\", \"much\", \"much\", \"much\", \"much\", \"much\", \"much\", \"much\", \"much\", \"mus\", \"nat\\u00fcrlich\", \"nauseous\", \"nephew\", \"netflix\", \"netflix\", \"netflix\", \"never\", \"never\", \"never\", \"never\", \"never\", \"nintendo\", \"non\", \"non\", \"non\", \"non\", \"non\", \"nose\", \"note\", \"note\", \"nothing\", \"nothing\", \"nothing\", \"nothing\", \"nothing\", \"nothing\", \"noticeable\", \"noticeable\", \"number\", \"number\", \"number\", \"oculus\", \"oculus\", \"oculus\", \"oculus\", \"old\", \"old\", \"old\", \"order\", \"order\", \"order\", \"order\", \"order\", \"order\", \"order\", \"original\", \"original\", \"original\", \"overheat\", \"overprice\", \"pad\", \"pad\", \"pad\", \"pad\", \"padding\", \"painful\", \"pair\", \"pair\", \"pair\", \"paper\", \"paper\", \"party\", \"party\", \"party\", \"pay\", \"pay\", \"pay\", \"pay\", \"pay\", \"penny\", \"perfecto\", \"phone\", \"phone\", \"phone\", \"picture\", \"picture\", \"picture\", \"pirate\", \"pixel\", \"pixel\", \"pixel\", \"pixel\", \"pi\\u00f9\", \"plastic\", \"plastic\", \"play\", \"play\", \"play\", \"play\", \"play\", \"play\", \"play\", \"playroom\", \"playstation\", \"playstation\", \"playstation\", \"playstation\", \"plug\", \"plug\", \"plug\", \"plug\", \"plug\", \"plug\", \"plug\", \"point\", \"point\", \"point\", \"point\", \"point\", \"point\", \"point\", \"point\", \"policy\", \"port\", \"port\", \"port\", \"port\", \"possibility\", \"possibility\", \"power\", \"power\", \"power\", \"power\", \"power\", \"power\", \"precio\", \"preis\", \"present\", \"present\", \"present\", \"press\", \"press\", \"pressure\", \"previous\", \"previous\", \"price\", \"price\", \"price\", \"price\", \"price\", \"prime\", \"prime\", \"prime\", \"pro\", \"pro\", \"pro\", \"pro\", \"problem\", \"problem\", \"problem\", \"problem\", \"problem\", \"problem\", \"problem\", \"problem\", \"prodotto\", \"product\", \"product\", \"product\", \"product\", \"product\", \"product\", \"producto\", \"professional\", \"professional\", \"promotion\", \"ps\", \"psvr\", \"psvr\", \"psvr\", \"purchase\", \"purchase\", \"purchase\", \"purchase\", \"purchase\", \"purchase\", \"purchase\", \"purchase\", \"purchase\", \"put\", \"put\", \"put\", \"put\", \"put\", \"put\", \"put\", \"put\", \"quality\", \"quality\", \"quality\", \"quality\", \"qualit\\u00e0\", \"qualit\\u00e9\", \"quest\", \"quest\", \"quest\", \"quest\", \"questo\", \"quite\", \"quite\", \"quite\", \"quite\", \"ram\", \"ram\", \"ready\", \"ready\", \"ready\", \"ready\", \"real\", \"real\", \"real\", \"real\", \"real\", \"realidad\", \"reality\", \"reality\", \"reality\", \"receive\", \"receive\", \"receive\", \"receive\", \"receive\", \"reduce\", \"refund\", \"refund\", \"refuse\", \"remote\", \"remote\", \"remote\", \"remote\", \"remote\", \"rep\", \"repair\", \"replace\", \"replace\", \"replace\", \"replace\", \"replacement\", \"replacement\", \"request\", \"requirement\", \"requirement\", \"resident\", \"resoluci\\u00f3n\", \"resolution\", \"resolution\", \"resolution\", \"resolution\", \"resolve\", \"resolve\", \"resolve\", \"respond\", \"return\", \"return\", \"return\", \"return\", \"review\", \"review\", \"review\", \"review\", \"review\", \"review\", \"review\", \"review\", \"ride\", \"ridiculous\", \"rift\", \"rift\", \"right\", \"right\", \"right\", \"right\", \"right\", \"right\", \"right\", \"right\", \"right\", \"rma\", \"roller\", \"room\", \"room\", \"room\", \"room\", \"room\", \"roomscale\", \"rubber\", \"rubber\", \"run\", \"run\", \"run\", \"run\", \"run\", \"run\", \"run\", \"rush\", \"rush\", \"saber\", \"saber\", \"saber\", \"samsung\", \"satisfied\", \"scale\", \"scale\", \"schon\", \"scratch\", \"scratch\", \"screen\", \"screen\", \"screen\", \"screen\", \"screen\", \"screen\", \"screen\", \"sde\", \"seem\", \"seem\", \"seem\", \"seem\", \"seem\", \"seem\", \"seem\", \"send\", \"send\", \"sense\", \"sense\", \"service\", \"set\", \"set\", \"set\", \"set\", \"set\", \"set\", \"setup\", \"setup\", \"setup\", \"setup\", \"shame\", \"shame\", \"shame\", \"ship\", \"ship\", \"ship\", \"sick\", \"sickness\", \"side\", \"side\", \"side\", \"side\", \"side\", \"side\", \"slot\", \"social\", \"social\", \"social\", \"soft\", \"software\", \"software\", \"software\", \"software\", \"software\", \"software\", \"software\", \"solution\", \"solution\", \"solution\", \"solve\", \"sono\", \"sony\", \"sony\", \"sound\", \"sound\", \"sound\", \"sound\", \"sound\", \"sound\", \"space\", \"space\", \"space\", \"space\", \"speaker\", \"speaker\", \"spielen\", \"star\", \"star\", \"star\", \"star\", \"star\", \"star\", \"star\", \"star\", \"station\", \"station\", \"status\", \"steam\", \"steam\", \"steam\", \"steep\", \"stick\", \"stick\", \"stick\", \"stick\", \"stick\", \"stick\", \"stick\", \"still\", \"still\", \"still\", \"still\", \"still\", \"still\", \"still\", \"still\", \"still\", \"stop\", \"stop\", \"stop\", \"stop\", \"stop\", \"stop\", \"stop\", \"strap\", \"strap\", \"strap\", \"strap\", \"struggle\", \"struggle\", \"sturdy\", \"sturdy\", \"stylus\", \"suction\", \"support\", \"support\", \"support\", \"support\", \"support\", \"support\", \"sure\", \"sure\", \"sure\", \"sure\", \"sure\", \"sure\", \"sure\", \"sure\", \"sure\", \"sweat\", \"sweat\", \"system\", \"system\", \"system\", \"system\", \"system\", \"system\", \"tag\", \"tag\", \"tag\", \"take\", \"take\", \"take\", \"take\", \"take\", \"take\", \"take\", \"take\", \"take\", \"technical\", \"technical\", \"technical\", \"technology\", \"technology\", \"technology\", \"tell\", \"tell\", \"tell\", \"tell\", \"tell\", \"tell\", \"tell\", \"thats\", \"thats\", \"thats\", \"theater\", \"theater\", \"think\", \"think\", \"think\", \"think\", \"think\", \"think\", \"think\", \"think\", \"thumb\", \"ticket\", \"top\", \"top\", \"top\", \"top\", \"top\", \"top\", \"top\", \"touch\", \"touch\", \"touch\", \"toy\", \"track\", \"track\", \"track\", \"track\", \"track\", \"track\", \"tracking\", \"tracking\", \"tracking\", \"tracking\", \"trainer\", \"trash\", \"tried\", \"tried\", \"tripod\", \"troubleshoot\", \"troubleshoot\", \"truly\", \"truly\", \"tr\\u00e8s\", \"turn\", \"turn\", \"turn\", \"turn\", \"turn\", \"turn\", \"tutorial\", \"twice\", \"twice\", \"ultimately\", \"unable\", \"unable\", \"uncomfortable\", \"unit\", \"unit\", \"unit\", \"unit\", \"unit\", \"unit\", \"unit\", \"update\", \"update\", \"update\", \"update\", \"update\", \"update\", \"update\", \"update\", \"upgrade\", \"upgrade\", \"upgrade\", \"usb\", \"usb\", \"usb\", \"usb\", \"useful\", \"useful\", \"valkyrie\", \"valve\", \"valve\", \"valve\", \"various\", \"velcro\", \"ver\", \"version\", \"version\", \"version\", \"version\", \"version\", \"version\", \"video\", \"video\", \"video\", \"video\", \"video\", \"video\", \"video\", \"video\", \"video\", \"virtual\", \"virtual\", \"virtual\", \"virtual\", \"virtual\", \"vision\", \"vision\", \"vive\", \"vive\", \"vive\", \"vive\", \"wait\", \"wait\", \"wait\", \"wait\", \"wait\", \"wait\", \"wait\", \"walk\", \"walk\", \"walk\", \"walk\", \"wall\", \"wall\", \"wall\", \"wall\", \"warranty\", \"waste\", \"waste\", \"watch\", \"watch\", \"watch\", \"watch\", \"watch\", \"water\", \"water\", \"water\", \"water\", \"wear\", \"wear\", \"white\", \"white\", \"white\", \"wire\", \"wire\", \"wire\", \"wire\", \"wireless\", \"wireless\", \"wireless\", \"wirklich\", \"wmr\", \"wonderful\", \"wonderful\", \"wonderful\", \"word\", \"word\", \"word\", \"word\", \"work\", \"work\", \"work\", \"work\", \"work\", \"work\", \"work\", \"workmanship\", \"world\", \"world\", \"world\", \"world\", \"world\", \"worth\", \"worth\", \"worth\", \"worth\", \"worth\", \"worth\", \"wow\", \"wow\", \"wow\", \"wow\", \"xmas\", \"year\", \"year\", \"year\", \"year\", \"year\", \"year\", \"yet\", \"yet\", \"yet\", \"yet\", \"yet\", \"yet\", \"yet\", \"young\"]}, \"R\": 30, \"lambda.step\": 0.01, \"plot.opts\": {\"xlab\": \"PC1\", \"ylab\": \"PC2\"}, \"topic.order\": [1, 9, 4, 8, 10, 5, 2, 7, 3, 6]};\n",
              "\n",
              "function LDAvis_load_lib(url, callback){\n",
              "  var s = document.createElement('script');\n",
              "  s.src = url;\n",
              "  s.async = true;\n",
              "  s.onreadystatechange = s.onload = callback;\n",
              "  s.onerror = function(){console.warn(\"failed to load library \" + url);};\n",
              "  document.getElementsByTagName(\"head\")[0].appendChild(s);\n",
              "}\n",
              "\n",
              "if(typeof(LDAvis) !== \"undefined\"){\n",
              "   // already loaded: just create the visualization\n",
              "   !function(LDAvis){\n",
              "       new LDAvis(\"#\" + \"ldavis_el6281359870944806883368346288\", ldavis_el6281359870944806883368346288_data);\n",
              "   }(LDAvis);\n",
              "}else if(typeof define === \"function\" && define.amd){\n",
              "   // require.js is available: use it to load d3/LDAvis\n",
              "   require.config({paths: {d3: \"https://d3js.org/d3.v5\"}});\n",
              "   require([\"d3\"], function(d3){\n",
              "      window.d3 = d3;\n",
              "      LDAvis_load_lib(\"https://cdn.jsdelivr.net/gh/bmabey/pyLDAvis@3.4.0/pyLDAvis/js/ldavis.v3.0.0.js\", function(){\n",
              "        new LDAvis(\"#\" + \"ldavis_el6281359870944806883368346288\", ldavis_el6281359870944806883368346288_data);\n",
              "      });\n",
              "    });\n",
              "}else{\n",
              "    // require.js not available: dynamically load d3 & LDAvis\n",
              "    LDAvis_load_lib(\"https://d3js.org/d3.v5.js\", function(){\n",
              "         LDAvis_load_lib(\"https://cdn.jsdelivr.net/gh/bmabey/pyLDAvis@3.4.0/pyLDAvis/js/ldavis.v3.0.0.js\", function(){\n",
              "                 new LDAvis(\"#\" + \"ldavis_el6281359870944806883368346288\", ldavis_el6281359870944806883368346288_data);\n",
              "            })\n",
              "         });\n",
              "}\n",
              "</script>"
            ]
          },
          "metadata": {},
          "execution_count": 17
        }
      ]
    },
    {
      "cell_type": "markdown",
      "source": [
        "# Variable Construction"
      ],
      "metadata": {
        "id": "x9RBJ6H5crET"
      }
    },
    {
      "cell_type": "code",
      "source": [
        "topicn = 10\n",
        "\n",
        "topic_columns = [f\"topic{i+1}\" for i in range(topicn)]\n",
        "\n",
        "# Create dataframe of document-topic distributions\n",
        "topic_df = pd.DataFrame(doc_topic_dists, columns=topic_columns)\n",
        "\n",
        "data = data.reset_index(drop=True)\n",
        "topic_df = topic_df.reset_index(drop=True)\n",
        "\n",
        "data = pd.concat([data, topic_df], axis=1)\n",
        "\n",
        "print(data.columns)\n",
        "print(data.head())"
      ],
      "metadata": {
        "colab": {
          "base_uri": "https://localhost:8080/"
        },
        "id": "b4ILSCrKO6y0",
        "outputId": "3cb556d4-ca88-46bf-b0c7-35a0bf26f9a2"
      },
      "execution_count": null,
      "outputs": [
        {
          "output_type": "stream",
          "name": "stdout",
          "text": [
            "Index(['Brand', 'Link', 'contents', 'star', 'helpfulness', 'purchase', 'name',\n",
            "       'date', 'helpful logit', 'preprocessed', 'tokens', 'tagged', 'filtered',\n",
            "       'lemmed', 'processed_text', 'topic1', 'topic2', 'topic3', 'topic4',\n",
            "       'topic5', 'topic6', 'topic7', 'topic8', 'topic9', 'topic10'],\n",
            "      dtype='object')\n",
            "                        Brand  \\\n",
            "0  Topmaxion Google Cardboard   \n",
            "1  Topmaxion Google Cardboard   \n",
            "2  Topmaxion Google Cardboard   \n",
            "3  Topmaxion Google Cardboard   \n",
            "4  Topmaxion Google Cardboard   \n",
            "\n",
            "                                                Link  \\\n",
            "0  https://www.amazon.com/Cardboard-Topmaxions-Vi...   \n",
            "1  https://www.amazon.com/Cardboard-Topmaxions-Vi...   \n",
            "2  https://www.amazon.com/Cardboard-Topmaxions-Vi...   \n",
            "3  https://www.amazon.com/Cardboard-Topmaxions-Vi...   \n",
            "4  https://www.amazon.com/Cardboard-Topmaxions-Vi...   \n",
            "\n",
            "                                            contents                star  \\\n",
            "0  bought for Xmas present for a friend. love it ...  5.0 out of 5 stars   \n",
            "1                                    Grandson happy!  5.0 out of 5 stars   \n",
            "2  Putting your phone up to your eyes would be a ...  1.0 out of 5 stars   \n",
            "3  For the price it can't be beat.  Will give you...  3.0 out of 5 stars   \n",
            "4      Lost interest in short time. Just not for me.  3.0 out of 5 stars   \n",
            "\n",
            "                   helpfulness           purchase              name  \\\n",
            "0                          NaN  Verified Purchase     DeniseSYChung   \n",
            "1                          NaN  Verified Purchase  A Grumpy Old Frt   \n",
            "2  5 people found this helpful  Verified Purchase               Jay   \n",
            "3                          NaN  Verified Purchase              sadf   \n",
            "4                          NaN  Verified Purchase            STEBOU   \n",
            "\n",
            "                                                date  helpful logit  \\\n",
            "0    Reviewed in the United States on April 13, 2017              0   \n",
            "1  Reviewed in the United States on September 12,...              0   \n",
            "2  Reviewed in the United States on December 29, ...              1   \n",
            "3  Reviewed in the United States on December 14, ...              0   \n",
            "4      Reviewed in the United States on June 1, 2017              0   \n",
            "\n",
            "                                        preprocessed  ...    topic1    topic2  \\\n",
            "0  bought for xmas present for a friend. love it ...  ...  0.047483  0.044745   \n",
            "1                                    grandson happy.  ...  0.080001  0.080001   \n",
            "2  putting your phone up to your eyes would be a ...  ...  0.036843  0.028135   \n",
            "3  for the price it ca not be beat. will give you...  ...  0.228111  0.150922   \n",
            "4      lost interest in short time. just not for me.  ...  0.179290  0.066186   \n",
            "\n",
            "     topic3    topic4    topic5    topic6    topic7    topic8    topic9  \\\n",
            "0  0.155443  0.141116  0.046495  0.374183  0.044503  0.053343  0.047023   \n",
            "1  0.080002  0.080001  0.080001  0.279993  0.080001  0.080001  0.080001   \n",
            "2  0.115581  0.312656  0.027526  0.038823  0.144394  0.028393  0.030485   \n",
            "3  0.044453  0.047837  0.046079  0.062652  0.048029  0.044785  0.276933   \n",
            "4  0.058528  0.279417  0.105794  0.057155  0.072382  0.059036  0.064298   \n",
            "\n",
            "    topic10  \n",
            "0  0.045665  \n",
            "1  0.080001  \n",
            "2  0.237164  \n",
            "3  0.050199  \n",
            "4  0.057914  \n",
            "\n",
            "[5 rows x 25 columns]\n"
          ]
        }
      ]
    },
    {
      "cell_type": "code",
      "source": [
        "data.isna().sum()"
      ],
      "metadata": {
        "colab": {
          "base_uri": "https://localhost:8080/",
          "height": 867
        },
        "id": "dQiAS21yPO-M",
        "outputId": "3387c1f3-b845-4d37-89e8-176bdd142f5a"
      },
      "execution_count": null,
      "outputs": [
        {
          "output_type": "execute_result",
          "data": {
            "text/plain": [
              "Brand                0\n",
              "Link                 0\n",
              "contents             2\n",
              "star                 0\n",
              "helpfulness       3086\n",
              "purchase           665\n",
              "name                 2\n",
              "date                 0\n",
              "helpful logit        0\n",
              "preprocessed         0\n",
              "tokens               0\n",
              "tagged               0\n",
              "filtered             0\n",
              "lemmed               0\n",
              "processed_text       0\n",
              "topic1               0\n",
              "topic2               0\n",
              "topic3               0\n",
              "topic4               0\n",
              "topic5               0\n",
              "topic6               0\n",
              "topic7               0\n",
              "topic8               0\n",
              "topic9               0\n",
              "topic10              0\n",
              "dtype: int64"
            ],
            "text/html": [
              "<div>\n",
              "<style scoped>\n",
              "    .dataframe tbody tr th:only-of-type {\n",
              "        vertical-align: middle;\n",
              "    }\n",
              "\n",
              "    .dataframe tbody tr th {\n",
              "        vertical-align: top;\n",
              "    }\n",
              "\n",
              "    .dataframe thead th {\n",
              "        text-align: right;\n",
              "    }\n",
              "</style>\n",
              "<table border=\"1\" class=\"dataframe\">\n",
              "  <thead>\n",
              "    <tr style=\"text-align: right;\">\n",
              "      <th></th>\n",
              "      <th>0</th>\n",
              "    </tr>\n",
              "  </thead>\n",
              "  <tbody>\n",
              "    <tr>\n",
              "      <th>Brand</th>\n",
              "      <td>0</td>\n",
              "    </tr>\n",
              "    <tr>\n",
              "      <th>Link</th>\n",
              "      <td>0</td>\n",
              "    </tr>\n",
              "    <tr>\n",
              "      <th>contents</th>\n",
              "      <td>2</td>\n",
              "    </tr>\n",
              "    <tr>\n",
              "      <th>star</th>\n",
              "      <td>0</td>\n",
              "    </tr>\n",
              "    <tr>\n",
              "      <th>helpfulness</th>\n",
              "      <td>3086</td>\n",
              "    </tr>\n",
              "    <tr>\n",
              "      <th>purchase</th>\n",
              "      <td>665</td>\n",
              "    </tr>\n",
              "    <tr>\n",
              "      <th>name</th>\n",
              "      <td>2</td>\n",
              "    </tr>\n",
              "    <tr>\n",
              "      <th>date</th>\n",
              "      <td>0</td>\n",
              "    </tr>\n",
              "    <tr>\n",
              "      <th>helpful logit</th>\n",
              "      <td>0</td>\n",
              "    </tr>\n",
              "    <tr>\n",
              "      <th>preprocessed</th>\n",
              "      <td>0</td>\n",
              "    </tr>\n",
              "    <tr>\n",
              "      <th>tokens</th>\n",
              "      <td>0</td>\n",
              "    </tr>\n",
              "    <tr>\n",
              "      <th>tagged</th>\n",
              "      <td>0</td>\n",
              "    </tr>\n",
              "    <tr>\n",
              "      <th>filtered</th>\n",
              "      <td>0</td>\n",
              "    </tr>\n",
              "    <tr>\n",
              "      <th>lemmed</th>\n",
              "      <td>0</td>\n",
              "    </tr>\n",
              "    <tr>\n",
              "      <th>processed_text</th>\n",
              "      <td>0</td>\n",
              "    </tr>\n",
              "    <tr>\n",
              "      <th>topic1</th>\n",
              "      <td>0</td>\n",
              "    </tr>\n",
              "    <tr>\n",
              "      <th>topic2</th>\n",
              "      <td>0</td>\n",
              "    </tr>\n",
              "    <tr>\n",
              "      <th>topic3</th>\n",
              "      <td>0</td>\n",
              "    </tr>\n",
              "    <tr>\n",
              "      <th>topic4</th>\n",
              "      <td>0</td>\n",
              "    </tr>\n",
              "    <tr>\n",
              "      <th>topic5</th>\n",
              "      <td>0</td>\n",
              "    </tr>\n",
              "    <tr>\n",
              "      <th>topic6</th>\n",
              "      <td>0</td>\n",
              "    </tr>\n",
              "    <tr>\n",
              "      <th>topic7</th>\n",
              "      <td>0</td>\n",
              "    </tr>\n",
              "    <tr>\n",
              "      <th>topic8</th>\n",
              "      <td>0</td>\n",
              "    </tr>\n",
              "    <tr>\n",
              "      <th>topic9</th>\n",
              "      <td>0</td>\n",
              "    </tr>\n",
              "    <tr>\n",
              "      <th>topic10</th>\n",
              "      <td>0</td>\n",
              "    </tr>\n",
              "  </tbody>\n",
              "</table>\n",
              "</div><br><label><b>dtype:</b> int64</label>"
            ]
          },
          "metadata": {},
          "execution_count": 19
        }
      ]
    },
    {
      "cell_type": "markdown",
      "source": [
        "#Descriptive Statistics"
      ],
      "metadata": {
        "id": "dYxJ2pcvcwgR"
      }
    },
    {
      "cell_type": "code",
      "source": [
        "cols = [f'topic{i}' for i in range(1, 11)] + ['helpful logit']\n",
        "\n",
        "desc_stats = data[cols].describe(percentiles=[0.5]).T\n",
        "\n",
        "desc_stats = desc_stats.rename(columns={\n",
        "    'mean': 'Mean',\n",
        "    'std': 'StdDev',\n",
        "    'min': 'Min',\n",
        "    '50%': 'Median',\n",
        "    'max': 'Max'\n",
        "})[['Mean', 'StdDev', 'Min', 'Median', 'Max']]\n",
        "\n",
        "desc_stats = desc_stats.round(3)\n",
        "\n",
        "print(desc_stats)"
      ],
      "metadata": {
        "colab": {
          "base_uri": "https://localhost:8080/"
        },
        "id": "BKvBEfyjQi57",
        "outputId": "3499f59e-3416-4c2c-fbb6-b36eec94de4a"
      },
      "execution_count": null,
      "outputs": [
        {
          "output_type": "stream",
          "name": "stdout",
          "text": [
            "                Mean  StdDev    Min  Median    Max\n",
            "topic1         0.110   0.136  0.001   0.058  0.867\n",
            "topic2         0.101   0.113  0.001   0.059  0.784\n",
            "topic3         0.064   0.087  0.001   0.044  0.918\n",
            "topic4         0.135   0.148  0.002   0.070  0.879\n",
            "topic5         0.094   0.128  0.001   0.052  0.932\n",
            "topic6         0.088   0.124  0.001   0.044  0.950\n",
            "topic7         0.087   0.118  0.001   0.050  0.880\n",
            "topic8         0.093   0.116  0.002   0.054  0.876\n",
            "topic9         0.096   0.123  0.001   0.055  0.858\n",
            "topic10        0.132   0.163  0.001   0.067  0.860\n",
            "helpful logit  0.429   0.495  0.000   0.000  1.000\n"
          ]
        }
      ]
    },
    {
      "cell_type": "code",
      "source": [
        "from scipy.stats import pearsonr\n",
        "\n",
        "cols = [f'topic{i}' for i in range(1, 11)] + ['helpful logit']\n",
        "\n",
        "corr_matrix = pd.DataFrame(index=cols, columns=cols)\n",
        "p_matrix = pd.DataFrame(index=cols, columns=cols)\n",
        "\n",
        "# Correlation and p-value calculation\n",
        "for i in cols:\n",
        "    for j in cols:\n",
        "        if i == j:\n",
        "            corr_matrix.loc[i, j] = 1.0\n",
        "            p_matrix.loc[i, j] = 0.0\n",
        "        else:\n",
        "            x = data[i]\n",
        "            y = data[j]\n",
        "            corr, pval = pearsonr(x, y)\n",
        "            corr_matrix.loc[i, j] = round(corr, 3)\n",
        "            p_matrix.loc[i, j] = pval\n",
        "\n",
        "# Significance annotation function\n",
        "def significance(p):\n",
        "    if p < 0.001:\n",
        "        return '***'\n",
        "    elif p < 0.01:\n",
        "        return '**'\n",
        "    elif p < 0.05:\n",
        "        return '*'\n",
        "    else:\n",
        "        return ''\n",
        "\n",
        "annotated_corr = corr_matrix.copy()\n",
        "for i in cols:\n",
        "    for j in cols:\n",
        "        star = significance(p_matrix.loc[i, j])\n",
        "        corr_val = corr_matrix.loc[i, j]\n",
        "        annotated_corr.loc[i, j] = f'{corr_val}{star}'\n",
        "\n",
        "print(annotated_corr)"
      ],
      "metadata": {
        "colab": {
          "base_uri": "https://localhost:8080/"
        },
        "id": "BWb1K5TIRxUW",
        "outputId": "c4a7c318-469b-4dca-8a34-b40b18f4e072"
      },
      "execution_count": null,
      "outputs": [
        {
          "output_type": "stream",
          "name": "stdout",
          "text": [
            "                  topic1     topic2     topic3     topic4     topic5  \\\n",
            "topic1            1.0***  -0.177***  -0.118***     -0.018  -0.208***   \n",
            "topic2         -0.177***     1.0***  -0.055***  -0.194***   0.123***   \n",
            "topic3         -0.118***  -0.055***     1.0***  -0.132***  -0.057***   \n",
            "topic4            -0.018  -0.194***  -0.132***     1.0***  -0.182***   \n",
            "topic5         -0.208***   0.123***  -0.057***  -0.182***     1.0***   \n",
            "topic6         -0.146***  -0.118***     -0.007  -0.146***  -0.094***   \n",
            "topic7         -0.132***   -0.07***      -0.02  -0.156***  -0.115***   \n",
            "topic8         -0.084***  -0.065***   -0.09***  -0.057***  -0.126***   \n",
            "topic9         -0.088***  -0.124***  -0.107***  -0.086***  -0.111***   \n",
            "topic10        -0.138***  -0.156***  -0.066***  -0.219***  -0.174***   \n",
            "helpful logit   0.055***   0.048***  -0.057***      0.006   0.134***   \n",
            "\n",
            "                  topic6     topic7     topic8     topic9    topic10  \\\n",
            "topic1         -0.146***  -0.132***  -0.084***  -0.088***  -0.138***   \n",
            "topic2         -0.118***   -0.07***  -0.065***  -0.124***  -0.156***   \n",
            "topic3            -0.007      -0.02   -0.09***  -0.107***  -0.066***   \n",
            "topic4         -0.146***  -0.156***  -0.057***  -0.086***  -0.219***   \n",
            "topic5         -0.094***  -0.115***  -0.126***  -0.111***  -0.174***   \n",
            "topic6            1.0***  -0.052***  -0.117***  -0.119***  -0.135***   \n",
            "topic7         -0.052***     1.0***  -0.138***   -0.15***  -0.067***   \n",
            "topic8         -0.117***  -0.138***     1.0***    -0.027*   -0.19***   \n",
            "topic9         -0.119***   -0.15***    -0.027*     1.0***  -0.157***   \n",
            "topic10        -0.135***  -0.067***   -0.19***  -0.157***     1.0***   \n",
            "helpful logit  -0.155***      0.017     -0.009   0.089***  -0.115***   \n",
            "\n",
            "              helpful logit  \n",
            "topic1             0.055***  \n",
            "topic2             0.048***  \n",
            "topic3            -0.057***  \n",
            "topic4                0.006  \n",
            "topic5             0.134***  \n",
            "topic6            -0.155***  \n",
            "topic7                0.017  \n",
            "topic8               -0.009  \n",
            "topic9             0.089***  \n",
            "topic10           -0.115***  \n",
            "helpful logit        1.0***  \n"
          ]
        }
      ]
    },
    {
      "cell_type": "markdown",
      "source": [
        "#Logistic Regression"
      ],
      "metadata": {
        "id": "TGuSToCocOro"
      }
    },
    {
      "cell_type": "code",
      "source": [
        "import statsmodels.api as sm\n",
        "\n",
        "X_vars = [f'topic{i}' for i in range(1, 10)] # set topic 10 as reference category\n",
        "\n",
        "\n",
        "X = data[X_vars]\n",
        "y = data['helpful logit']\n",
        "\n",
        "X = sm.add_constant(X)\n",
        "\n",
        "# Fit logistic regression model\n",
        "logit_model = sm.Logit(y, X)\n",
        "result = logit_model.fit()\n",
        "\n",
        "print(result.summary())"
      ],
      "metadata": {
        "colab": {
          "base_uri": "https://localhost:8080/"
        },
        "outputId": "2ab66658-d177-46d2-e857-0a8b0a79c2c6",
        "id": "Ucg6mCcUUZSn"
      },
      "execution_count": null,
      "outputs": [
        {
          "output_type": "stream",
          "name": "stdout",
          "text": [
            "Optimization terminated successfully.\n",
            "         Current function value: 0.650263\n",
            "         Iterations 5\n",
            "                           Logit Regression Results                           \n",
            "==============================================================================\n",
            "Dep. Variable:          helpful logit   No. Observations:                 5405\n",
            "Model:                          Logit   Df Residuals:                     5395\n",
            "Method:                           MLE   Df Model:                            9\n",
            "Date:                Tue, 22 Jul 2025   Pseudo R-squ.:                 0.04799\n",
            "Time:                        04:10:25   Log-Likelihood:                -3514.7\n",
            "converged:                       True   LL-Null:                       -3691.9\n",
            "Covariance Type:            nonrobust   LLR p-value:                 7.289e-71\n",
            "==============================================================================\n",
            "                 coef    std err          z      P>|z|      [0.025      0.975]\n",
            "------------------------------------------------------------------------------\n",
            "const         -1.5541      0.164     -9.469      0.000      -1.876      -1.232\n",
            "topic1         2.0887      0.260      8.028      0.000       1.579       2.599\n",
            "topic2         1.6172      0.293      5.525      0.000       1.044       2.191\n",
            "topic3         0.2374      0.380      0.625      0.532      -0.507       0.981\n",
            "topic4         1.2305      0.240      5.136      0.000       0.761       1.700\n",
            "topic5         3.2456      0.279     11.616      0.000       2.698       3.793\n",
            "topic6        -1.4528      0.318     -4.565      0.000      -2.077      -0.829\n",
            "topic7         1.8667      0.290      6.439      0.000       1.299       2.435\n",
            "topic8         0.9218      0.280      3.288      0.001       0.372       1.471\n",
            "topic9         2.5512      0.276      9.258      0.000       2.011       3.091\n",
            "==============================================================================\n"
          ]
        }
      ]
    },
    {
      "cell_type": "code",
      "source": [
        "from statsmodels.stats.outliers_influence import variance_inflation_factor\n",
        "\n",
        "# Calculate VIF\n",
        "X_no_const = X.drop(columns='const')\n",
        "\n",
        "vif_df = pd.DataFrame({\n",
        "    'Variable': X_no_const.columns,\n",
        "    'VIF': [variance_inflation_factor(X_no_const.values, i) for i in range(X_no_const.shape[1])]\n",
        "})\n",
        "\n",
        "vif_df['VIF'] = vif_df['VIF'].round(3)\n",
        "\n",
        "print(vif_df)"
      ],
      "metadata": {
        "colab": {
          "base_uri": "https://localhost:8080/"
        },
        "outputId": "4ffbd43d-76cc-4643-a53b-acd0f738f19a",
        "id": "4ehGfFY7UZSo"
      },
      "execution_count": null,
      "outputs": [
        {
          "output_type": "stream",
          "name": "stdout",
          "text": [
            "  Variable    VIF\n",
            "0   topic1  1.357\n",
            "1   topic2  1.553\n",
            "2   topic3  1.360\n",
            "3   topic4  1.443\n",
            "4   topic5  1.374\n",
            "5   topic6  1.284\n",
            "6   topic7  1.305\n",
            "7   topic8  1.399\n",
            "8   topic9  1.344\n"
          ]
        }
      ]
    },
    {
      "cell_type": "code",
      "source": [
        "print(f\"AIC: {result.aic:.3f}\")\n",
        "print(f\"BIC: {result.bic:.3f}\")"
      ],
      "metadata": {
        "colab": {
          "base_uri": "https://localhost:8080/"
        },
        "id": "XTlhuSzoaZiM",
        "outputId": "5b9624ca-67ae-453e-e891-302568bc2e8f"
      },
      "execution_count": null,
      "outputs": [
        {
          "output_type": "stream",
          "name": "stdout",
          "text": [
            "AIC: 7049.344\n",
            "BIC: 7115.295\n"
          ]
        }
      ]
    },
    {
      "cell_type": "code",
      "source": [
        "import numpy as np\n",
        "import pandas as pd\n",
        "\n",
        "summary_table = pd.DataFrame({\n",
        "    'Variable': result.params.index,\n",
        "    'Coef': result.params.values,\n",
        "    'StdErr': result.bse,\n",
        "    'P-value': result.pvalues,\n",
        "})\n",
        "\n",
        "summary_table['Odds Ratio'] = np.exp(summary_table['Coef'])\n",
        "summary_table['Signif'] = summary_table['P-value'].apply(\n",
        "    lambda p: '***' if p < 0.001 else '**' if p < 0.01 else '*' if p < 0.05 else ''\n",
        ")\n",
        "\n",
        "summary_table['Coef'] = summary_table['Coef'].round(3)\n",
        "summary_table['Odds Ratio'] = summary_table['Odds Ratio'].round(3)\n",
        "summary_table['P-value'] = summary_table['P-value'].round(3)\n",
        "\n",
        "summary_table = summary_table[['Variable', 'Coef', 'Odds Ratio', 'P-value', 'Signif']]\n",
        "print(summary_table)"
      ],
      "metadata": {
        "colab": {
          "base_uri": "https://localhost:8080/"
        },
        "outputId": "a9612712-bf5e-4098-d62b-2ff3890394c8",
        "id": "di8pZfa9UZSq"
      },
      "execution_count": null,
      "outputs": [
        {
          "output_type": "stream",
          "name": "stdout",
          "text": [
            "       Variable   Coef  Odds Ratio  P-value Signif\n",
            "const     const -1.554       0.211    0.000    ***\n",
            "topic1   topic1  2.089       8.074    0.000    ***\n",
            "topic2   topic2  1.617       5.039    0.000    ***\n",
            "topic3   topic3  0.237       1.268    0.532       \n",
            "topic4   topic4  1.230       3.423    0.000    ***\n",
            "topic5   topic5  3.246      25.678    0.000    ***\n",
            "topic6   topic6 -1.453       0.234    0.000    ***\n",
            "topic7   topic7  1.867       6.467    0.000    ***\n",
            "topic8   topic8  0.922       2.514    0.001     **\n",
            "topic9   topic9  2.551      12.822    0.000    ***\n"
          ]
        }
      ]
    },
    {
      "cell_type": "markdown",
      "source": [
        "# Word-level Logistic Regression"
      ],
      "metadata": {
        "id": "TdrptYYhmts4"
      }
    },
    {
      "cell_type": "code",
      "source": [
        "# Extract top 3 words for each topic\n",
        "top_words = []\n",
        "vocab = vectorizer.get_feature_names_out()\n",
        "word_to_topics = {}\n",
        "\n",
        "for topic_idx, topic in enumerate(lda_model.components_, start=1):\n",
        "    top_indices = topic.argsort()[::-1][:3]\n",
        "    for i in top_indices:\n",
        "        word = vocab[i]\n",
        "        top_words.append(word)\n",
        "        if word in word_to_topics:\n",
        "            word_to_topics[word].append(topic_idx)\n",
        "        else:\n",
        "            word_to_topics[word] = [topic_idx]\n",
        "\n",
        "for word, topics in word_to_topics.items():\n",
        "    print(f\"{word} → topic(s): {topics}\")"
      ],
      "metadata": {
        "id": "8ij3XDBym5bn",
        "colab": {
          "base_uri": "https://localhost:8080/"
        },
        "outputId": "1023ab21-909d-48d5-85a8-3071720847ee"
      },
      "execution_count": null,
      "outputs": [
        {
          "output_type": "stream",
          "name": "stdout",
          "text": [
            "game → topic(s): [1, 4, 8]\n",
            "play → topic(s): [1, 4]\n",
            "headset → topic(s): [1, 2, 9, 10]\n",
            "work → topic(s): [2]\n",
            "issue → topic(s): [2]\n",
            "controller → topic(s): [3]\n",
            "button → topic(s): [3]\n",
            "brille → topic(s): [3]\n",
            "experience → topic(s): [4]\n",
            "htc → topic(s): [5]\n",
            "month → topic(s): [5]\n",
            "base → topic(s): [5]\n",
            "product → topic(s): [6]\n",
            "price → topic(s): [6]\n",
            "christmas → topic(s): [6]\n",
            "phone → topic(s): [7]\n",
            "samsung → topic(s): [7]\n",
            "note → topic(s): [7]\n",
            "vive → topic(s): [8, 9]\n",
            "set → topic(s): [8]\n",
            "rift → topic(s): [9]\n",
            "quality → topic(s): [10]\n",
            "lens → topic(s): [10]\n"
          ]
        }
      ]
    },
    {
      "cell_type": "code",
      "source": [
        "# Remove duplicates\n",
        "unique_top_words = list(dict.fromkeys(top_words))  # 순서 유지하면서 중복 제거\n",
        "selected_words = unique_top_words[:30]"
      ],
      "metadata": {
        "id": "Oxi_TtFo8i9s"
      },
      "execution_count": null,
      "outputs": []
    },
    {
      "cell_type": "code",
      "source": [
        "# Create binary indicators for word presence\n",
        "for word in selected_words:\n",
        "    data[f'has_{word}'] = data['processed_text'].apply(lambda x: 1 if word in x else 0)"
      ],
      "metadata": {
        "id": "Am24mZGn8hvs"
      },
      "execution_count": null,
      "outputs": []
    },
    {
      "cell_type": "code",
      "source": [
        "binary_cols = [col for col in data.columns if col.startswith(\"has_\")]\n",
        "binary_cols.append('helpful logit')\n",
        "\n",
        "binary_data = data[binary_cols]\n",
        "\n",
        "summary_stats = binary_data.agg(['mean', 'std', 'min', 'max']).T\n",
        "summary_stats.columns = ['Mean', 'Std', 'Min', 'Max']\n",
        "summary_stats = summary_stats.round(3)\n",
        "\n",
        "print(\"\\n=== Fundamental Stats (Mean, Std, Min, Max) ===\")\n",
        "print(summary_stats)"
      ],
      "metadata": {
        "colab": {
          "base_uri": "https://localhost:8080/"
        },
        "id": "MWeT27Qdq2nX",
        "outputId": "08d05936-5752-4ca0-d785-aa3bf31320eb"
      },
      "execution_count": null,
      "outputs": [
        {
          "output_type": "stream",
          "name": "stdout",
          "text": [
            "\n",
            "=== Fundamental Stats (Mean, Std, Min, Max) ===\n",
            "                 Mean    Std  Min  Max\n",
            "has_game        0.214  0.410  0.0  1.0\n",
            "has_play        0.147  0.354  0.0  1.0\n",
            "has_headset     0.175  0.380  0.0  1.0\n",
            "has_work        0.215  0.411  0.0  1.0\n",
            "has_issue       0.083  0.276  0.0  1.0\n",
            "has_controller  0.095  0.293  0.0  1.0\n",
            "has_button      0.026  0.161  0.0  1.0\n",
            "has_brille      0.008  0.088  0.0  1.0\n",
            "has_experience  0.159  0.366  0.0  1.0\n",
            "has_htc         0.092  0.289  0.0  1.0\n",
            "has_month       0.049  0.216  0.0  1.0\n",
            "has_base        0.042  0.201  0.0  1.0\n",
            "has_product     0.141  0.348  0.0  1.0\n",
            "has_price       0.100  0.300  0.0  1.0\n",
            "has_christmas   0.021  0.144  0.0  1.0\n",
            "has_phone       0.087  0.282  0.0  1.0\n",
            "has_samsung     0.042  0.200  0.0  1.0\n",
            "has_note        0.031  0.174  0.0  1.0\n",
            "has_vive        0.148  0.355  0.0  1.0\n",
            "has_set         0.089  0.285  0.0  1.0\n",
            "has_rift        0.043  0.204  0.0  1.0\n",
            "has_quality     0.083  0.275  0.0  1.0\n",
            "has_lens        0.047  0.212  0.0  1.0\n",
            "helpful logit   0.429  0.495  0.0  1.0\n"
          ]
        }
      ]
    },
    {
      "cell_type": "code",
      "source": [
        "from scipy.stats import pearsonr\n",
        "import pandas as pd\n",
        "\n",
        "# Correlation and p-value calculation\n",
        "corr_matrix = pd.DataFrame(index=binary_cols, columns=binary_cols)\n",
        "pval_matrix = pd.DataFrame(index=binary_cols, columns=binary_cols)\n",
        "\n",
        "for col1 in binary_cols:\n",
        "    for col2 in binary_cols:\n",
        "        if col1 == col2:\n",
        "            corr_matrix.loc[col1, col2] = 1.0\n",
        "            pval_matrix.loc[col1, col2] = 0.0\n",
        "        else:\n",
        "            r, p = pearsonr(binary_data[col1], binary_data[col2])\n",
        "            corr_matrix.loc[col1, col2] = r\n",
        "            pval_matrix.loc[col1, col2] = p\n",
        "\n",
        "# Significance annotation function\n",
        "def get_stars(p):\n",
        "    if p < 0.001:\n",
        "        return '***'\n",
        "    elif p < 0.01:\n",
        "        return '**'\n",
        "    elif p < 0.05:\n",
        "        return '*'\n",
        "    else:\n",
        "        return ''\n",
        "\n",
        "annotated_corr = pd.DataFrame(index=binary_cols, columns=binary_cols)\n",
        "\n",
        "for i, col1 in enumerate(binary_cols):\n",
        "    for j, col2 in enumerate(binary_cols):\n",
        "        if i < j:\n",
        "            annotated_corr.loc[col1, col2] = ''\n",
        "        elif i == j:\n",
        "            annotated_corr.loc[col1, col2] = \"1.00\"\n",
        "        else:\n",
        "            r = corr_matrix.loc[col1, col2]\n",
        "            p = pval_matrix.loc[col1, col2]\n",
        "            annotated_corr.loc[col1, col2] = f\"{float(r):.3f}{get_stars(float(p))}\"\n",
        "\n",
        "pd.set_option('display.max_columns', None)\n",
        "pd.set_option('display.max_rows', None)\n",
        "\n",
        "print(\"\\n=== Correlation Matrix (with significance stars) ===\")\n",
        "print(annotated_corr)"
      ],
      "metadata": {
        "colab": {
          "base_uri": "https://localhost:8080/"
        },
        "id": "nVT_r-2IsNpf",
        "outputId": "6d53628d-3194-46a5-aad5-840f371ae044"
      },
      "execution_count": null,
      "outputs": [
        {
          "output_type": "stream",
          "name": "stdout",
          "text": [
            "\n",
            "=== Correlation Matrix (with significance stars) ===\n",
            "                has_game  has_play has_headset   has_work has_issue  \\\n",
            "has_game            1.00                                              \n",
            "has_play        0.486***      1.00                                    \n",
            "has_headset     0.249***  0.238***        1.00                        \n",
            "has_work        0.058***  0.094***    0.185***       1.00             \n",
            "has_issue       0.144***  0.163***    0.215***   0.200***      1.00   \n",
            "has_controller  0.226***  0.204***    0.295***   0.164***  0.221***   \n",
            "has_button       0.043**  0.075***    0.112***   0.116***  0.109***   \n",
            "has_brille      -0.041**  -0.037**      -0.024  -0.046***    -0.027   \n",
            "has_experience  0.311***  0.251***    0.238***   0.064***  0.162***   \n",
            "has_htc         0.154***  0.145***    0.186***   0.148***  0.222***   \n",
            "has_month       0.104***  0.105***    0.114***   0.134***  0.137***   \n",
            "has_base        0.088***  0.118***    0.160***   0.119***  0.177***   \n",
            "has_product        0.008     0.014    0.074***   0.054***  0.121***   \n",
            "has_price       0.113***  0.102***    0.133***    0.045**  0.054***   \n",
            "has_christmas     0.027*   0.045**       0.000    0.039**     0.002   \n",
            "has_phone         -0.023     0.015    0.089***   0.138***  0.062***   \n",
            "has_samsung        0.013   0.044**    0.064***   0.102***    0.034*   \n",
            "has_note        0.047***  0.064***    0.119***   0.117***  0.085***   \n",
            "has_vive        0.254***  0.229***    0.245***   0.150***  0.245***   \n",
            "has_set         0.207***  0.182***    0.199***   0.103***  0.108***   \n",
            "has_rift        0.154***  0.137***    0.147***    0.041**  0.100***   \n",
            "has_quality     0.098***  0.077***    0.129***     0.033*  0.100***   \n",
            "has_lens          0.031*  0.056***    0.098***     0.029*  0.085***   \n",
            "helpful logit   0.213***  0.160***    0.207***   0.110***  0.166***   \n",
            "\n",
            "               has_controller has_button has_brille has_experience   has_htc  \\\n",
            "has_game                                                                       \n",
            "has_play                                                                       \n",
            "has_headset                                                                    \n",
            "has_work                                                                       \n",
            "has_issue                                                                      \n",
            "has_controller           1.00                                                  \n",
            "has_button           0.116***       1.00                                       \n",
            "has_brille             -0.007     -0.015       1.00                            \n",
            "has_experience       0.195***   0.048***   -0.038**           1.00             \n",
            "has_htc              0.212***    0.035**    -0.028*       0.138***      1.00   \n",
            "has_month            0.109***      0.005     -0.020       0.077***  0.216***   \n",
            "has_base             0.174***     0.034*     -0.019       0.057***  0.200***   \n",
            "has_product          0.053***      0.026   -0.036**       0.045***  0.125***   \n",
            "has_price            0.107***   0.053***    -0.030*       0.131***  0.077***   \n",
            "has_christmas           0.005     -0.016     -0.013         -0.011     0.020   \n",
            "has_phone               0.017   0.179***    -0.027*       0.056***    -0.014   \n",
            "has_samsung          0.068***   0.063***     -0.008       0.068***    -0.019   \n",
            "has_note             0.051***   0.097***     -0.016       0.103***  0.054***   \n",
            "has_vive             0.254***    0.042**   -0.037**       0.229***  0.510***   \n",
            "has_set              0.165***   0.074***    -0.028*       0.164***  0.105***   \n",
            "has_rift             0.198***     0.027*      0.002       0.130***  0.189***   \n",
            "has_quality          0.078***   0.072***     -0.027       0.112***  0.060***   \n",
            "has_lens             0.072***   0.132***     -0.020       0.066***   0.035**   \n",
            "helpful logit        0.162***   0.078***      0.017       0.186***  0.205***   \n",
            "\n",
            "               has_month  has_base has_product has_price has_christmas  \\\n",
            "has_game                                                                 \n",
            "has_play                                                                 \n",
            "has_headset                                                              \n",
            "has_work                                                                 \n",
            "has_issue                                                                \n",
            "has_controller                                                           \n",
            "has_button                                                               \n",
            "has_brille                                                               \n",
            "has_experience                                                           \n",
            "has_htc                                                                  \n",
            "has_month           1.00                                                 \n",
            "has_base        0.196***      1.00                                       \n",
            "has_product     0.069***  0.050***        1.00                           \n",
            "has_price         -0.001   0.040**    0.087***      1.00                 \n",
            "has_christmas    0.038**    -0.005       0.004    -0.023          1.00   \n",
            "has_phone         -0.006     0.004    0.053***  0.046***         0.000   \n",
            "has_samsung       -0.022    -0.007     0.038**    0.032*         0.014   \n",
            "has_note           0.009   0.037**     0.044**     0.022        -0.019   \n",
            "has_vive        0.205***  0.208***    0.091***  0.109***         0.015   \n",
            "has_set         0.047***  0.096***    0.062***  0.105***      0.053***   \n",
            "has_rift        0.057***  0.068***      0.034*  0.128***         0.000   \n",
            "has_quality       0.035*  0.074***    0.070***  0.135***         0.003   \n",
            "has_lens          -0.010     0.023       0.011  0.069***        -0.027   \n",
            "helpful logit   0.154***  0.129***    0.059***  0.053***       0.039**   \n",
            "\n",
            "               has_phone has_samsung  has_note  has_vive   has_set  has_rift  \\\n",
            "has_game                                                                       \n",
            "has_play                                                                       \n",
            "has_headset                                                                    \n",
            "has_work                                                                       \n",
            "has_issue                                                                      \n",
            "has_controller                                                                 \n",
            "has_button                                                                     \n",
            "has_brille                                                                     \n",
            "has_experience                                                                 \n",
            "has_htc                                                                        \n",
            "has_month                                                                      \n",
            "has_base                                                                       \n",
            "has_product                                                                    \n",
            "has_price                                                                      \n",
            "has_christmas                                                                  \n",
            "has_phone           1.00                                                       \n",
            "has_samsung     0.248***        1.00                                           \n",
            "has_note        0.157***    0.181***      1.00                                 \n",
            "has_vive        -0.041**      -0.022   0.042**      1.00                       \n",
            "has_set         0.047***     0.042**   0.041**  0.142***      1.00             \n",
            "has_rift           0.002    0.064***     0.025  0.282***  0.089***      1.00   \n",
            "has_quality     0.046***      0.028*  0.055***  0.106***  0.083***  0.084***   \n",
            "has_lens        0.121***    0.045***  0.061***    0.033*  0.065***  0.047***   \n",
            "helpful logit   0.065***    0.079***  0.101***  0.224***  0.099***  0.125***   \n",
            "\n",
            "               has_quality  has_lens helpful logit  \n",
            "has_game                                            \n",
            "has_play                                            \n",
            "has_headset                                         \n",
            "has_work                                            \n",
            "has_issue                                           \n",
            "has_controller                                      \n",
            "has_button                                          \n",
            "has_brille                                          \n",
            "has_experience                                      \n",
            "has_htc                                             \n",
            "has_month                                           \n",
            "has_base                                            \n",
            "has_product                                         \n",
            "has_price                                           \n",
            "has_christmas                                       \n",
            "has_phone                                           \n",
            "has_samsung                                         \n",
            "has_note                                            \n",
            "has_vive                                            \n",
            "has_set                                             \n",
            "has_rift                                            \n",
            "has_quality           1.00                          \n",
            "has_lens          0.102***      1.00                \n",
            "helpful logit      0.040**  0.072***          1.00  \n"
          ]
        }
      ]
    },
    {
      "cell_type": "code",
      "source": [
        "import statsmodels.api as sm\n",
        "\n",
        "X_vars = [col for col in data.columns if col.startswith('has_')]\n",
        "\n",
        "X = data[X_vars]\n",
        "y = data['helpful logit']\n",
        "\n",
        "X = sm.add_constant(X)\n",
        "\n",
        "# Fit logit regression model\n",
        "logit_model = sm.Logit(y, X)\n",
        "result = logit_model.fit()\n",
        "\n",
        "print(result.summary())"
      ],
      "metadata": {
        "colab": {
          "base_uri": "https://localhost:8080/"
        },
        "outputId": "3a402867-529b-4c2a-c774-51851d3d590a",
        "id": "PU3lQ0GUjYwd"
      },
      "execution_count": null,
      "outputs": [
        {
          "output_type": "stream",
          "name": "stdout",
          "text": [
            "Optimization terminated successfully.\n",
            "         Current function value: 0.609706\n",
            "         Iterations 6\n",
            "                           Logit Regression Results                           \n",
            "==============================================================================\n",
            "Dep. Variable:          helpful logit   No. Observations:                 5405\n",
            "Model:                          Logit   Df Residuals:                     5381\n",
            "Method:                           MLE   Df Model:                           23\n",
            "Date:                Tue, 22 Jul 2025   Pseudo R-squ.:                  0.1074\n",
            "Time:                        04:10:26   Log-Likelihood:                -3295.5\n",
            "converged:                       True   LL-Null:                       -3691.9\n",
            "Covariance Type:            nonrobust   LLR p-value:                1.162e-152\n",
            "==================================================================================\n",
            "                     coef    std err          z      P>|z|      [0.025      0.975]\n",
            "----------------------------------------------------------------------------------\n",
            "const             -0.9576      0.043    -22.414      0.000      -1.041      -0.874\n",
            "has_game           0.5983      0.085      7.028      0.000       0.431       0.765\n",
            "has_play           0.0585      0.099      0.593      0.553      -0.135       0.252\n",
            "has_headset        0.4641      0.087      5.352      0.000       0.294       0.634\n",
            "has_work           0.0920      0.077      1.200      0.230      -0.058       0.242\n",
            "has_issue          0.4344      0.122      3.557      0.000       0.195       0.674\n",
            "has_controller     0.2021      0.116      1.744      0.081      -0.025       0.429\n",
            "has_button         0.4894      0.202      2.421      0.015       0.093       0.886\n",
            "has_brille         0.9593      0.313      3.060      0.002       0.345       1.574\n",
            "has_experience     0.4735      0.089      5.345      0.000       0.300       0.647\n",
            "has_htc            0.6824      0.129      5.285      0.000       0.429       0.935\n",
            "has_month          0.9254      0.162      5.713      0.000       0.608       1.243\n",
            "has_base           0.5540      0.171      3.231      0.001       0.218       0.890\n",
            "has_product        0.0990      0.088      1.127      0.260      -0.073       0.271\n",
            "has_price         -0.0409      0.104     -0.392      0.695      -0.245       0.164\n",
            "has_christmas      0.5064      0.205      2.465      0.014       0.104       0.909\n",
            "has_phone          0.2110      0.111      1.893      0.058      -0.007       0.429\n",
            "has_samsung        0.5151      0.156      3.298      0.001       0.209       0.821\n",
            "has_note           0.7625      0.191      3.998      0.000       0.389       1.136\n",
            "has_vive           0.4265      0.104      4.091      0.000       0.222       0.631\n",
            "has_set            0.0395      0.112      0.353      0.724      -0.180       0.259\n",
            "has_rift           0.4604      0.168      2.733      0.006       0.130       0.791\n",
            "has_quality       -0.2284      0.115     -1.990      0.047      -0.453      -0.003\n",
            "has_lens           0.4443      0.146      3.039      0.002       0.158       0.731\n",
            "==================================================================================\n"
          ]
        }
      ]
    },
    {
      "cell_type": "code",
      "source": [
        "from statsmodels.stats.outliers_influence import variance_inflation_factor\n",
        "\n",
        "# Calculate VIF\n",
        "X_no_const = X.drop(columns='const')\n",
        "\n",
        "vif_df = pd.DataFrame({\n",
        "    'Variable': X_no_const.columns,\n",
        "    'VIF': [variance_inflation_factor(X_no_const.values, i) for i in range(X_no_const.shape[1])]\n",
        "})\n",
        "\n",
        "vif_df['VIF'] = vif_df['VIF'].round(3)\n",
        "\n",
        "print(vif_df)"
      ],
      "metadata": {
        "colab": {
          "base_uri": "https://localhost:8080/"
        },
        "outputId": "2d75c1c8-b569-440b-e148-c69e811b9eac",
        "id": "Dh4iJQgPjYwf"
      },
      "execution_count": null,
      "outputs": [
        {
          "output_type": "stream",
          "name": "stdout",
          "text": [
            "          Variable    VIF\n",
            "0         has_game  1.785\n",
            "1         has_play  1.618\n",
            "2      has_headset  1.527\n",
            "3         has_work  1.350\n",
            "4        has_issue  1.291\n",
            "5   has_controller  1.364\n",
            "6       has_button  1.107\n",
            "7       has_brille  1.001\n",
            "8   has_experience  1.420\n",
            "9          has_htc  1.568\n",
            "10       has_month  1.162\n",
            "11        has_base  1.168\n",
            "12     has_product  1.155\n",
            "13       has_price  1.174\n",
            "14   has_christmas  1.025\n",
            "15       has_phone  1.231\n",
            "16     has_samsung  1.153\n",
            "17        has_note  1.112\n",
            "18        has_vive  1.837\n",
            "19         has_set  1.214\n",
            "20        has_rift  1.184\n",
            "21     has_quality  1.145\n",
            "22        has_lens  1.095\n"
          ]
        }
      ]
    },
    {
      "cell_type": "code",
      "source": [
        "print(f\"AIC: {result.aic:.3f}\")\n",
        "print(f\"BIC: {result.bic:.3f}\")"
      ],
      "metadata": {
        "colab": {
          "base_uri": "https://localhost:8080/"
        },
        "outputId": "2b2a7de4-2759-46ef-c1fd-dffcae08b59d",
        "id": "pjRKmrpcjYwf"
      },
      "execution_count": null,
      "outputs": [
        {
          "output_type": "stream",
          "name": "stdout",
          "text": [
            "AIC: 6638.925\n",
            "BIC: 6797.207\n"
          ]
        }
      ]
    },
    {
      "cell_type": "code",
      "source": [
        "import numpy as np\n",
        "import pandas as pd\n",
        "\n",
        "summary_table = pd.DataFrame({\n",
        "    'Variable': result.params.index,\n",
        "    'Coef': result.params.values,\n",
        "    'StdErr': result.bse,\n",
        "    'P-value': result.pvalues,\n",
        "})\n",
        "\n",
        "summary_table['Odds Ratio'] = np.exp(summary_table['Coef'])\n",
        "summary_table['Signif'] = summary_table['P-value'].apply(\n",
        "    lambda p: '***' if p < 0.001 else '**' if p < 0.01 else '*' if p < 0.05 else ''\n",
        ")\n",
        "\n",
        "summary_table['Coef'] = summary_table['Coef'].round(3)\n",
        "summary_table['Odds Ratio'] = summary_table['Odds Ratio'].round(3)\n",
        "summary_table['P-value'] = summary_table['P-value'].round(3)\n",
        "\n",
        "summary_table = summary_table[['Variable', 'Coef', 'Odds Ratio', 'P-value', 'Signif']]\n",
        "print(summary_table)"
      ],
      "metadata": {
        "colab": {
          "base_uri": "https://localhost:8080/"
        },
        "outputId": "df15f969-a057-41a1-8aec-75369cb3fb98",
        "id": "h9REfk0cjYwf"
      },
      "execution_count": null,
      "outputs": [
        {
          "output_type": "stream",
          "name": "stdout",
          "text": [
            "                      Variable   Coef  Odds Ratio  P-value Signif\n",
            "const                    const -0.958       0.384    0.000    ***\n",
            "has_game              has_game  0.598       1.819    0.000    ***\n",
            "has_play              has_play  0.059       1.060    0.553       \n",
            "has_headset        has_headset  0.464       1.591    0.000    ***\n",
            "has_work              has_work  0.092       1.096    0.230       \n",
            "has_issue            has_issue  0.434       1.544    0.000    ***\n",
            "has_controller  has_controller  0.202       1.224    0.081       \n",
            "has_button          has_button  0.489       1.631    0.015      *\n",
            "has_brille          has_brille  0.959       2.610    0.002     **\n",
            "has_experience  has_experience  0.474       1.606    0.000    ***\n",
            "has_htc                has_htc  0.682       1.979    0.000    ***\n",
            "has_month            has_month  0.925       2.523    0.000    ***\n",
            "has_base              has_base  0.554       1.740    0.001     **\n",
            "has_product        has_product  0.099       1.104    0.260       \n",
            "has_price            has_price -0.041       0.960    0.695       \n",
            "has_christmas    has_christmas  0.506       1.659    0.014      *\n",
            "has_phone            has_phone  0.211       1.235    0.058       \n",
            "has_samsung        has_samsung  0.515       1.674    0.001    ***\n",
            "has_note              has_note  0.763       2.144    0.000    ***\n",
            "has_vive              has_vive  0.426       1.532    0.000    ***\n",
            "has_set                has_set  0.040       1.040    0.724       \n",
            "has_rift              has_rift  0.460       1.585    0.006     **\n",
            "has_quality        has_quality -0.228       0.796    0.047      *\n",
            "has_lens              has_lens  0.444       1.559    0.002     **\n"
          ]
        }
      ]
    }
  ]
}